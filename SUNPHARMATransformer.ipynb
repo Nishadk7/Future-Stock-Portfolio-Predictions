{
  "cells": [
    {
      "cell_type": "code",
      "execution_count": null,
      "metadata": {
        "id": "ElzIUaQGadps"
      },
      "outputs": [],
      "source": [
        "import numpy as np\n",
        "import matplotlib.pyplot as plt\n",
        "import pandas as pd\n",
        "import os \n",
        "import tensorflow as tf\n",
        "import tensorflow_datasets as tfds\n",
        "from sklearn.preprocessing import MinMaxScaler"
      ]
    },
    {
      "cell_type": "code",
      "execution_count": null,
      "metadata": {
        "id": "ECJYs_ANO0nO",
        "colab": {
          "base_uri": "https://localhost:8080/"
        },
        "outputId": "d127b0d9-3ab2-45d2-af56-229fc8a9aa78"
      },
      "outputs": [
        {
          "output_type": "stream",
          "name": "stdout",
          "text": [
            "Mounted at /content/drive\n"
          ]
        }
      ],
      "source": [
        "from google.colab import drive\n",
        "drive.mount('/content/drive')\n"
      ]
    },
    {
      "cell_type": "code",
      "execution_count": null,
      "metadata": {
        "id": "vgwt0lhi9TqR",
        "colab": {
          "base_uri": "https://localhost:8080/"
        },
        "outputId": "f0fe9a8d-3c05-40ce-8e7f-4ee606e8389f"
      },
      "outputs": [
        {
          "output_type": "execute_result",
          "data": {
            "text/plain": [
              "<module 'tensorflow._api.v2.version' from '/usr/local/lib/python3.8/dist-packages/tensorflow/_api/v2/version/__init__.py'>"
            ]
          },
          "metadata": {},
          "execution_count": 3
        }
      ],
      "source": [
        "tf.version"
      ]
    },
    {
      "cell_type": "markdown",
      "metadata": {
        "id": "GCMYV6lun9x9"
      },
      "source": [
        "# PREPROCESSING"
      ]
    },
    {
      "cell_type": "markdown",
      "metadata": {
        "id": "5KZb3n9koEEl"
      },
      "source": [
        "Read IBM stock OHLC ( open, high, low, close) and S&P 500 bid/ask data. data into pandas dataframe."
      ]
    },
    {
      "cell_type": "code",
      "execution_count": null,
      "metadata": {
        "id": "2-EtUNr9aypc",
        "colab": {
          "base_uri": "https://localhost:8080/",
          "height": 206
        },
        "outputId": "3dc399d8-bea8-4566-a10e-aa91ff91c077"
      },
      "outputs": [
        {
          "output_type": "execute_result",
          "data": {
            "text/plain": [
              "         Date    Open     High     Low     Last    Close  Volume\n",
              "0  03-01-2000  1800.0  1835.05  1760.0  1835.05  1835.05    3024\n",
              "1  04-01-2000  1960.0  1960.00  1763.0  1811.50  1810.45    5787\n",
              "2  05-01-2000  1845.0  1845.00  1740.0  1745.00  1746.90    6105\n",
              "3  06-01-2000  1750.0  1795.00  1735.0  1748.00  1745.20    3472\n",
              "4  07-01-2000  1705.0  1705.00  1605.6  1605.60  1605.60    4125"
            ],
            "text/html": [
              "\n",
              "  <div id=\"df-840f5be7-f537-4390-b6e6-f43dc04c3b11\">\n",
              "    <div class=\"colab-df-container\">\n",
              "      <div>\n",
              "<style scoped>\n",
              "    .dataframe tbody tr th:only-of-type {\n",
              "        vertical-align: middle;\n",
              "    }\n",
              "\n",
              "    .dataframe tbody tr th {\n",
              "        vertical-align: top;\n",
              "    }\n",
              "\n",
              "    .dataframe thead th {\n",
              "        text-align: right;\n",
              "    }\n",
              "</style>\n",
              "<table border=\"1\" class=\"dataframe\">\n",
              "  <thead>\n",
              "    <tr style=\"text-align: right;\">\n",
              "      <th></th>\n",
              "      <th>Date</th>\n",
              "      <th>Open</th>\n",
              "      <th>High</th>\n",
              "      <th>Low</th>\n",
              "      <th>Last</th>\n",
              "      <th>Close</th>\n",
              "      <th>Volume</th>\n",
              "    </tr>\n",
              "  </thead>\n",
              "  <tbody>\n",
              "    <tr>\n",
              "      <th>0</th>\n",
              "      <td>03-01-2000</td>\n",
              "      <td>1800.0</td>\n",
              "      <td>1835.05</td>\n",
              "      <td>1760.0</td>\n",
              "      <td>1835.05</td>\n",
              "      <td>1835.05</td>\n",
              "      <td>3024</td>\n",
              "    </tr>\n",
              "    <tr>\n",
              "      <th>1</th>\n",
              "      <td>04-01-2000</td>\n",
              "      <td>1960.0</td>\n",
              "      <td>1960.00</td>\n",
              "      <td>1763.0</td>\n",
              "      <td>1811.50</td>\n",
              "      <td>1810.45</td>\n",
              "      <td>5787</td>\n",
              "    </tr>\n",
              "    <tr>\n",
              "      <th>2</th>\n",
              "      <td>05-01-2000</td>\n",
              "      <td>1845.0</td>\n",
              "      <td>1845.00</td>\n",
              "      <td>1740.0</td>\n",
              "      <td>1745.00</td>\n",
              "      <td>1746.90</td>\n",
              "      <td>6105</td>\n",
              "    </tr>\n",
              "    <tr>\n",
              "      <th>3</th>\n",
              "      <td>06-01-2000</td>\n",
              "      <td>1750.0</td>\n",
              "      <td>1795.00</td>\n",
              "      <td>1735.0</td>\n",
              "      <td>1748.00</td>\n",
              "      <td>1745.20</td>\n",
              "      <td>3472</td>\n",
              "    </tr>\n",
              "    <tr>\n",
              "      <th>4</th>\n",
              "      <td>07-01-2000</td>\n",
              "      <td>1705.0</td>\n",
              "      <td>1705.00</td>\n",
              "      <td>1605.6</td>\n",
              "      <td>1605.60</td>\n",
              "      <td>1605.60</td>\n",
              "      <td>4125</td>\n",
              "    </tr>\n",
              "  </tbody>\n",
              "</table>\n",
              "</div>\n",
              "      <button class=\"colab-df-convert\" onclick=\"convertToInteractive('df-840f5be7-f537-4390-b6e6-f43dc04c3b11')\"\n",
              "              title=\"Convert this dataframe to an interactive table.\"\n",
              "              style=\"display:none;\">\n",
              "        \n",
              "  <svg xmlns=\"http://www.w3.org/2000/svg\" height=\"24px\"viewBox=\"0 0 24 24\"\n",
              "       width=\"24px\">\n",
              "    <path d=\"M0 0h24v24H0V0z\" fill=\"none\"/>\n",
              "    <path d=\"M18.56 5.44l.94 2.06.94-2.06 2.06-.94-2.06-.94-.94-2.06-.94 2.06-2.06.94zm-11 1L8.5 8.5l.94-2.06 2.06-.94-2.06-.94L8.5 2.5l-.94 2.06-2.06.94zm10 10l.94 2.06.94-2.06 2.06-.94-2.06-.94-.94-2.06-.94 2.06-2.06.94z\"/><path d=\"M17.41 7.96l-1.37-1.37c-.4-.4-.92-.59-1.43-.59-.52 0-1.04.2-1.43.59L10.3 9.45l-7.72 7.72c-.78.78-.78 2.05 0 2.83L4 21.41c.39.39.9.59 1.41.59.51 0 1.02-.2 1.41-.59l7.78-7.78 2.81-2.81c.8-.78.8-2.07 0-2.86zM5.41 20L4 18.59l7.72-7.72 1.47 1.35L5.41 20z\"/>\n",
              "  </svg>\n",
              "      </button>\n",
              "      \n",
              "  <style>\n",
              "    .colab-df-container {\n",
              "      display:flex;\n",
              "      flex-wrap:wrap;\n",
              "      gap: 12px;\n",
              "    }\n",
              "\n",
              "    .colab-df-convert {\n",
              "      background-color: #E8F0FE;\n",
              "      border: none;\n",
              "      border-radius: 50%;\n",
              "      cursor: pointer;\n",
              "      display: none;\n",
              "      fill: #1967D2;\n",
              "      height: 32px;\n",
              "      padding: 0 0 0 0;\n",
              "      width: 32px;\n",
              "    }\n",
              "\n",
              "    .colab-df-convert:hover {\n",
              "      background-color: #E2EBFA;\n",
              "      box-shadow: 0px 1px 2px rgba(60, 64, 67, 0.3), 0px 1px 3px 1px rgba(60, 64, 67, 0.15);\n",
              "      fill: #174EA6;\n",
              "    }\n",
              "\n",
              "    [theme=dark] .colab-df-convert {\n",
              "      background-color: #3B4455;\n",
              "      fill: #D2E3FC;\n",
              "    }\n",
              "\n",
              "    [theme=dark] .colab-df-convert:hover {\n",
              "      background-color: #434B5C;\n",
              "      box-shadow: 0px 1px 3px 1px rgba(0, 0, 0, 0.15);\n",
              "      filter: drop-shadow(0px 1px 2px rgba(0, 0, 0, 0.3));\n",
              "      fill: #FFFFFF;\n",
              "    }\n",
              "  </style>\n",
              "\n",
              "      <script>\n",
              "        const buttonEl =\n",
              "          document.querySelector('#df-840f5be7-f537-4390-b6e6-f43dc04c3b11 button.colab-df-convert');\n",
              "        buttonEl.style.display =\n",
              "          google.colab.kernel.accessAllowed ? 'block' : 'none';\n",
              "\n",
              "        async function convertToInteractive(key) {\n",
              "          const element = document.querySelector('#df-840f5be7-f537-4390-b6e6-f43dc04c3b11');\n",
              "          const dataTable =\n",
              "            await google.colab.kernel.invokeFunction('convertToInteractive',\n",
              "                                                     [key], {});\n",
              "          if (!dataTable) return;\n",
              "\n",
              "          const docLinkHtml = 'Like what you see? Visit the ' +\n",
              "            '<a target=\"_blank\" href=https://colab.research.google.com/notebooks/data_table.ipynb>data table notebook</a>'\n",
              "            + ' to learn more about interactive tables.';\n",
              "          element.innerHTML = '';\n",
              "          dataTable['output_type'] = 'display_data';\n",
              "          await google.colab.output.renderOutput(dataTable, element);\n",
              "          const docLink = document.createElement('div');\n",
              "          docLink.innerHTML = docLinkHtml;\n",
              "          element.appendChild(docLink);\n",
              "        }\n",
              "      </script>\n",
              "    </div>\n",
              "  </div>\n",
              "  "
            ]
          },
          "metadata": {},
          "execution_count": 5
        }
      ],
      "source": [
        "\n",
        "df_hdfc = pd.read_csv('/content/drive/MyDrive/SUNPHARMA.csv')\n",
        "\n",
        "#df_hdfc.columns = [\"Date\",\"Open\", \"High\", \"Low\", \"Last\", \"Close\", \"Volume\", \"turnover\"]\n",
        "#df_hdfc = df_hdfc.drop(columns=['Last', 'Volume'])\n",
        "\n",
        "df_hdfc.head()"
      ]
    },
    {
      "cell_type": "markdown",
      "metadata": {
        "id": "YeLQBOMmoZk1"
      },
      "source": [
        "Transform Bid/Ask data to OHLC format by taking average of both low and high counterparts."
      ]
    },
    {
      "cell_type": "code",
      "execution_count": null,
      "metadata": {
        "id": "370gkYqZDwDb",
        "colab": {
          "base_uri": "https://localhost:8080/"
        },
        "outputId": "bbf78a29-e96c-45db-abc8-24c05de562e1"
      },
      "outputs": [
        {
          "output_type": "execute_result",
          "data": {
            "text/plain": [
              "(5306, 7)"
            ]
          },
          "metadata": {},
          "execution_count": 6
        }
      ],
      "source": [
        "df_hdfc.shape       "
      ]
    },
    {
      "cell_type": "markdown",
      "metadata": {
        "id": "zwcwjFlyo_SA"
      },
      "source": [
        "**Create training data**"
      ]
    },
    {
      "cell_type": "code",
      "execution_count": null,
      "metadata": {
        "id": "evU0tFrjxg4l"
      },
      "outputs": [],
      "source": [
        "df = df_hdfc\n"
      ]
    },
    {
      "cell_type": "code",
      "execution_count": null,
      "metadata": {
        "id": "tDkos_NMd-wn",
        "colab": {
          "base_uri": "https://localhost:8080/",
          "height": 206
        },
        "outputId": "fafbb386-8858-4e6f-e528-6e46017b4880"
      },
      "outputs": [
        {
          "output_type": "execute_result",
          "data": {
            "text/plain": [
              "         Date    Open     High     Low     Last    Close  Volume\n",
              "0  03-01-2000  1800.0  1835.05  1760.0  1835.05  1835.05    3024\n",
              "1  04-01-2000  1960.0  1960.00  1763.0  1811.50  1810.45    5787\n",
              "2  05-01-2000  1845.0  1845.00  1740.0  1745.00  1746.90    6105\n",
              "3  06-01-2000  1750.0  1795.00  1735.0  1748.00  1745.20    3472\n",
              "4  07-01-2000  1705.0  1705.00  1605.6  1605.60  1605.60    4125"
            ],
            "text/html": [
              "\n",
              "  <div id=\"df-6aa0037f-de14-4703-94ea-34053801cac5\">\n",
              "    <div class=\"colab-df-container\">\n",
              "      <div>\n",
              "<style scoped>\n",
              "    .dataframe tbody tr th:only-of-type {\n",
              "        vertical-align: middle;\n",
              "    }\n",
              "\n",
              "    .dataframe tbody tr th {\n",
              "        vertical-align: top;\n",
              "    }\n",
              "\n",
              "    .dataframe thead th {\n",
              "        text-align: right;\n",
              "    }\n",
              "</style>\n",
              "<table border=\"1\" class=\"dataframe\">\n",
              "  <thead>\n",
              "    <tr style=\"text-align: right;\">\n",
              "      <th></th>\n",
              "      <th>Date</th>\n",
              "      <th>Open</th>\n",
              "      <th>High</th>\n",
              "      <th>Low</th>\n",
              "      <th>Last</th>\n",
              "      <th>Close</th>\n",
              "      <th>Volume</th>\n",
              "    </tr>\n",
              "  </thead>\n",
              "  <tbody>\n",
              "    <tr>\n",
              "      <th>0</th>\n",
              "      <td>03-01-2000</td>\n",
              "      <td>1800.0</td>\n",
              "      <td>1835.05</td>\n",
              "      <td>1760.0</td>\n",
              "      <td>1835.05</td>\n",
              "      <td>1835.05</td>\n",
              "      <td>3024</td>\n",
              "    </tr>\n",
              "    <tr>\n",
              "      <th>1</th>\n",
              "      <td>04-01-2000</td>\n",
              "      <td>1960.0</td>\n",
              "      <td>1960.00</td>\n",
              "      <td>1763.0</td>\n",
              "      <td>1811.50</td>\n",
              "      <td>1810.45</td>\n",
              "      <td>5787</td>\n",
              "    </tr>\n",
              "    <tr>\n",
              "      <th>2</th>\n",
              "      <td>05-01-2000</td>\n",
              "      <td>1845.0</td>\n",
              "      <td>1845.00</td>\n",
              "      <td>1740.0</td>\n",
              "      <td>1745.00</td>\n",
              "      <td>1746.90</td>\n",
              "      <td>6105</td>\n",
              "    </tr>\n",
              "    <tr>\n",
              "      <th>3</th>\n",
              "      <td>06-01-2000</td>\n",
              "      <td>1750.0</td>\n",
              "      <td>1795.00</td>\n",
              "      <td>1735.0</td>\n",
              "      <td>1748.00</td>\n",
              "      <td>1745.20</td>\n",
              "      <td>3472</td>\n",
              "    </tr>\n",
              "    <tr>\n",
              "      <th>4</th>\n",
              "      <td>07-01-2000</td>\n",
              "      <td>1705.0</td>\n",
              "      <td>1705.00</td>\n",
              "      <td>1605.6</td>\n",
              "      <td>1605.60</td>\n",
              "      <td>1605.60</td>\n",
              "      <td>4125</td>\n",
              "    </tr>\n",
              "  </tbody>\n",
              "</table>\n",
              "</div>\n",
              "      <button class=\"colab-df-convert\" onclick=\"convertToInteractive('df-6aa0037f-de14-4703-94ea-34053801cac5')\"\n",
              "              title=\"Convert this dataframe to an interactive table.\"\n",
              "              style=\"display:none;\">\n",
              "        \n",
              "  <svg xmlns=\"http://www.w3.org/2000/svg\" height=\"24px\"viewBox=\"0 0 24 24\"\n",
              "       width=\"24px\">\n",
              "    <path d=\"M0 0h24v24H0V0z\" fill=\"none\"/>\n",
              "    <path d=\"M18.56 5.44l.94 2.06.94-2.06 2.06-.94-2.06-.94-.94-2.06-.94 2.06-2.06.94zm-11 1L8.5 8.5l.94-2.06 2.06-.94-2.06-.94L8.5 2.5l-.94 2.06-2.06.94zm10 10l.94 2.06.94-2.06 2.06-.94-2.06-.94-.94-2.06-.94 2.06-2.06.94z\"/><path d=\"M17.41 7.96l-1.37-1.37c-.4-.4-.92-.59-1.43-.59-.52 0-1.04.2-1.43.59L10.3 9.45l-7.72 7.72c-.78.78-.78 2.05 0 2.83L4 21.41c.39.39.9.59 1.41.59.51 0 1.02-.2 1.41-.59l7.78-7.78 2.81-2.81c.8-.78.8-2.07 0-2.86zM5.41 20L4 18.59l7.72-7.72 1.47 1.35L5.41 20z\"/>\n",
              "  </svg>\n",
              "      </button>\n",
              "      \n",
              "  <style>\n",
              "    .colab-df-container {\n",
              "      display:flex;\n",
              "      flex-wrap:wrap;\n",
              "      gap: 12px;\n",
              "    }\n",
              "\n",
              "    .colab-df-convert {\n",
              "      background-color: #E8F0FE;\n",
              "      border: none;\n",
              "      border-radius: 50%;\n",
              "      cursor: pointer;\n",
              "      display: none;\n",
              "      fill: #1967D2;\n",
              "      height: 32px;\n",
              "      padding: 0 0 0 0;\n",
              "      width: 32px;\n",
              "    }\n",
              "\n",
              "    .colab-df-convert:hover {\n",
              "      background-color: #E2EBFA;\n",
              "      box-shadow: 0px 1px 2px rgba(60, 64, 67, 0.3), 0px 1px 3px 1px rgba(60, 64, 67, 0.15);\n",
              "      fill: #174EA6;\n",
              "    }\n",
              "\n",
              "    [theme=dark] .colab-df-convert {\n",
              "      background-color: #3B4455;\n",
              "      fill: #D2E3FC;\n",
              "    }\n",
              "\n",
              "    [theme=dark] .colab-df-convert:hover {\n",
              "      background-color: #434B5C;\n",
              "      box-shadow: 0px 1px 3px 1px rgba(0, 0, 0, 0.15);\n",
              "      filter: drop-shadow(0px 1px 2px rgba(0, 0, 0, 0.3));\n",
              "      fill: #FFFFFF;\n",
              "    }\n",
              "  </style>\n",
              "\n",
              "      <script>\n",
              "        const buttonEl =\n",
              "          document.querySelector('#df-6aa0037f-de14-4703-94ea-34053801cac5 button.colab-df-convert');\n",
              "        buttonEl.style.display =\n",
              "          google.colab.kernel.accessAllowed ? 'block' : 'none';\n",
              "\n",
              "        async function convertToInteractive(key) {\n",
              "          const element = document.querySelector('#df-6aa0037f-de14-4703-94ea-34053801cac5');\n",
              "          const dataTable =\n",
              "            await google.colab.kernel.invokeFunction('convertToInteractive',\n",
              "                                                     [key], {});\n",
              "          if (!dataTable) return;\n",
              "\n",
              "          const docLinkHtml = 'Like what you see? Visit the ' +\n",
              "            '<a target=\"_blank\" href=https://colab.research.google.com/notebooks/data_table.ipynb>data table notebook</a>'\n",
              "            + ' to learn more about interactive tables.';\n",
              "          element.innerHTML = '';\n",
              "          dataTable['output_type'] = 'display_data';\n",
              "          await google.colab.output.renderOutput(dataTable, element);\n",
              "          const docLink = document.createElement('div');\n",
              "          docLink.innerHTML = docLinkHtml;\n",
              "          element.appendChild(docLink);\n",
              "        }\n",
              "      </script>\n",
              "    </div>\n",
              "  </div>\n",
              "  "
            ]
          },
          "metadata": {},
          "execution_count": 8
        }
      ],
      "source": [
        "\n",
        "df.head()"
      ]
    },
    {
      "cell_type": "markdown",
      "metadata": {
        "id": "1Xm-OPMBpJ2c"
      },
      "source": []
    },
    {
      "cell_type": "code",
      "execution_count": null,
      "metadata": {
        "id": "ett7V56heRCw"
      },
      "outputs": [],
      "source": [
        "df_hdfc.drop([0], axis=0,inplace = True)"
      ]
    },
    {
      "cell_type": "markdown",
      "metadata": {
        "id": "H4BlD4ejpT_P"
      },
      "source": [
        "df_hdfc"
      ]
    },
    {
      "cell_type": "code",
      "execution_count": null,
      "metadata": {
        "id": "ZKrDMMJE_jxJ",
        "colab": {
          "base_uri": "https://localhost:8080/",
          "height": 455
        },
        "outputId": "2a073088-945f-43c7-9bd3-62ce27f57196"
      },
      "outputs": [
        {
          "output_type": "execute_result",
          "data": {
            "text/plain": [
              "               Open     High     Low     Last    Close    Volume\n",
              "Date                                                            \n",
              "2000-04-01  1960.00  1960.00  1763.0  1811.50  1810.45      5787\n",
              "2000-05-01  1845.00  1845.00  1740.0  1745.00  1746.90      6105\n",
              "2000-06-01  1750.00  1795.00  1735.0  1748.00  1745.20      3472\n",
              "2000-07-01  1705.00  1705.00  1605.6  1605.60  1605.60      4125\n",
              "2000-10-01  1650.00  1697.00  1478.0  1545.00  1531.85      4378\n",
              "...             ...      ...     ...      ...      ...       ...\n",
              "2021-04-26   644.00   644.00   631.0   633.45   634.70   6527947\n",
              "2021-04-27   632.70   642.45   632.0   638.00   639.25   5112384\n",
              "2021-04-28   640.95   647.30   638.3   643.30   643.40   6069155\n",
              "2021-04-29   648.95   652.00   641.1   646.80   644.50   5676290\n",
              "2021-04-30   642.00   666.60   640.1   653.75   654.45  10874266\n",
              "\n",
              "[5305 rows x 6 columns]"
            ],
            "text/html": [
              "\n",
              "  <div id=\"df-315eb732-eafc-4f3b-b5f1-dffb85f189d1\">\n",
              "    <div class=\"colab-df-container\">\n",
              "      <div>\n",
              "<style scoped>\n",
              "    .dataframe tbody tr th:only-of-type {\n",
              "        vertical-align: middle;\n",
              "    }\n",
              "\n",
              "    .dataframe tbody tr th {\n",
              "        vertical-align: top;\n",
              "    }\n",
              "\n",
              "    .dataframe thead th {\n",
              "        text-align: right;\n",
              "    }\n",
              "</style>\n",
              "<table border=\"1\" class=\"dataframe\">\n",
              "  <thead>\n",
              "    <tr style=\"text-align: right;\">\n",
              "      <th></th>\n",
              "      <th>Open</th>\n",
              "      <th>High</th>\n",
              "      <th>Low</th>\n",
              "      <th>Last</th>\n",
              "      <th>Close</th>\n",
              "      <th>Volume</th>\n",
              "    </tr>\n",
              "    <tr>\n",
              "      <th>Date</th>\n",
              "      <th></th>\n",
              "      <th></th>\n",
              "      <th></th>\n",
              "      <th></th>\n",
              "      <th></th>\n",
              "      <th></th>\n",
              "    </tr>\n",
              "  </thead>\n",
              "  <tbody>\n",
              "    <tr>\n",
              "      <th>2000-04-01</th>\n",
              "      <td>1960.00</td>\n",
              "      <td>1960.00</td>\n",
              "      <td>1763.0</td>\n",
              "      <td>1811.50</td>\n",
              "      <td>1810.45</td>\n",
              "      <td>5787</td>\n",
              "    </tr>\n",
              "    <tr>\n",
              "      <th>2000-05-01</th>\n",
              "      <td>1845.00</td>\n",
              "      <td>1845.00</td>\n",
              "      <td>1740.0</td>\n",
              "      <td>1745.00</td>\n",
              "      <td>1746.90</td>\n",
              "      <td>6105</td>\n",
              "    </tr>\n",
              "    <tr>\n",
              "      <th>2000-06-01</th>\n",
              "      <td>1750.00</td>\n",
              "      <td>1795.00</td>\n",
              "      <td>1735.0</td>\n",
              "      <td>1748.00</td>\n",
              "      <td>1745.20</td>\n",
              "      <td>3472</td>\n",
              "    </tr>\n",
              "    <tr>\n",
              "      <th>2000-07-01</th>\n",
              "      <td>1705.00</td>\n",
              "      <td>1705.00</td>\n",
              "      <td>1605.6</td>\n",
              "      <td>1605.60</td>\n",
              "      <td>1605.60</td>\n",
              "      <td>4125</td>\n",
              "    </tr>\n",
              "    <tr>\n",
              "      <th>2000-10-01</th>\n",
              "      <td>1650.00</td>\n",
              "      <td>1697.00</td>\n",
              "      <td>1478.0</td>\n",
              "      <td>1545.00</td>\n",
              "      <td>1531.85</td>\n",
              "      <td>4378</td>\n",
              "    </tr>\n",
              "    <tr>\n",
              "      <th>...</th>\n",
              "      <td>...</td>\n",
              "      <td>...</td>\n",
              "      <td>...</td>\n",
              "      <td>...</td>\n",
              "      <td>...</td>\n",
              "      <td>...</td>\n",
              "    </tr>\n",
              "    <tr>\n",
              "      <th>2021-04-26</th>\n",
              "      <td>644.00</td>\n",
              "      <td>644.00</td>\n",
              "      <td>631.0</td>\n",
              "      <td>633.45</td>\n",
              "      <td>634.70</td>\n",
              "      <td>6527947</td>\n",
              "    </tr>\n",
              "    <tr>\n",
              "      <th>2021-04-27</th>\n",
              "      <td>632.70</td>\n",
              "      <td>642.45</td>\n",
              "      <td>632.0</td>\n",
              "      <td>638.00</td>\n",
              "      <td>639.25</td>\n",
              "      <td>5112384</td>\n",
              "    </tr>\n",
              "    <tr>\n",
              "      <th>2021-04-28</th>\n",
              "      <td>640.95</td>\n",
              "      <td>647.30</td>\n",
              "      <td>638.3</td>\n",
              "      <td>643.30</td>\n",
              "      <td>643.40</td>\n",
              "      <td>6069155</td>\n",
              "    </tr>\n",
              "    <tr>\n",
              "      <th>2021-04-29</th>\n",
              "      <td>648.95</td>\n",
              "      <td>652.00</td>\n",
              "      <td>641.1</td>\n",
              "      <td>646.80</td>\n",
              "      <td>644.50</td>\n",
              "      <td>5676290</td>\n",
              "    </tr>\n",
              "    <tr>\n",
              "      <th>2021-04-30</th>\n",
              "      <td>642.00</td>\n",
              "      <td>666.60</td>\n",
              "      <td>640.1</td>\n",
              "      <td>653.75</td>\n",
              "      <td>654.45</td>\n",
              "      <td>10874266</td>\n",
              "    </tr>\n",
              "  </tbody>\n",
              "</table>\n",
              "<p>5305 rows × 6 columns</p>\n",
              "</div>\n",
              "      <button class=\"colab-df-convert\" onclick=\"convertToInteractive('df-315eb732-eafc-4f3b-b5f1-dffb85f189d1')\"\n",
              "              title=\"Convert this dataframe to an interactive table.\"\n",
              "              style=\"display:none;\">\n",
              "        \n",
              "  <svg xmlns=\"http://www.w3.org/2000/svg\" height=\"24px\"viewBox=\"0 0 24 24\"\n",
              "       width=\"24px\">\n",
              "    <path d=\"M0 0h24v24H0V0z\" fill=\"none\"/>\n",
              "    <path d=\"M18.56 5.44l.94 2.06.94-2.06 2.06-.94-2.06-.94-.94-2.06-.94 2.06-2.06.94zm-11 1L8.5 8.5l.94-2.06 2.06-.94-2.06-.94L8.5 2.5l-.94 2.06-2.06.94zm10 10l.94 2.06.94-2.06 2.06-.94-2.06-.94-.94-2.06-.94 2.06-2.06.94z\"/><path d=\"M17.41 7.96l-1.37-1.37c-.4-.4-.92-.59-1.43-.59-.52 0-1.04.2-1.43.59L10.3 9.45l-7.72 7.72c-.78.78-.78 2.05 0 2.83L4 21.41c.39.39.9.59 1.41.59.51 0 1.02-.2 1.41-.59l7.78-7.78 2.81-2.81c.8-.78.8-2.07 0-2.86zM5.41 20L4 18.59l7.72-7.72 1.47 1.35L5.41 20z\"/>\n",
              "  </svg>\n",
              "      </button>\n",
              "      \n",
              "  <style>\n",
              "    .colab-df-container {\n",
              "      display:flex;\n",
              "      flex-wrap:wrap;\n",
              "      gap: 12px;\n",
              "    }\n",
              "\n",
              "    .colab-df-convert {\n",
              "      background-color: #E8F0FE;\n",
              "      border: none;\n",
              "      border-radius: 50%;\n",
              "      cursor: pointer;\n",
              "      display: none;\n",
              "      fill: #1967D2;\n",
              "      height: 32px;\n",
              "      padding: 0 0 0 0;\n",
              "      width: 32px;\n",
              "    }\n",
              "\n",
              "    .colab-df-convert:hover {\n",
              "      background-color: #E2EBFA;\n",
              "      box-shadow: 0px 1px 2px rgba(60, 64, 67, 0.3), 0px 1px 3px 1px rgba(60, 64, 67, 0.15);\n",
              "      fill: #174EA6;\n",
              "    }\n",
              "\n",
              "    [theme=dark] .colab-df-convert {\n",
              "      background-color: #3B4455;\n",
              "      fill: #D2E3FC;\n",
              "    }\n",
              "\n",
              "    [theme=dark] .colab-df-convert:hover {\n",
              "      background-color: #434B5C;\n",
              "      box-shadow: 0px 1px 3px 1px rgba(0, 0, 0, 0.15);\n",
              "      filter: drop-shadow(0px 1px 2px rgba(0, 0, 0, 0.3));\n",
              "      fill: #FFFFFF;\n",
              "    }\n",
              "  </style>\n",
              "\n",
              "      <script>\n",
              "        const buttonEl =\n",
              "          document.querySelector('#df-315eb732-eafc-4f3b-b5f1-dffb85f189d1 button.colab-df-convert');\n",
              "        buttonEl.style.display =\n",
              "          google.colab.kernel.accessAllowed ? 'block' : 'none';\n",
              "\n",
              "        async function convertToInteractive(key) {\n",
              "          const element = document.querySelector('#df-315eb732-eafc-4f3b-b5f1-dffb85f189d1');\n",
              "          const dataTable =\n",
              "            await google.colab.kernel.invokeFunction('convertToInteractive',\n",
              "                                                     [key], {});\n",
              "          if (!dataTable) return;\n",
              "\n",
              "          const docLinkHtml = 'Like what you see? Visit the ' +\n",
              "            '<a target=\"_blank\" href=https://colab.research.google.com/notebooks/data_table.ipynb>data table notebook</a>'\n",
              "            + ' to learn more about interactive tables.';\n",
              "          element.innerHTML = '';\n",
              "          dataTable['output_type'] = 'display_data';\n",
              "          await google.colab.output.renderOutput(dataTable, element);\n",
              "          const docLink = document.createElement('div');\n",
              "          docLink.innerHTML = docLinkHtml;\n",
              "          element.appendChild(docLink);\n",
              "        }\n",
              "      </script>\n",
              "    </div>\n",
              "  </div>\n",
              "  "
            ]
          },
          "metadata": {},
          "execution_count": 10
        }
      ],
      "source": [
        "df['Date'] = pd.to_datetime(df['Date'], yearfirst=True)\n",
        "df_hdfc.set_index('Date')\n",
        "df.set_index('Date')"
      ]
    },
    {
      "cell_type": "code",
      "execution_count": null,
      "metadata": {
        "id": "81HC0zVtDVWN"
      },
      "outputs": [],
      "source": [
        "df_concat = df_hdfc.dropna()"
      ]
    },
    {
      "cell_type": "code",
      "execution_count": null,
      "metadata": {
        "id": "WC8Hx6aaO0nn",
        "colab": {
          "base_uri": "https://localhost:8080/"
        },
        "outputId": "c990c490-e57f-497b-9191-f7a3b7e70cd8"
      },
      "outputs": [
        {
          "output_type": "execute_result",
          "data": {
            "text/plain": [
              "Date      datetime64[ns]\n",
              "Open             float64\n",
              "High             float64\n",
              "Low              float64\n",
              "Last             float64\n",
              "Close            float64\n",
              "Volume             int64\n",
              "dtype: object"
            ]
          },
          "metadata": {},
          "execution_count": 12
        }
      ],
      "source": [
        "df.dtypes"
      ]
    },
    {
      "cell_type": "code",
      "execution_count": null,
      "metadata": {
        "id": "NzNFDNElO0no"
      },
      "outputs": [],
      "source": [
        "df['Close'] = pd.to_numeric(df['Close'])\n",
        "df['High'] = pd.to_numeric(df['High'])\n",
        "df['Low'] = pd.to_numeric(df['Low'])\n",
        "df['Open'] = pd.to_numeric(df['Open'])\n"
      ]
    },
    {
      "cell_type": "code",
      "execution_count": null,
      "metadata": {
        "id": "kUKLMW5kO0np",
        "colab": {
          "base_uri": "https://localhost:8080/",
          "height": 725
        },
        "outputId": "24d98d4f-7f19-4af8-93e8-dd770ee02668"
      },
      "outputs": [
        {
          "output_type": "display_data",
          "data": {
            "text/plain": [
              "<Figure size 1368x864 with 1 Axes>"
            ],
            "image/png": "[encoded data removed]"
          },
          "metadata": {
            "needs_background": "light"
          }
        }
      ],
      "source": [
        "plt.figure(figsize = (19,12))\n",
        "plt.plot(range(df.shape[0]),(df['Close']))\n",
        "#plt.xticks(range(0,df.shape[0],500),df['Date'].loc[::500],rotation=45)\n",
        "plt.xlabel('Date',fontsize=18)\n",
        "plt.ylabel('Close Price',fontsize=18)\n",
        "plt.show()"
      ]
    },
    {
      "cell_type": "code",
      "execution_count": null,
      "metadata": {
        "id": "p-qPtyFjO0nq",
        "colab": {
          "base_uri": "https://localhost:8080/"
        },
        "outputId": "9fd0a74a-c76d-40c3-cc07-7d3f4d6b86ac"
      },
      "outputs": [
        {
          "output_type": "execute_result",
          "data": {
            "text/plain": [
              "Date      datetime64[ns]\n",
              "Open             float64\n",
              "High             float64\n",
              "Low              float64\n",
              "Last             float64\n",
              "Close            float64\n",
              "Volume             int64\n",
              "dtype: object"
            ]
          },
          "metadata": {},
          "execution_count": 15
        }
      ],
      "source": [
        "df_concat.dtypes"
      ]
    },
    {
      "cell_type": "code",
      "execution_count": null,
      "metadata": {
        "id": "xSGRZTh2g_0F"
      },
      "outputs": [],
      "source": [
        "SEQ_LEN = 100            \n",
        "\n",
        "FUTURE_PERIOD = 1\n",
        "\n",
        "RATIO_TO_PREDICT = \"Close\"\n"
      ]
    },
    {
      "cell_type": "code",
      "execution_count": null,
      "metadata": {
        "id": "EeA2I_FVlcwm"
      },
      "outputs": [],
      "source": [
        "def classify(current, future):\n",
        "    if float(future) > float(current):\n",
        "        return 1\n",
        "    else:\n",
        "        return 0"
      ]
    },
    {
      "cell_type": "code",
      "execution_count": null,
      "metadata": {
        "id": "YXPPgKGaO0nt"
      },
      "outputs": [],
      "source": [
        "df = df.drop(\"Date\", axis= 1)"
      ]
    },
    {
      "cell_type": "markdown",
      "metadata": {
        "id": "C88Bk2TFp3Ak"
      },
      "source": [
        "Splitting the data"
      ]
    },
    {
      "cell_type": "code",
      "execution_count": null,
      "metadata": {
        "id": "fk3cwVeCiapH"
      },
      "outputs": [],
      "source": [
        "times = sorted(df.index.values)  # get the times\n",
        "last_10 = sorted(df.index.values)[-int(0.1*len(times))] \n",
        "last_20 = sorted(df.index.values)[-int(0.2*len(times))]\n",
        "\n",
        "test_df = df[(df.index >= last_10)]\n",
        "validation_df = df[(df.index >= last_20) & (df.index < last_10)]  \n",
        "train_df = df[(df.index < last_20)] "
      ]
    },
    {
      "cell_type": "code",
      "execution_count": null,
      "metadata": {
        "id": "XFncT-6ci6Pk"
      },
      "outputs": [],
      "source": [
        "from collections import deque\n",
        "import numpy as np\n",
        "import random "
      ]
    },
    {
      "cell_type": "code",
      "execution_count": null,
      "metadata": {
        "id": "F647kjbslJAU"
      },
      "outputs": [],
      "source": [
        "\n",
        "train_ = train_df.values\n",
        "valid_ = validation_df.values\n",
        "test_ = test_df.values"
      ]
    },
    {
      "cell_type": "code",
      "execution_count": null,
      "metadata": {
        "id": "gcGCdRjM7acd",
        "colab": {
          "base_uri": "https://localhost:8080/"
        },
        "outputId": "df82e8d4-3639-417c-8648-deef20ef9716"
      },
      "outputs": [
        {
          "output_type": "stream",
          "name": "stdout",
          "text": [
            "train shape (4244, 6)\n",
            "valid shape (531, 6)\n",
            "test shape (530, 6)\n"
          ]
        }
      ],
      "source": [
        "print(\"train shape {0}\".format(train_.shape))\n",
        "print(\"valid shape {0}\".format(valid_.shape))\n",
        "print(\"test shape {0}\".format(test_.shape))"
      ]
    },
    {
      "cell_type": "code",
      "execution_count": null,
      "metadata": {
        "id": "uA2kqAUb5bqL"
      },
      "outputs": [],
      "source": [
        "scaler = MinMaxScaler()\n",
        "scale_close = MinMaxScaler()"
      ]
    },
    {
      "cell_type": "code",
      "execution_count": null,
      "metadata": {
        "id": "1N9PmMcwIW-g",
        "colab": {
          "base_uri": "https://localhost:8080/"
        },
        "outputId": "88f70626-6e7e-4df8-b2f6-d0b9090ec846"
      },
      "outputs": [
        {
          "output_type": "execute_result",
          "data": {
            "text/plain": [
              "MinMaxScaler()"
            ]
          },
          "metadata": {},
          "execution_count": 24
        }
      ],
      "source": [
        "x = train_[:,3].copy()\n",
        "scale_close.fit(x.reshape(-1, 1))"
      ]
    },
    {
      "cell_type": "code",
      "execution_count": null,
      "metadata": {
        "id": "-DEP34jj3hmW"
      },
      "outputs": [],
      "source": [
        "scaler.fit(train_)\n",
        "\n",
        "train_ = scaler.transform(train_)\n",
        "\n",
        "valid_ = scaler.transform(valid_)\n",
        "test_ = scaler.transform(test_)"
      ]
    },
    {
      "cell_type": "markdown",
      "metadata": {
        "id": "mouqDewlrj74"
      },
      "source": [
        "EMA --- Exponential Moving Average\n"
      ]
    },
    {
      "cell_type": "code",
      "execution_count": null,
      "metadata": {
        "id": "ZJB9Vgra5mmf"
      },
      "outputs": [],
      "source": [
        "EMA = 0.0\n",
        "gamma = 0.1\n",
        "for ti in range(4244):\n",
        "    EMA = gamma*train_[ti] + (1-gamma)*EMA\n",
        "    train_[ti] = EMA\n",
        "\n",
        "all_mid_data = np.concatenate([train_,valid_, test_],axis=0)"
      ]
    },
    {
      "cell_type": "markdown",
      "metadata": {
        "id": "ItMMfh_Erx_-"
      },
      "source": [
        "100 timesteps \n"
      ]
    },
    {
      "cell_type": "code",
      "execution_count": null,
      "metadata": {
        "id": "yvXFVqTa7ARc"
      },
      "outputs": [],
      "source": [
        "def split_data(data):\n",
        "    X = []\n",
        "    Y = []\n",
        "    for i in range(SEQ_LEN, len(data)-FUTURE_PERIOD+1):\n",
        "        X.append(data[i-SEQ_LEN:i])\n",
        "        Y.append(data[i+(FUTURE_PERIOD-1), 3])\n",
        "    return np.array(X), np.array(Y)"
      ]
    },
    {
      "cell_type": "code",
      "execution_count": null,
      "metadata": {
        "id": "gGDiE7zddrJ1"
      },
      "outputs": [],
      "source": []
    },
    {
      "cell_type": "code",
      "execution_count": null,
      "metadata": {
        "id": "OIC-mnEK9OBJ"
      },
      "outputs": [],
      "source": [
        "X_train, y_train = split_data(train_)\n",
        "X_test, y_test = split_data(test_)\n",
        "X_valid, y_valid = split_data(valid_)"
      ]
    },
    {
      "cell_type": "code",
      "execution_count": null,
      "metadata": {
        "id": "IbI4Ux_x-vBk"
      },
      "outputs": [],
      "source": [
        "X_train = np.reshape(X_train, (X_train.shape[0], X_train.shape[1], 6))\n",
        "X_valid = np.reshape(X_valid, (X_valid.shape[0], X_valid.shape[1], 6))\n",
        "X_test = np.reshape(X_test, (X_test.shape[0], X_test.shape[1], 6))"
      ]
    },
    {
      "cell_type": "code",
      "execution_count": null,
      "metadata": {
        "id": "LaUb3PJB8Ud-",
        "colab": {
          "base_uri": "https://localhost:8080/"
        },
        "outputId": "b8f9ca1b-ff05-455a-ce8e-ca926722d9a1"
      },
      "outputs": [
        {
          "output_type": "execute_result",
          "data": {
            "text/plain": [
              "(4144,)"
            ]
          },
          "metadata": {},
          "execution_count": 70
        }
      ],
      "source": [
        "y_train.shape"
      ]
    },
    {
      "cell_type": "code",
      "execution_count": null,
      "metadata": {
        "id": "CJ0qmYjsvw1J",
        "colab": {
          "base_uri": "https://localhost:8080/"
        },
        "outputId": "6b4304c5-64fb-4b1f-93de-b45fec9f16f9"
      },
      "outputs": [
        {
          "output_type": "stream",
          "name": "stdout",
          "text": [
            "train shape (4144, 100, 6)\n",
            "valid shape (431, 100, 6)\n",
            "test shape (430, 100, 6)\n"
          ]
        }
      ],
      "source": [
        "print(\"train shape {0}\".format(X_train.shape))\n",
        "print(\"valid shape {0}\".format(X_valid.shape))\n",
        "print(\"test shape {0}\".format(X_test.shape))"
      ]
    },
    {
      "cell_type": "code",
      "execution_count": null,
      "metadata": {
        "id": "1vAviyGG_KEw"
      },
      "outputs": [],
      "source": [
        "X_train_2, y_train_2 = split_data(train_)\n",
        "X_train_2 = np.reshape(X_train_2, (X_train_2.shape[0], X_train_2.shape[1], 6))"
      ]
    },
    {
      "cell_type": "code",
      "execution_count": null,
      "metadata": {
        "id": "TS6MTZbH_wWN",
        "colab": {
          "base_uri": "https://localhost:8080/",
          "height": 350
        },
        "outputId": "3b134830-a07f-4c24-a1d2-bd2bacfb3851"
      },
      "outputs": [
        {
          "output_type": "display_data",
          "data": {
            "text/plain": [
              "<Figure size 1080x360 with 1 Axes>"
            ],
            "image/png": "[encoded data removed]"
          },
          "metadata": {
            "needs_background": "light"
          }
        }
      ],
      "source": [
        "## show predictions\n",
        "plt.figure(figsize=(15, 5))\n",
        "\n",
        "plt.plot(np.arange(y_train_2.shape[0]), y_train_2, color='blue', label='train target')\n",
        "\n",
        "plt.plot(np.arange(y_train_2.shape[0], y_train_2.shape[0]+y_valid.shape[0]), y_valid,\n",
        "         color='gray', label='valid target')\n",
        "\n",
        "plt.plot(np.arange(y_train_2.shape[0]+y_valid.shape[0],\n",
        "                   y_train_2.shape[0]+y_valid.shape[0]+y_test.shape[0]),\n",
        "         y_test, color='black', label='test target')\n",
        "\n",
        "\n",
        "plt.title('Train set')\n",
        "plt.xlabel('time [minutes]')\n",
        "plt.ylabel('normalized price')\n",
        "plt.legend(loc='best');"
      ]
    },
    {
      "cell_type": "markdown",
      "metadata": {
        "id": "bOYZLeJL2lCM"
      },
      "source": [
        "# TRANSFORMER"
      ]
    },
    {
      "cell_type": "code",
      "execution_count": null,
      "metadata": {
        "id": "nn9060nkHhp3"
      },
      "outputs": [],
      "source": [
        "from sklearn.utils import shuffle\n",
        "X_train, y_train = shuffle(X_train, y_train)"
      ]
    },
    {
      "cell_type": "code",
      "execution_count": null,
      "metadata": {
        "id": "UifQZZMB_ysC"
      },
      "outputs": [],
      "source": [
        "EPOCHS = 45\n",
        "BATCH_SIZE = 64\n",
        "\n",
        "import time"
      ]
    },
    {
      "cell_type": "code",
      "execution_count": null,
      "metadata": {
        "id": "tmCAbA6wHaga"
      },
      "outputs": [],
      "source": [
        "import random, os, sys\n",
        "import numpy as np\n",
        "from tensorflow.keras.models import *\n",
        "from tensorflow.keras.layers import *\n",
        "from tensorflow.keras.callbacks import *\n",
        "from tensorflow.keras.initializers import *\n",
        "import tensorflow as tf\n",
        "import tensorflow.keras.backend as K\n",
        "from tensorflow.python.keras.layers import Layer"
      ]
    },
    {
      "cell_type": "code",
      "execution_count": null,
      "metadata": {
        "id": "2E7GXd_D2Jpk"
      },
      "outputs": [],
      "source": [
        "class LayerNormalization(Layer):\n",
        "    def __init__(self, eps=1e-6, **kwargs):\n",
        "        self.eps = eps\n",
        "        super(LayerNormalization, self).__init__(**kwargs)\n",
        "    def build(self, input_shape):\n",
        "        self.gamma = self.add_weight(name='gamma', shape=input_shape[-1:],initializer=Ones(), trainable=True)\n",
        "        self.beta = self.add_weight(name='beta', shape=input_shape[-1:],initializer=Zeros(), trainable=True)\n",
        "        super(LayerNormalization, self).build(input_shape)\n",
        "    def call(self, x):\n",
        "        mean = K.mean(x, axis=-1, keepdims=True)\n",
        "        std = K.std(x, axis=-1, keepdims=True)\n",
        "        return self.gamma * (x - mean) / (std + self.eps) + self.beta\n",
        "    def compute_output_shape(self, input_shape):\n",
        "        return input_shape\n"
      ]
    },
    {
      "cell_type": "code",
      "execution_count": null,
      "metadata": {
        "id": "MAuxAh7GO0n7"
      },
      "outputs": [],
      "source": [
        "class ScaledDotProductAttention():\n",
        "    def __init__(self, d_model, attn_dropout=0.1):\n",
        "        self.temper = np.sqrt(d_model)\n",
        "        self.dropout = Dropout(attn_dropout)\n",
        "    def __call__(self, q, k, v, mask):\n",
        "        attn = Lambda(lambda x:K.batch_dot(x[0],x[1],axes=[2,2])/self.temper)([q, k])\n",
        "        if mask is not None:\n",
        "            mmask = Lambda(lambda x:(-1e+10)*(1-x))(mask)\n",
        "            attn = Add()([attn, mmask])\n",
        "        attn = Activation('softmax')(attn)\n",
        "        attn = self.dropout(attn)\n",
        "        output = Lambda(lambda x:K.batch_dot(x[0], x[1]))([attn, v])\n",
        "        return output, attn"
      ]
    },
    {
      "cell_type": "code",
      "execution_count": null,
      "metadata": {
        "id": "tFUcNXlhO0n7"
      },
      "outputs": [],
      "source": [
        "class MultiHeadAttention():\n",
        "\n",
        "    def __init__(self, n_head, d_model, d_k, d_v, dropout, mode=0, use_norm=True):\n",
        "        self.mode = mode\n",
        "        self.n_head = n_head\n",
        "        self.d_k = d_k\n",
        "        self.d_v = d_v\n",
        "        self.dropout = dropout\n",
        "        self.qs_layer = Dense(n_head*d_k, use_bias=False)\n",
        "        self.ks_layer = Dense(n_head*d_k, use_bias=False)\n",
        "        self.vs_layer = Dense(n_head*d_v, use_bias=False)\n",
        "        self.attention = ScaledDotProductAttention(d_model)\n",
        "        self.layer_norm = LayerNormalization() if use_norm else None\n",
        "        self.w_o = TimeDistributed(Dense(d_model))\n",
        "\n",
        "    def __call__(self, q, k, v, mask=None):\n",
        "        d_k, d_v = self.d_k, self.d_v\n",
        "        n_head = self.n_head\n",
        "\n",
        "        if self.mode == 0:\n",
        "            qs = self.qs_layer(q)  # [batch_size, len_q, n_head*d_k]\n",
        "            ks = self.ks_layer(k)\n",
        "            vs = self.vs_layer(v)\n",
        "\n",
        "            def reshape1(x):\n",
        "                s = tf.shape(x)   # [batch_size, len_q, n_head * d_k]\n",
        "                x = tf.reshape(x, [s[0], s[1], n_head, d_k])\n",
        "                x = tf.transpose(x, [2, 0, 1, 3])  \n",
        "                x = tf.reshape(x, [-1, s[1], d_k])  # [n_head * batch_size, len_q, d_k]\n",
        "                return x\n",
        "            qs = Lambda(reshape1)(qs)\n",
        "            ks = Lambda(reshape1)(ks)\n",
        "            vs = Lambda(reshape1)(vs)\n",
        "\n",
        "            if mask is not None:\n",
        "                mask = Lambda(lambda x:K.repeat_elements(x, n_head, 0))(mask)\n",
        "            head, attn = self.attention(qs, ks, vs, mask=mask)  \n",
        "                \n",
        "            def reshape2(x):\n",
        "                s = tf.shape(x)   # [n_head * batch_size, len_v, d_v]\n",
        "                x = tf.reshape(x, [n_head, -1, s[1], s[2]]) \n",
        "                x = tf.transpose(x, [1, 2, 0, 3])\n",
        "                x = tf.reshape(x, [-1, s[1], n_head*d_v])  # [batch_size, len_v, n_head * d_v]\n",
        "                return x\n",
        "            head = Lambda(reshape2)(head)\n",
        "\n",
        "        outputs = self.w_o(head)\n",
        "        outputs = Dropout(self.dropout)(outputs)\n",
        "        if not self.layer_norm: return outputs, attn\n",
        "        # outputs = Add()([outputs, q]) # sl: fix\n",
        "        return self.layer_norm(outputs), attn"
      ]
    },
    {
      "cell_type": "code",
      "execution_count": null,
      "metadata": {
        "id": "qKXAhdljO0n8"
      },
      "outputs": [],
      "source": [
        "class PositionwiseFeedForward():\n",
        "    def __init__(self, d_hid, d_inner_hid, dropout=0.1):\n",
        "        self.w_1 = Conv1D(d_inner_hid, 1, activation='relu')\n",
        "        self.w_2 = Conv1D(d_hid, 1)\n",
        "        self.layer_norm = LayerNormalization()\n",
        "        self.dropout = Dropout(dropout)\n",
        "    def __call__(self, x):\n",
        "        output = self.w_1(x) \n",
        "        output = self.w_2(output)\n",
        "        output = self.dropout(output)\n",
        "        output = Add()([output, x])\n",
        "        return self.layer_norm(output)\n",
        "\n",
        "    \n",
        "class EncoderLayer():\n",
        "    def __init__(self, d_model, d_inner_hid, n_head, d_k, d_v, dropout=0.1):\n",
        "        self.self_att_layer = MultiHeadAttention(n_head, d_model, d_k, d_v, dropout=dropout)\n",
        "        self.pos_ffn_layer  = PositionwiseFeedForward(d_model, d_inner_hid, dropout=dropout)\n",
        "    def __call__(self, enc_input, mask=None):\n",
        "        output, slf_attn = self.self_att_layer(enc_input, enc_input, enc_input, mask=mask)\n",
        "        output = self.pos_ffn_layer(output)\n",
        "        return output, slf_attn\n",
        "    \n",
        "    \n",
        "def GetPosEncodingMatrix(max_len, d_emb):\n",
        "    pos_enc = np.array([\n",
        "        [pos / np.power(10000, 2 * (j // 2) / d_emb) for j in range(d_emb)] \n",
        "        if pos != 0 else np.zeros(d_emb) \n",
        "            for pos in range(max_len)\n",
        "            ])\n",
        "    pos_enc[1:, 0::2] = np.sin(pos_enc[1:, 0::2]) # dim 2i\n",
        "    pos_enc[1:, 1::2] = np.cos(pos_enc[1:, 1::2]) # dim 2i+1\n",
        "    return pos_enc\n",
        "\n",
        "def GetPadMask(q, k):\n",
        "    ones = K.expand_dims(K.ones_like(q, 'float32'), -1)\n",
        "    mask = K.cast(K.expand_dims(K.not_equal(k, 0), 1), 'float32')\n",
        "    mask = K.batch_dot(ones, mask, axes=[2,1])\n",
        "    return mask\n",
        "\n",
        "def GetSubMask(s):\n",
        "    len_s = tf.shape(s)[1]\n",
        "    bs = tf.shape(s)[:1]\n",
        "    mask = K.cumsum(tf.eye(len_s, batch_shape=bs), 1)\n",
        "    return mask"
      ]
    },
    {
      "cell_type": "code",
      "source": [
        "class CustomeLearningSchedule(tf.keras.optimizers.schedules.LearningRateSchedule):\n",
        "    def __init__(self, d_model, warmup_steps=4000):\n",
        "        super(CustomeLearningSchedule, self).__init__()\n",
        "        self.d_model = tf.cast(d_model, tf.float32)\n",
        "        self.warmup_steps = warmup_steps\n",
        "    \n",
        "    def __call__(self, step):\n",
        "        param_1 = tf.math.rsqrt(step)\n",
        "        param_2 = step * (self.warmup_steps**(-1.5))\n",
        "        return tf.math.rsqrt(self.d_model) * tf.math.minimum(param_1, param_2)\n"
      ],
      "metadata": {
        "id": "cApXPZpgkGxb"
      },
      "execution_count": null,
      "outputs": []
    },
    {
      "cell_type": "code",
      "source": [
        "sample_learning_rate = CustomeLearningSchedule(d_model=128)\n",
        "\n",
        "plt.plot(sample_learning_rate(tf.range(200000, dtype=tf.float32)))\n",
        "plt.ylabel(\"Learning Rate\")\n",
        "plt.xlabel(\"Train Step\")\n"
      ],
      "metadata": {
        "id": "btkbw6xMkHCU",
        "colab": {
          "base_uri": "https://localhost:8080/",
          "height": 296
        },
        "outputId": "f170acba-10f2-4288-f35f-c85be9bde15c"
      },
      "execution_count": null,
      "outputs": [
        {
          "output_type": "execute_result",
          "data": {
            "text/plain": [
              "Text(0.5, 0, 'Train Step')"
            ]
          },
          "metadata": {},
          "execution_count": 82
        },
        {
          "output_type": "display_data",
          "data": {
            "text/plain": [
              "<Figure size 432x288 with 1 Axes>"
            ],
            "image/png": "[encoded data removed]"
          },
          "metadata": {
            "needs_background": "light"
          }
        }
      ]
    },
    {
      "cell_type": "code",
      "source": [
        "D_MODEL=300\n",
        "\n",
        "lr = CustomeLearningSchedule(D_MODEL)\n",
        "\n",
        "optimizer = tf.keras.optimizers.Adam(learning_rate=lr,\n",
        "                                     beta_1=0.9,\n",
        "                                     beta_2=0.98,\n",
        "                                     epsilon=1e-9)"
      ],
      "metadata": {
        "id": "aGAeUmXRkHSs"
      },
      "execution_count": null,
      "outputs": []
    },
    {
      "cell_type": "code",
      "source": [
        "def build_model():\n",
        "    inp = Input(shape = (SEQ_LEN, 6))\n",
        "\n",
        "    x = Bidirectional(LSTM(128, return_sequences=True))(inp)\n",
        "    x = Bidirectional(LSTM(64, return_sequences=True))(x) \n",
        "        \n",
        "    #for i in range(2):\n",
        "    x, self_attn = EncoderLayer(\n",
        "            d_model=D_MODEL,\n",
        "            d_inner_hid=512, \n",
        "            n_head=4, \n",
        "            d_k=64,\n",
        "            d_v=64, \n",
        "            dropout=0.2)(x)\n",
        "        \n",
        "    avg_pool = GlobalAveragePooling1D()(x)\n",
        "    max_pool = GlobalMaxPooling1D()(x)\n",
        "    conc = concatenate([avg_pool, max_pool])\n",
        "    conc = Dense(128, activation=\"relu\")(conc)\n",
        "    x = Dense(1, activation=\"sigmoid\")(conc)      \n",
        "\n",
        "    model = Model(inputs = inp, outputs = x)\n",
        "    model.compile(\n",
        "        loss = \"mean_squared_error\",  \n",
        "        optimizer = optimizer)\n",
        "    \n",
        "    return model"
      ],
      "metadata": {
        "id": "947rbPpckTNj"
      },
      "execution_count": null,
      "outputs": []
    },
    {
      "cell_type": "code",
      "source": [
        "multi_head = build_model()\n",
        "#multi_head.summary()\n"
      ],
      "metadata": {
        "id": "THp_r70SkTaa",
        "colab": {
          "base_uri": "https://localhost:8080/"
        },
        "outputId": "939ee0e5-f544-4334-c4c8-8f7d80ffa71e"
      },
      "execution_count": null,
      "outputs": [
        {
          "output_type": "stream",
          "name": "stderr",
          "text": [
            "WARNING:tensorflow:The following Variables were used in a Lambda layer's call (tf.__operators__.add_5), but are not present in its tracked objects:   <tf.Variable 'layer_normalization_2/beta:0' shape=(300,) dtype=float32>. This is a strong indication that the Lambda layer should be rewritten as a subclassed Layer.\n",
            "WARNING:tensorflow:The following Variables were used in a Lambda layer's call (tf.__operators__.add_7), but are not present in its tracked objects:   <tf.Variable 'layer_normalization_3/beta:0' shape=(300,) dtype=float32>. This is a strong indication that the Lambda layer should be rewritten as a subclassed Layer.\n"
          ]
        }
      ]
    },
    {
      "cell_type": "code",
      "source": [
        "#tf.keras.utils.plot_model(multi_head, \n",
        " #                         to_file=\"multi_head_net.png\", \n",
        "#                          show_shapes=True)\n"
      ],
      "metadata": {
        "id": "bWp4ydCdkTtk"
      },
      "execution_count": null,
      "outputs": []
    },
    {
      "cell_type": "code",
      "source": [
        "#callback = EarlyStopping(monitor='val_loss',patience=3,restore_best_weights=True)"
      ],
      "metadata": {
        "id": "qEQqh0u0kT8k"
      },
      "execution_count": null,
      "outputs": []
    },
    {
      "cell_type": "code",
      "source": [
        "history = multi_head.fit(x=X_train,y=y_train,batch_size=BATCH_SIZE,epochs=EPOCHS,validation_data=(X_valid, y_valid), )\n"
      ],
      "metadata": {
        "id": "x-3H8RLdkUN3",
        "colab": {
          "base_uri": "https://localhost:8080/"
        },
        "outputId": "b6757d96-4c38-4713-cc8d-8b61bfe087f2"
      },
      "execution_count": null,
      "outputs": [
        {
          "output_type": "stream",
          "name": "stdout",
          "text": [
            "Epoch 1/45\n",
            "65/65 [==============================] - 11s 66ms/step - loss: 0.1075 - val_loss: 0.0066\n",
            "Epoch 2/45\n",
            "65/65 [==============================] - 3s 41ms/step - loss: 0.0093 - val_loss: 0.0025\n",
            "Epoch 3/45\n",
            "65/65 [==============================] - 3s 42ms/step - loss: 0.0050 - val_loss: 6.9750e-04\n",
            "Epoch 4/45\n",
            "65/65 [==============================] - 3s 42ms/step - loss: 0.0039 - val_loss: 4.5408e-04\n",
            "Epoch 5/45\n",
            "65/65 [==============================] - 3s 42ms/step - loss: 0.0032 - val_loss: 4.0440e-04\n",
            "Epoch 6/45\n",
            "65/65 [==============================] - 3s 42ms/step - loss: 0.0028 - val_loss: 0.0011\n",
            "Epoch 7/45\n",
            "65/65 [==============================] - 3s 42ms/step - loss: 0.0026 - val_loss: 0.0034\n",
            "Epoch 8/45\n",
            "65/65 [==============================] - 3s 42ms/step - loss: 0.0017 - val_loss: 0.0018\n",
            "Epoch 9/45\n",
            "65/65 [==============================] - 3s 43ms/step - loss: 0.0024 - val_loss: 8.0544e-04\n",
            "Epoch 10/45\n",
            "65/65 [==============================] - 3s 42ms/step - loss: 0.0021 - val_loss: 8.5765e-04\n",
            "Epoch 11/45\n",
            "65/65 [==============================] - 3s 42ms/step - loss: 0.0016 - val_loss: 5.1526e-04\n",
            "Epoch 12/45\n",
            "65/65 [==============================] - 3s 42ms/step - loss: 0.0013 - val_loss: 5.0746e-04\n",
            "Epoch 13/45\n",
            "65/65 [==============================] - 3s 42ms/step - loss: 0.0015 - val_loss: 7.1271e-04\n",
            "Epoch 14/45\n",
            "65/65 [==============================] - 3s 42ms/step - loss: 0.0019 - val_loss: 0.0010\n",
            "Epoch 15/45\n",
            "65/65 [==============================] - 3s 42ms/step - loss: 0.0011 - val_loss: 3.0825e-04\n",
            "Epoch 16/45\n",
            "65/65 [==============================] - 3s 42ms/step - loss: 8.9595e-04 - val_loss: 3.2868e-04\n",
            "Epoch 17/45\n",
            "65/65 [==============================] - 3s 42ms/step - loss: 9.8214e-04 - val_loss: 3.5461e-04\n",
            "Epoch 18/45\n",
            "65/65 [==============================] - 3s 42ms/step - loss: 0.0013 - val_loss: 3.4973e-04\n",
            "Epoch 19/45\n",
            "65/65 [==============================] - 3s 41ms/step - loss: 7.1036e-04 - val_loss: 9.4027e-04\n",
            "Epoch 20/45\n",
            "65/65 [==============================] - 3s 41ms/step - loss: 7.3238e-04 - val_loss: 9.9017e-04\n",
            "Epoch 21/45\n",
            "65/65 [==============================] - 3s 41ms/step - loss: 7.6325e-04 - val_loss: 8.3648e-04\n",
            "Epoch 22/45\n",
            "65/65 [==============================] - 3s 41ms/step - loss: 9.8022e-04 - val_loss: 9.1273e-04\n",
            "Epoch 23/45\n",
            "65/65 [==============================] - 3s 41ms/step - loss: 4.4402e-04 - val_loss: 1.9972e-04\n",
            "Epoch 24/45\n",
            "65/65 [==============================] - 3s 41ms/step - loss: 5.8626e-04 - val_loss: 4.4308e-04\n",
            "Epoch 25/45\n",
            "65/65 [==============================] - 3s 41ms/step - loss: 5.9012e-04 - val_loss: 2.8825e-04\n",
            "Epoch 26/45\n",
            "65/65 [==============================] - 3s 42ms/step - loss: 7.1180e-04 - val_loss: 3.0803e-04\n",
            "Epoch 27/45\n",
            "65/65 [==============================] - 3s 41ms/step - loss: 2.9981e-04 - val_loss: 2.5591e-04\n",
            "Epoch 28/45\n",
            "65/65 [==============================] - 3s 47ms/step - loss: 3.2019e-04 - val_loss: 1.2628e-04\n",
            "Epoch 29/45\n",
            "65/65 [==============================] - 3s 50ms/step - loss: 2.4949e-04 - val_loss: 2.8717e-04\n",
            "Epoch 30/45\n",
            "65/65 [==============================] - 3s 41ms/step - loss: 4.5094e-04 - val_loss: 4.8205e-04\n",
            "Epoch 31/45\n",
            "65/65 [==============================] - 3s 41ms/step - loss: 2.4003e-04 - val_loss: 4.0942e-04\n",
            "Epoch 32/45\n",
            "65/65 [==============================] - 3s 41ms/step - loss: 4.3339e-04 - val_loss: 3.1307e-04\n",
            "Epoch 33/45\n",
            "65/65 [==============================] - 3s 41ms/step - loss: 1.7966e-04 - val_loss: 1.3619e-04\n",
            "Epoch 34/45\n",
            "65/65 [==============================] - 3s 41ms/step - loss: 2.2225e-04 - val_loss: 6.3664e-04\n",
            "Epoch 35/45\n",
            "65/65 [==============================] - 3s 41ms/step - loss: 1.8962e-04 - val_loss: 3.5652e-04\n",
            "Epoch 36/45\n",
            "65/65 [==============================] - 3s 42ms/step - loss: 2.1514e-04 - val_loss: 3.0974e-04\n",
            "Epoch 37/45\n",
            "65/65 [==============================] - 3s 42ms/step - loss: 1.4983e-04 - val_loss: 9.3831e-04\n",
            "Epoch 38/45\n",
            "65/65 [==============================] - 3s 42ms/step - loss: 1.2558e-04 - val_loss: 6.0771e-04\n",
            "Epoch 39/45\n",
            "65/65 [==============================] - 3s 42ms/step - loss: 3.7189e-04 - val_loss: 3.8778e-04\n",
            "Epoch 40/45\n",
            "65/65 [==============================] - 3s 41ms/step - loss: 6.0254e-05 - val_loss: 3.0598e-04\n",
            "Epoch 41/45\n",
            "65/65 [==============================] - 3s 41ms/step - loss: 5.1065e-04 - val_loss: 0.0010\n",
            "Epoch 42/45\n",
            "65/65 [==============================] - 3s 41ms/step - loss: 7.1233e-05 - val_loss: 0.0011\n",
            "Epoch 43/45\n",
            "65/65 [==============================] - 4s 60ms/step - loss: 1.6149e-04 - val_loss: 0.0012\n",
            "Epoch 44/45\n",
            "65/65 [==============================] - 3s 51ms/step - loss: 1.1593e-04 - val_loss: 8.7603e-04\n",
            "Epoch 45/45\n",
            "65/65 [==============================] - 3s 42ms/step - loss: 9.0204e-05 - val_loss: 0.0012\n"
          ]
        }
      ]
    },
    {
      "cell_type": "code",
      "source": [
        "multi_head.save_weights('./checkpoints/final_checkpoint_1')\n"
      ],
      "metadata": {
        "id": "sD-Y6SRfkUeC"
      },
      "execution_count": null,
      "outputs": []
    },
    {
      "cell_type": "code",
      "source": [
        "multi_head.load_weights('./checkpoints/final_checkpoint_1')"
      ],
      "metadata": {
        "id": "Sw-G_nZoo6s4",
        "colab": {
          "base_uri": "https://localhost:8080/"
        },
        "outputId": "95a3a038-95f2-400e-ba02-dcb9b37d4540"
      },
      "execution_count": null,
      "outputs": [
        {
          "output_type": "execute_result",
          "data": {
            "text/plain": [
              "<tensorflow.python.training.tracking.util.CheckpointLoadStatus at 0x7f2c9e2c97c0>"
            ]
          },
          "metadata": {},
          "execution_count": 90
        }
      ]
    },
    {
      "cell_type": "code",
      "source": [
        "predicted_stock_price_multi_head = multi_head.predict(X_test)\n",
        "predicted_stock_price_multi_head.shape\n"
      ],
      "metadata": {
        "id": "_s_-JjdDo66k",
        "colab": {
          "base_uri": "https://localhost:8080/"
        },
        "outputId": "eeef03c3-0667-4ecb-b0b9-0048d0a23750"
      },
      "execution_count": null,
      "outputs": [
        {
          "output_type": "stream",
          "name": "stdout",
          "text": [
            "14/14 [==============================] - 2s 12ms/step\n"
          ]
        },
        {
          "output_type": "execute_result",
          "data": {
            "text/plain": [
              "(430, 1)"
            ]
          },
          "metadata": {},
          "execution_count": 91
        }
      ]
    },
    {
      "cell_type": "code",
      "source": [
        "predicted_stock_price = np.vstack((np.full((60,1), np.nan), predicted_stock_price_multi_head))\n"
      ],
      "metadata": {
        "id": "svoqUSgDo7KE"
      },
      "execution_count": null,
      "outputs": []
    },
    {
      "cell_type": "code",
      "source": [
        "plt.plot(y_test, color = 'black')\n",
        "plt.title('SUN PHARMA NORMALIZED CLOSING PRICE', fontsize=10)\n",
        "#plt.xticks(range(0,df.shape[0],50),df['Date'].loc[::50],rotation=45)\n",
        "plt.xlabel('DateTime')\n",
        "plt.ylabel('Close Price')\n",
        "plt.legend(fontsize=18)\n",
        "plt.show()\n"
      ],
      "metadata": {
        "id": "2ppda1nOo7ZH",
        "colab": {
          "base_uri": "https://localhost:8080/",
          "height": 310
        },
        "outputId": "b5d7f1f9-a2d0-41b4-9cbc-1cd20af36d6b"
      },
      "execution_count": null,
      "outputs": [
        {
          "output_type": "stream",
          "name": "stderr",
          "text": [
            "WARNING:matplotlib.legend:No handles with labels found to put in legend.\n"
          ]
        },
        {
          "output_type": "display_data",
          "data": {
            "text/plain": [
              "<Figure size 432x288 with 1 Axes>"
            ],
            "image/png": "[encoded data removed]"
          },
          "metadata": {
            "needs_background": "light"
          }
        }
      ]
    },
    {
      "cell_type": "code",
      "source": [
        "plt.plot(predicted_stock_price, color = 'green')\n",
        "plt.title('SUN PHARMA PREDICTED NORMALIZED PREDICTED PRICE', fontsize=10)\n",
        "#plt.xticks(range(0,df.shape[0],50),df['Date'].loc[::50],rotation=45)\n",
        "plt.xlabel('DateTime')\n",
        "plt.ylabel('Close Price')\n",
        "plt.legend(fontsize=18)\n",
        "plt.show()"
      ],
      "metadata": {
        "id": "Dv9q478BbBXd",
        "colab": {
          "base_uri": "https://localhost:8080/",
          "height": 310
        },
        "outputId": "c2211410-a51f-40e8-d226-ac0b4da126b7"
      },
      "execution_count": null,
      "outputs": [
        {
          "output_type": "stream",
          "name": "stderr",
          "text": [
            "WARNING:matplotlib.legend:No handles with labels found to put in legend.\n"
          ]
        },
        {
          "output_type": "display_data",
          "data": {
            "text/plain": [
              "<Figure size 432x288 with 1 Axes>"
            ],
            "image/png": "[encoded data removed]"
          },
          "metadata": {
            "needs_background": "light"
          }
        }
      ]
    }
  ],
  "metadata": {
    "accelerator": "GPU",
    "colab": {
      "provenance": []
    },
    "kernelspec": {
      "display_name": "Python 3 (ipykernel)",
      "language": "python",
      "name": "python3"
    },
    "language_info": {
      "codemirror_mode": {
        "name": "ipython",
        "version": 3
      },
      "file_extension": ".py",
      "mimetype": "text/x-python",
      "name": "python",
      "nbconvert_exporter": "python",
      "pygments_lexer": "ipython3",
      "version": "3.10.6"
    },
    "gpuClass": "standard"
  },
  "nbformat": 4,
  "nbformat_minor": 0
}