{
  "cells": [
    {
      "cell_type": "code",
      "execution_count": null,
      "metadata": {
        "id": "ElzIUaQGadps"
      },
      "outputs": [],
      "source": [
        "import numpy as np\n",
        "import matplotlib.pyplot as plt\n",
        "import pandas as pd\n",
        "import os \n",
        "import tensorflow as tf\n",
        "import tensorflow_datasets as tfds\n",
        "from sklearn.preprocessing import MinMaxScaler"
      ]
    },
    {
      "cell_type": "code",
      "execution_count": null,
      "metadata": {
        "id": "ECJYs_ANO0nO",
        "colab": {
          "base_uri": "https://localhost:8080/"
        },
        "outputId": "0336ca43-7c10-4576-c998-73c7c87a9c8d"
      },
      "outputs": [
        {
          "output_type": "stream",
          "name": "stdout",
          "text": [
            "Drive already mounted at /content/drive; to attempt to forcibly remount, call drive.mount(\"/content/drive\", force_remount=True).\n"
          ]
        }
      ],
      "source": [
        "from google.colab import drive\n",
        "drive.mount('/content/drive')\n"
      ]
    },
    {
      "cell_type": "code",
      "execution_count": null,
      "metadata": {
        "id": "vgwt0lhi9TqR",
        "colab": {
          "base_uri": "https://localhost:8080/"
        },
        "outputId": "528f3d04-fc33-426d-dccf-5fb8c676bb6a"
      },
      "outputs": [
        {
          "output_type": "execute_result",
          "data": {
            "text/plain": [
              "<module 'tensorflow._api.v2.version' from '/usr/local/lib/python3.8/dist-packages/tensorflow/_api/v2/version/__init__.py'>"
            ]
          },
          "metadata": {},
          "execution_count": 399
        }
      ],
      "source": [
        "tf.version"
      ]
    },
    {
      "cell_type": "markdown",
      "metadata": {
        "id": "GCMYV6lun9x9"
      },
      "source": [
        "# PREPROCESSING"
      ]
    },
    {
      "cell_type": "markdown",
      "metadata": {
        "id": "5KZb3n9koEEl"
      },
      "source": [
        "Read IBM stock OHLC ( open, high, low, close) and S&P 500 bid/ask data. data into pandas dataframe."
      ]
    },
    {
      "cell_type": "code",
      "execution_count": null,
      "metadata": {
        "id": "2-EtUNr9aypc",
        "colab": {
          "base_uri": "https://localhost:8080/",
          "height": 206
        },
        "outputId": "298eeb74-7d20-4b52-de3c-cbb22eb75eee"
      },
      "outputs": [
        {
          "output_type": "execute_result",
          "data": {
            "text/plain": [
              "         Date   Open   High    Low   Last   Close  Volume\n",
              "0  03-01-2000  370.0  390.0  370.0  385.0  381.65    3318\n",
              "1  04-01-2000  380.0  392.0  375.0  390.0  385.55    4818\n",
              "2  05-01-2000  371.5  390.0  371.5  383.0  383.00    2628\n",
              "3  06-01-2000  384.9  384.9  374.5  375.1  377.50    3354\n",
              "4  07-01-2000  376.0  390.0  370.0  389.0  385.70    9589"
            ],
            "text/html": [
              "\n",
              "  <div id=\"df-27fa5715-d690-41c7-8c33-059d247cc7f5\">\n",
              "    <div class=\"colab-df-container\">\n",
              "      <div>\n",
              "<style scoped>\n",
              "    .dataframe tbody tr th:only-of-type {\n",
              "        vertical-align: middle;\n",
              "    }\n",
              "\n",
              "    .dataframe tbody tr th {\n",
              "        vertical-align: top;\n",
              "    }\n",
              "\n",
              "    .dataframe thead th {\n",
              "        text-align: right;\n",
              "    }\n",
              "</style>\n",
              "<table border=\"1\" class=\"dataframe\">\n",
              "  <thead>\n",
              "    <tr style=\"text-align: right;\">\n",
              "      <th></th>\n",
              "      <th>Date</th>\n",
              "      <th>Open</th>\n",
              "      <th>High</th>\n",
              "      <th>Low</th>\n",
              "      <th>Last</th>\n",
              "      <th>Close</th>\n",
              "      <th>Volume</th>\n",
              "    </tr>\n",
              "  </thead>\n",
              "  <tbody>\n",
              "    <tr>\n",
              "      <th>0</th>\n",
              "      <td>03-01-2000</td>\n",
              "      <td>370.0</td>\n",
              "      <td>390.0</td>\n",
              "      <td>370.0</td>\n",
              "      <td>385.0</td>\n",
              "      <td>381.65</td>\n",
              "      <td>3318</td>\n",
              "    </tr>\n",
              "    <tr>\n",
              "      <th>1</th>\n",
              "      <td>04-01-2000</td>\n",
              "      <td>380.0</td>\n",
              "      <td>392.0</td>\n",
              "      <td>375.0</td>\n",
              "      <td>390.0</td>\n",
              "      <td>385.55</td>\n",
              "      <td>4818</td>\n",
              "    </tr>\n",
              "    <tr>\n",
              "      <th>2</th>\n",
              "      <td>05-01-2000</td>\n",
              "      <td>371.5</td>\n",
              "      <td>390.0</td>\n",
              "      <td>371.5</td>\n",
              "      <td>383.0</td>\n",
              "      <td>383.00</td>\n",
              "      <td>2628</td>\n",
              "    </tr>\n",
              "    <tr>\n",
              "      <th>3</th>\n",
              "      <td>06-01-2000</td>\n",
              "      <td>384.9</td>\n",
              "      <td>384.9</td>\n",
              "      <td>374.5</td>\n",
              "      <td>375.1</td>\n",
              "      <td>377.50</td>\n",
              "      <td>3354</td>\n",
              "    </tr>\n",
              "    <tr>\n",
              "      <th>4</th>\n",
              "      <td>07-01-2000</td>\n",
              "      <td>376.0</td>\n",
              "      <td>390.0</td>\n",
              "      <td>370.0</td>\n",
              "      <td>389.0</td>\n",
              "      <td>385.70</td>\n",
              "      <td>9589</td>\n",
              "    </tr>\n",
              "  </tbody>\n",
              "</table>\n",
              "</div>\n",
              "      <button class=\"colab-df-convert\" onclick=\"convertToInteractive('df-27fa5715-d690-41c7-8c33-059d247cc7f5')\"\n",
              "              title=\"Convert this dataframe to an interactive table.\"\n",
              "              style=\"display:none;\">\n",
              "        \n",
              "  <svg xmlns=\"http://www.w3.org/2000/svg\" height=\"24px\"viewBox=\"0 0 24 24\"\n",
              "       width=\"24px\">\n",
              "    <path d=\"M0 0h24v24H0V0z\" fill=\"none\"/>\n",
              "    <path d=\"M18.56 5.44l.94 2.06.94-2.06 2.06-.94-2.06-.94-.94-2.06-.94 2.06-2.06.94zm-11 1L8.5 8.5l.94-2.06 2.06-.94-2.06-.94L8.5 2.5l-.94 2.06-2.06.94zm10 10l.94 2.06.94-2.06 2.06-.94-2.06-.94-.94-2.06-.94 2.06-2.06.94z\"/><path d=\"M17.41 7.96l-1.37-1.37c-.4-.4-.92-.59-1.43-.59-.52 0-1.04.2-1.43.59L10.3 9.45l-7.72 7.72c-.78.78-.78 2.05 0 2.83L4 21.41c.39.39.9.59 1.41.59.51 0 1.02-.2 1.41-.59l7.78-7.78 2.81-2.81c.8-.78.8-2.07 0-2.86zM5.41 20L4 18.59l7.72-7.72 1.47 1.35L5.41 20z\"/>\n",
              "  </svg>\n",
              "      </button>\n",
              "      \n",
              "  <style>\n",
              "    .colab-df-container {\n",
              "      display:flex;\n",
              "      flex-wrap:wrap;\n",
              "      gap: 12px;\n",
              "    }\n",
              "\n",
              "    .colab-df-convert {\n",
              "      background-color: #E8F0FE;\n",
              "      border: none;\n",
              "      border-radius: 50%;\n",
              "      cursor: pointer;\n",
              "      display: none;\n",
              "      fill: #1967D2;\n",
              "      height: 32px;\n",
              "      padding: 0 0 0 0;\n",
              "      width: 32px;\n",
              "    }\n",
              "\n",
              "    .colab-df-convert:hover {\n",
              "      background-color: #E2EBFA;\n",
              "      box-shadow: 0px 1px 2px rgba(60, 64, 67, 0.3), 0px 1px 3px 1px rgba(60, 64, 67, 0.15);\n",
              "      fill: #174EA6;\n",
              "    }\n",
              "\n",
              "    [theme=dark] .colab-df-convert {\n",
              "      background-color: #3B4455;\n",
              "      fill: #D2E3FC;\n",
              "    }\n",
              "\n",
              "    [theme=dark] .colab-df-convert:hover {\n",
              "      background-color: #434B5C;\n",
              "      box-shadow: 0px 1px 3px 1px rgba(0, 0, 0, 0.15);\n",
              "      filter: drop-shadow(0px 1px 2px rgba(0, 0, 0, 0.3));\n",
              "      fill: #FFFFFF;\n",
              "    }\n",
              "  </style>\n",
              "\n",
              "      <script>\n",
              "        const buttonEl =\n",
              "          document.querySelector('#df-27fa5715-d690-41c7-8c33-059d247cc7f5 button.colab-df-convert');\n",
              "        buttonEl.style.display =\n",
              "          google.colab.kernel.accessAllowed ? 'block' : 'none';\n",
              "\n",
              "        async function convertToInteractive(key) {\n",
              "          const element = document.querySelector('#df-27fa5715-d690-41c7-8c33-059d247cc7f5');\n",
              "          const dataTable =\n",
              "            await google.colab.kernel.invokeFunction('convertToInteractive',\n",
              "                                                     [key], {});\n",
              "          if (!dataTable) return;\n",
              "\n",
              "          const docLinkHtml = 'Like what you see? Visit the ' +\n",
              "            '<a target=\"_blank\" href=https://colab.research.google.com/notebooks/data_table.ipynb>data table notebook</a>'\n",
              "            + ' to learn more about interactive tables.';\n",
              "          element.innerHTML = '';\n",
              "          dataTable['output_type'] = 'display_data';\n",
              "          await google.colab.output.renderOutput(dataTable, element);\n",
              "          const docLink = document.createElement('div');\n",
              "          docLink.innerHTML = docLinkHtml;\n",
              "          element.appendChild(docLink);\n",
              "        }\n",
              "      </script>\n",
              "    </div>\n",
              "  </div>\n",
              "  "
            ]
          },
          "metadata": {},
          "execution_count": 400
        }
      ],
      "source": [
        "\n",
        "df_hdfc = pd.read_csv('/content/drive/MyDrive/ASIANPAINT.csv')\n",
        "\n",
        "#df_hdfc.columns = [\"Date\",\"Open\", \"High\", \"Low\", \"Last\", \"Close\", \"Volume\", \"turnover\"]\n",
        "#df_hdfc = df_hdfc.drop(columns=['Last', 'Volume'])\n",
        "\n",
        "df_hdfc.head()"
      ]
    },
    {
      "cell_type": "code",
      "source": [
        "df_hdfc.tail()"
      ],
      "metadata": {
        "colab": {
          "base_uri": "https://localhost:8080/",
          "height": 206
        },
        "id": "wdGvZGG5pLb6",
        "outputId": "80e400f6-2f17-4c3c-89ca-c163e96bef8f"
      },
      "execution_count": null,
      "outputs": [
        {
          "output_type": "execute_result",
          "data": {
            "text/plain": [
              "            Date    Open     High      Low    Last    Close   Volume\n",
              "5301  26-04-2021  2530.0  2575.00  2530.00  2558.0  2557.90  1103980\n",
              "5302  27-04-2021  2545.0  2579.90  2534.00  2571.0  2574.35   866331\n",
              "5303  28-04-2021  2588.0  2620.25  2575.00  2612.0  2614.55  1065561\n",
              "5304  29-04-2021  2630.0  2642.00  2570.00  2613.0  2613.45  1295346\n",
              "5305  30-04-2021  2595.0  2605.80  2524.05  2529.0  2536.40  1384907"
            ],
            "text/html": [
              "\n",
              "  <div id=\"df-b46efe8b-56fc-4600-8771-0adf0ca8665f\">\n",
              "    <div class=\"colab-df-container\">\n",
              "      <div>\n",
              "<style scoped>\n",
              "    .dataframe tbody tr th:only-of-type {\n",
              "        vertical-align: middle;\n",
              "    }\n",
              "\n",
              "    .dataframe tbody tr th {\n",
              "        vertical-align: top;\n",
              "    }\n",
              "\n",
              "    .dataframe thead th {\n",
              "        text-align: right;\n",
              "    }\n",
              "</style>\n",
              "<table border=\"1\" class=\"dataframe\">\n",
              "  <thead>\n",
              "    <tr style=\"text-align: right;\">\n",
              "      <th></th>\n",
              "      <th>Date</th>\n",
              "      <th>Open</th>\n",
              "      <th>High</th>\n",
              "      <th>Low</th>\n",
              "      <th>Last</th>\n",
              "      <th>Close</th>\n",
              "      <th>Volume</th>\n",
              "    </tr>\n",
              "  </thead>\n",
              "  <tbody>\n",
              "    <tr>\n",
              "      <th>5301</th>\n",
              "      <td>26-04-2021</td>\n",
              "      <td>2530.0</td>\n",
              "      <td>2575.00</td>\n",
              "      <td>2530.00</td>\n",
              "      <td>2558.0</td>\n",
              "      <td>2557.90</td>\n",
              "      <td>1103980</td>\n",
              "    </tr>\n",
              "    <tr>\n",
              "      <th>5302</th>\n",
              "      <td>27-04-2021</td>\n",
              "      <td>2545.0</td>\n",
              "      <td>2579.90</td>\n",
              "      <td>2534.00</td>\n",
              "      <td>2571.0</td>\n",
              "      <td>2574.35</td>\n",
              "      <td>866331</td>\n",
              "    </tr>\n",
              "    <tr>\n",
              "      <th>5303</th>\n",
              "      <td>28-04-2021</td>\n",
              "      <td>2588.0</td>\n",
              "      <td>2620.25</td>\n",
              "      <td>2575.00</td>\n",
              "      <td>2612.0</td>\n",
              "      <td>2614.55</td>\n",
              "      <td>1065561</td>\n",
              "    </tr>\n",
              "    <tr>\n",
              "      <th>5304</th>\n",
              "      <td>29-04-2021</td>\n",
              "      <td>2630.0</td>\n",
              "      <td>2642.00</td>\n",
              "      <td>2570.00</td>\n",
              "      <td>2613.0</td>\n",
              "      <td>2613.45</td>\n",
              "      <td>1295346</td>\n",
              "    </tr>\n",
              "    <tr>\n",
              "      <th>5305</th>\n",
              "      <td>30-04-2021</td>\n",
              "      <td>2595.0</td>\n",
              "      <td>2605.80</td>\n",
              "      <td>2524.05</td>\n",
              "      <td>2529.0</td>\n",
              "      <td>2536.40</td>\n",
              "      <td>1384907</td>\n",
              "    </tr>\n",
              "  </tbody>\n",
              "</table>\n",
              "</div>\n",
              "      <button class=\"colab-df-convert\" onclick=\"convertToInteractive('df-b46efe8b-56fc-4600-8771-0adf0ca8665f')\"\n",
              "              title=\"Convert this dataframe to an interactive table.\"\n",
              "              style=\"display:none;\">\n",
              "        \n",
              "  <svg xmlns=\"http://www.w3.org/2000/svg\" height=\"24px\"viewBox=\"0 0 24 24\"\n",
              "       width=\"24px\">\n",
              "    <path d=\"M0 0h24v24H0V0z\" fill=\"none\"/>\n",
              "    <path d=\"M18.56 5.44l.94 2.06.94-2.06 2.06-.94-2.06-.94-.94-2.06-.94 2.06-2.06.94zm-11 1L8.5 8.5l.94-2.06 2.06-.94-2.06-.94L8.5 2.5l-.94 2.06-2.06.94zm10 10l.94 2.06.94-2.06 2.06-.94-2.06-.94-.94-2.06-.94 2.06-2.06.94z\"/><path d=\"M17.41 7.96l-1.37-1.37c-.4-.4-.92-.59-1.43-.59-.52 0-1.04.2-1.43.59L10.3 9.45l-7.72 7.72c-.78.78-.78 2.05 0 2.83L4 21.41c.39.39.9.59 1.41.59.51 0 1.02-.2 1.41-.59l7.78-7.78 2.81-2.81c.8-.78.8-2.07 0-2.86zM5.41 20L4 18.59l7.72-7.72 1.47 1.35L5.41 20z\"/>\n",
              "  </svg>\n",
              "      </button>\n",
              "      \n",
              "  <style>\n",
              "    .colab-df-container {\n",
              "      display:flex;\n",
              "      flex-wrap:wrap;\n",
              "      gap: 12px;\n",
              "    }\n",
              "\n",
              "    .colab-df-convert {\n",
              "      background-color: #E8F0FE;\n",
              "      border: none;\n",
              "      border-radius: 50%;\n",
              "      cursor: pointer;\n",
              "      display: none;\n",
              "      fill: #1967D2;\n",
              "      height: 32px;\n",
              "      padding: 0 0 0 0;\n",
              "      width: 32px;\n",
              "    }\n",
              "\n",
              "    .colab-df-convert:hover {\n",
              "      background-color: #E2EBFA;\n",
              "      box-shadow: 0px 1px 2px rgba(60, 64, 67, 0.3), 0px 1px 3px 1px rgba(60, 64, 67, 0.15);\n",
              "      fill: #174EA6;\n",
              "    }\n",
              "\n",
              "    [theme=dark] .colab-df-convert {\n",
              "      background-color: #3B4455;\n",
              "      fill: #D2E3FC;\n",
              "    }\n",
              "\n",
              "    [theme=dark] .colab-df-convert:hover {\n",
              "      background-color: #434B5C;\n",
              "      box-shadow: 0px 1px 3px 1px rgba(0, 0, 0, 0.15);\n",
              "      filter: drop-shadow(0px 1px 2px rgba(0, 0, 0, 0.3));\n",
              "      fill: #FFFFFF;\n",
              "    }\n",
              "  </style>\n",
              "\n",
              "      <script>\n",
              "        const buttonEl =\n",
              "          document.querySelector('#df-b46efe8b-56fc-4600-8771-0adf0ca8665f button.colab-df-convert');\n",
              "        buttonEl.style.display =\n",
              "          google.colab.kernel.accessAllowed ? 'block' : 'none';\n",
              "\n",
              "        async function convertToInteractive(key) {\n",
              "          const element = document.querySelector('#df-b46efe8b-56fc-4600-8771-0adf0ca8665f');\n",
              "          const dataTable =\n",
              "            await google.colab.kernel.invokeFunction('convertToInteractive',\n",
              "                                                     [key], {});\n",
              "          if (!dataTable) return;\n",
              "\n",
              "          const docLinkHtml = 'Like what you see? Visit the ' +\n",
              "            '<a target=\"_blank\" href=https://colab.research.google.com/notebooks/data_table.ipynb>data table notebook</a>'\n",
              "            + ' to learn more about interactive tables.';\n",
              "          element.innerHTML = '';\n",
              "          dataTable['output_type'] = 'display_data';\n",
              "          await google.colab.output.renderOutput(dataTable, element);\n",
              "          const docLink = document.createElement('div');\n",
              "          docLink.innerHTML = docLinkHtml;\n",
              "          element.appendChild(docLink);\n",
              "        }\n",
              "      </script>\n",
              "    </div>\n",
              "  </div>\n",
              "  "
            ]
          },
          "metadata": {},
          "execution_count": 401
        }
      ]
    },
    {
      "cell_type": "markdown",
      "metadata": {
        "id": "YeLQBOMmoZk1"
      },
      "source": [
        "Transform Bid/Ask data to OHLC format by taking average of both low and high counterparts."
      ]
    },
    {
      "cell_type": "code",
      "execution_count": null,
      "metadata": {
        "id": "370gkYqZDwDb",
        "colab": {
          "base_uri": "https://localhost:8080/"
        },
        "outputId": "c88ba126-7ad2-4ccc-b931-83a87200cb6b"
      },
      "outputs": [
        {
          "output_type": "execute_result",
          "data": {
            "text/plain": [
              "(5306, 7)"
            ]
          },
          "metadata": {},
          "execution_count": 402
        }
      ],
      "source": [
        "df_hdfc.shape       "
      ]
    },
    {
      "cell_type": "markdown",
      "metadata": {
        "id": "zwcwjFlyo_SA"
      },
      "source": [
        "**Create training data**"
      ]
    },
    {
      "cell_type": "code",
      "execution_count": null,
      "metadata": {
        "id": "evU0tFrjxg4l"
      },
      "outputs": [],
      "source": [
        "df = df_hdfc\n"
      ]
    },
    {
      "cell_type": "code",
      "execution_count": null,
      "metadata": {
        "id": "tDkos_NMd-wn",
        "colab": {
          "base_uri": "https://localhost:8080/",
          "height": 206
        },
        "outputId": "951071b9-8d87-498a-dea8-7fc67e8e264f"
      },
      "outputs": [
        {
          "output_type": "execute_result",
          "data": {
            "text/plain": [
              "         Date   Open   High    Low   Last   Close  Volume\n",
              "0  03-01-2000  370.0  390.0  370.0  385.0  381.65    3318\n",
              "1  04-01-2000  380.0  392.0  375.0  390.0  385.55    4818\n",
              "2  05-01-2000  371.5  390.0  371.5  383.0  383.00    2628\n",
              "3  06-01-2000  384.9  384.9  374.5  375.1  377.50    3354\n",
              "4  07-01-2000  376.0  390.0  370.0  389.0  385.70    9589"
            ],
            "text/html": [
              "\n",
              "  <div id=\"df-5464317c-79e1-47eb-bd00-f1f5cdd22d21\">\n",
              "    <div class=\"colab-df-container\">\n",
              "      <div>\n",
              "<style scoped>\n",
              "    .dataframe tbody tr th:only-of-type {\n",
              "        vertical-align: middle;\n",
              "    }\n",
              "\n",
              "    .dataframe tbody tr th {\n",
              "        vertical-align: top;\n",
              "    }\n",
              "\n",
              "    .dataframe thead th {\n",
              "        text-align: right;\n",
              "    }\n",
              "</style>\n",
              "<table border=\"1\" class=\"dataframe\">\n",
              "  <thead>\n",
              "    <tr style=\"text-align: right;\">\n",
              "      <th></th>\n",
              "      <th>Date</th>\n",
              "      <th>Open</th>\n",
              "      <th>High</th>\n",
              "      <th>Low</th>\n",
              "      <th>Last</th>\n",
              "      <th>Close</th>\n",
              "      <th>Volume</th>\n",
              "    </tr>\n",
              "  </thead>\n",
              "  <tbody>\n",
              "    <tr>\n",
              "      <th>0</th>\n",
              "      <td>03-01-2000</td>\n",
              "      <td>370.0</td>\n",
              "      <td>390.0</td>\n",
              "      <td>370.0</td>\n",
              "      <td>385.0</td>\n",
              "      <td>381.65</td>\n",
              "      <td>3318</td>\n",
              "    </tr>\n",
              "    <tr>\n",
              "      <th>1</th>\n",
              "      <td>04-01-2000</td>\n",
              "      <td>380.0</td>\n",
              "      <td>392.0</td>\n",
              "      <td>375.0</td>\n",
              "      <td>390.0</td>\n",
              "      <td>385.55</td>\n",
              "      <td>4818</td>\n",
              "    </tr>\n",
              "    <tr>\n",
              "      <th>2</th>\n",
              "      <td>05-01-2000</td>\n",
              "      <td>371.5</td>\n",
              "      <td>390.0</td>\n",
              "      <td>371.5</td>\n",
              "      <td>383.0</td>\n",
              "      <td>383.00</td>\n",
              "      <td>2628</td>\n",
              "    </tr>\n",
              "    <tr>\n",
              "      <th>3</th>\n",
              "      <td>06-01-2000</td>\n",
              "      <td>384.9</td>\n",
              "      <td>384.9</td>\n",
              "      <td>374.5</td>\n",
              "      <td>375.1</td>\n",
              "      <td>377.50</td>\n",
              "      <td>3354</td>\n",
              "    </tr>\n",
              "    <tr>\n",
              "      <th>4</th>\n",
              "      <td>07-01-2000</td>\n",
              "      <td>376.0</td>\n",
              "      <td>390.0</td>\n",
              "      <td>370.0</td>\n",
              "      <td>389.0</td>\n",
              "      <td>385.70</td>\n",
              "      <td>9589</td>\n",
              "    </tr>\n",
              "  </tbody>\n",
              "</table>\n",
              "</div>\n",
              "      <button class=\"colab-df-convert\" onclick=\"convertToInteractive('df-5464317c-79e1-47eb-bd00-f1f5cdd22d21')\"\n",
              "              title=\"Convert this dataframe to an interactive table.\"\n",
              "              style=\"display:none;\">\n",
              "        \n",
              "  <svg xmlns=\"http://www.w3.org/2000/svg\" height=\"24px\"viewBox=\"0 0 24 24\"\n",
              "       width=\"24px\">\n",
              "    <path d=\"M0 0h24v24H0V0z\" fill=\"none\"/>\n",
              "    <path d=\"M18.56 5.44l.94 2.06.94-2.06 2.06-.94-2.06-.94-.94-2.06-.94 2.06-2.06.94zm-11 1L8.5 8.5l.94-2.06 2.06-.94-2.06-.94L8.5 2.5l-.94 2.06-2.06.94zm10 10l.94 2.06.94-2.06 2.06-.94-2.06-.94-.94-2.06-.94 2.06-2.06.94z\"/><path d=\"M17.41 7.96l-1.37-1.37c-.4-.4-.92-.59-1.43-.59-.52 0-1.04.2-1.43.59L10.3 9.45l-7.72 7.72c-.78.78-.78 2.05 0 2.83L4 21.41c.39.39.9.59 1.41.59.51 0 1.02-.2 1.41-.59l7.78-7.78 2.81-2.81c.8-.78.8-2.07 0-2.86zM5.41 20L4 18.59l7.72-7.72 1.47 1.35L5.41 20z\"/>\n",
              "  </svg>\n",
              "      </button>\n",
              "      \n",
              "  <style>\n",
              "    .colab-df-container {\n",
              "      display:flex;\n",
              "      flex-wrap:wrap;\n",
              "      gap: 12px;\n",
              "    }\n",
              "\n",
              "    .colab-df-convert {\n",
              "      background-color: #E8F0FE;\n",
              "      border: none;\n",
              "      border-radius: 50%;\n",
              "      cursor: pointer;\n",
              "      display: none;\n",
              "      fill: #1967D2;\n",
              "      height: 32px;\n",
              "      padding: 0 0 0 0;\n",
              "      width: 32px;\n",
              "    }\n",
              "\n",
              "    .colab-df-convert:hover {\n",
              "      background-color: #E2EBFA;\n",
              "      box-shadow: 0px 1px 2px rgba(60, 64, 67, 0.3), 0px 1px 3px 1px rgba(60, 64, 67, 0.15);\n",
              "      fill: #174EA6;\n",
              "    }\n",
              "\n",
              "    [theme=dark] .colab-df-convert {\n",
              "      background-color: #3B4455;\n",
              "      fill: #D2E3FC;\n",
              "    }\n",
              "\n",
              "    [theme=dark] .colab-df-convert:hover {\n",
              "      background-color: #434B5C;\n",
              "      box-shadow: 0px 1px 3px 1px rgba(0, 0, 0, 0.15);\n",
              "      filter: drop-shadow(0px 1px 2px rgba(0, 0, 0, 0.3));\n",
              "      fill: #FFFFFF;\n",
              "    }\n",
              "  </style>\n",
              "\n",
              "      <script>\n",
              "        const buttonEl =\n",
              "          document.querySelector('#df-5464317c-79e1-47eb-bd00-f1f5cdd22d21 button.colab-df-convert');\n",
              "        buttonEl.style.display =\n",
              "          google.colab.kernel.accessAllowed ? 'block' : 'none';\n",
              "\n",
              "        async function convertToInteractive(key) {\n",
              "          const element = document.querySelector('#df-5464317c-79e1-47eb-bd00-f1f5cdd22d21');\n",
              "          const dataTable =\n",
              "            await google.colab.kernel.invokeFunction('convertToInteractive',\n",
              "                                                     [key], {});\n",
              "          if (!dataTable) return;\n",
              "\n",
              "          const docLinkHtml = 'Like what you see? Visit the ' +\n",
              "            '<a target=\"_blank\" href=https://colab.research.google.com/notebooks/data_table.ipynb>data table notebook</a>'\n",
              "            + ' to learn more about interactive tables.';\n",
              "          element.innerHTML = '';\n",
              "          dataTable['output_type'] = 'display_data';\n",
              "          await google.colab.output.renderOutput(dataTable, element);\n",
              "          const docLink = document.createElement('div');\n",
              "          docLink.innerHTML = docLinkHtml;\n",
              "          element.appendChild(docLink);\n",
              "        }\n",
              "      </script>\n",
              "    </div>\n",
              "  </div>\n",
              "  "
            ]
          },
          "metadata": {},
          "execution_count": 404
        }
      ],
      "source": [
        "\n",
        "df.head()"
      ]
    },
    {
      "cell_type": "markdown",
      "metadata": {
        "id": "1Xm-OPMBpJ2c"
      },
      "source": []
    },
    {
      "cell_type": "code",
      "execution_count": null,
      "metadata": {
        "id": "ett7V56heRCw"
      },
      "outputs": [],
      "source": [
        "df_hdfc.drop([0], axis=0,inplace = True)"
      ]
    },
    {
      "cell_type": "markdown",
      "metadata": {
        "id": "H4BlD4ejpT_P"
      },
      "source": [
        "df_hdfc"
      ]
    },
    {
      "cell_type": "code",
      "execution_count": null,
      "metadata": {
        "id": "ZKrDMMJE_jxJ",
        "colab": {
          "base_uri": "https://localhost:8080/",
          "height": 455
        },
        "outputId": "8f9ff666-dee9-4664-ff4a-e211c7cbc516"
      },
      "outputs": [
        {
          "output_type": "execute_result",
          "data": {
            "text/plain": [
              "              Open     High      Low    Last    Close   Volume\n",
              "Date                                                          \n",
              "2000-04-01   380.0   392.00   375.00   390.0   385.55     4818\n",
              "2000-05-01   371.5   390.00   371.50   383.0   383.00     2628\n",
              "2000-06-01   384.9   384.90   374.50   375.1   377.50     3354\n",
              "2000-07-01   376.0   390.00   370.00   389.0   385.70     9589\n",
              "2000-10-01   415.0   416.60   409.00   416.6   415.00    60313\n",
              "...            ...      ...      ...     ...      ...      ...\n",
              "2021-04-26  2530.0  2575.00  2530.00  2558.0  2557.90  1103980\n",
              "2021-04-27  2545.0  2579.90  2534.00  2571.0  2574.35   866331\n",
              "2021-04-28  2588.0  2620.25  2575.00  2612.0  2614.55  1065561\n",
              "2021-04-29  2630.0  2642.00  2570.00  2613.0  2613.45  1295346\n",
              "2021-04-30  2595.0  2605.80  2524.05  2529.0  2536.40  1384907\n",
              "\n",
              "[5305 rows x 6 columns]"
            ],
            "text/html": [
              "\n",
              "  <div id=\"df-37c0d28b-7ce7-4b99-bf03-ac30a2a3e7d4\">\n",
              "    <div class=\"colab-df-container\">\n",
              "      <div>\n",
              "<style scoped>\n",
              "    .dataframe tbody tr th:only-of-type {\n",
              "        vertical-align: middle;\n",
              "    }\n",
              "\n",
              "    .dataframe tbody tr th {\n",
              "        vertical-align: top;\n",
              "    }\n",
              "\n",
              "    .dataframe thead th {\n",
              "        text-align: right;\n",
              "    }\n",
              "</style>\n",
              "<table border=\"1\" class=\"dataframe\">\n",
              "  <thead>\n",
              "    <tr style=\"text-align: right;\">\n",
              "      <th></th>\n",
              "      <th>Open</th>\n",
              "      <th>High</th>\n",
              "      <th>Low</th>\n",
              "      <th>Last</th>\n",
              "      <th>Close</th>\n",
              "      <th>Volume</th>\n",
              "    </tr>\n",
              "    <tr>\n",
              "      <th>Date</th>\n",
              "      <th></th>\n",
              "      <th></th>\n",
              "      <th></th>\n",
              "      <th></th>\n",
              "      <th></th>\n",
              "      <th></th>\n",
              "    </tr>\n",
              "  </thead>\n",
              "  <tbody>\n",
              "    <tr>\n",
              "      <th>2000-04-01</th>\n",
              "      <td>380.0</td>\n",
              "      <td>392.00</td>\n",
              "      <td>375.00</td>\n",
              "      <td>390.0</td>\n",
              "      <td>385.55</td>\n",
              "      <td>4818</td>\n",
              "    </tr>\n",
              "    <tr>\n",
              "      <th>2000-05-01</th>\n",
              "      <td>371.5</td>\n",
              "      <td>390.00</td>\n",
              "      <td>371.50</td>\n",
              "      <td>383.0</td>\n",
              "      <td>383.00</td>\n",
              "      <td>2628</td>\n",
              "    </tr>\n",
              "    <tr>\n",
              "      <th>2000-06-01</th>\n",
              "      <td>384.9</td>\n",
              "      <td>384.90</td>\n",
              "      <td>374.50</td>\n",
              "      <td>375.1</td>\n",
              "      <td>377.50</td>\n",
              "      <td>3354</td>\n",
              "    </tr>\n",
              "    <tr>\n",
              "      <th>2000-07-01</th>\n",
              "      <td>376.0</td>\n",
              "      <td>390.00</td>\n",
              "      <td>370.00</td>\n",
              "      <td>389.0</td>\n",
              "      <td>385.70</td>\n",
              "      <td>9589</td>\n",
              "    </tr>\n",
              "    <tr>\n",
              "      <th>2000-10-01</th>\n",
              "      <td>415.0</td>\n",
              "      <td>416.60</td>\n",
              "      <td>409.00</td>\n",
              "      <td>416.6</td>\n",
              "      <td>415.00</td>\n",
              "      <td>60313</td>\n",
              "    </tr>\n",
              "    <tr>\n",
              "      <th>...</th>\n",
              "      <td>...</td>\n",
              "      <td>...</td>\n",
              "      <td>...</td>\n",
              "      <td>...</td>\n",
              "      <td>...</td>\n",
              "      <td>...</td>\n",
              "    </tr>\n",
              "    <tr>\n",
              "      <th>2021-04-26</th>\n",
              "      <td>2530.0</td>\n",
              "      <td>2575.00</td>\n",
              "      <td>2530.00</td>\n",
              "      <td>2558.0</td>\n",
              "      <td>2557.90</td>\n",
              "      <td>1103980</td>\n",
              "    </tr>\n",
              "    <tr>\n",
              "      <th>2021-04-27</th>\n",
              "      <td>2545.0</td>\n",
              "      <td>2579.90</td>\n",
              "      <td>2534.00</td>\n",
              "      <td>2571.0</td>\n",
              "      <td>2574.35</td>\n",
              "      <td>866331</td>\n",
              "    </tr>\n",
              "    <tr>\n",
              "      <th>2021-04-28</th>\n",
              "      <td>2588.0</td>\n",
              "      <td>2620.25</td>\n",
              "      <td>2575.00</td>\n",
              "      <td>2612.0</td>\n",
              "      <td>2614.55</td>\n",
              "      <td>1065561</td>\n",
              "    </tr>\n",
              "    <tr>\n",
              "      <th>2021-04-29</th>\n",
              "      <td>2630.0</td>\n",
              "      <td>2642.00</td>\n",
              "      <td>2570.00</td>\n",
              "      <td>2613.0</td>\n",
              "      <td>2613.45</td>\n",
              "      <td>1295346</td>\n",
              "    </tr>\n",
              "    <tr>\n",
              "      <th>2021-04-30</th>\n",
              "      <td>2595.0</td>\n",
              "      <td>2605.80</td>\n",
              "      <td>2524.05</td>\n",
              "      <td>2529.0</td>\n",
              "      <td>2536.40</td>\n",
              "      <td>1384907</td>\n",
              "    </tr>\n",
              "  </tbody>\n",
              "</table>\n",
              "<p>5305 rows × 6 columns</p>\n",
              "</div>\n",
              "      <button class=\"colab-df-convert\" onclick=\"convertToInteractive('df-37c0d28b-7ce7-4b99-bf03-ac30a2a3e7d4')\"\n",
              "              title=\"Convert this dataframe to an interactive table.\"\n",
              "              style=\"display:none;\">\n",
              "        \n",
              "  <svg xmlns=\"http://www.w3.org/2000/svg\" height=\"24px\"viewBox=\"0 0 24 24\"\n",
              "       width=\"24px\">\n",
              "    <path d=\"M0 0h24v24H0V0z\" fill=\"none\"/>\n",
              "    <path d=\"M18.56 5.44l.94 2.06.94-2.06 2.06-.94-2.06-.94-.94-2.06-.94 2.06-2.06.94zm-11 1L8.5 8.5l.94-2.06 2.06-.94-2.06-.94L8.5 2.5l-.94 2.06-2.06.94zm10 10l.94 2.06.94-2.06 2.06-.94-2.06-.94-.94-2.06-.94 2.06-2.06.94z\"/><path d=\"M17.41 7.96l-1.37-1.37c-.4-.4-.92-.59-1.43-.59-.52 0-1.04.2-1.43.59L10.3 9.45l-7.72 7.72c-.78.78-.78 2.05 0 2.83L4 21.41c.39.39.9.59 1.41.59.51 0 1.02-.2 1.41-.59l7.78-7.78 2.81-2.81c.8-.78.8-2.07 0-2.86zM5.41 20L4 18.59l7.72-7.72 1.47 1.35L5.41 20z\"/>\n",
              "  </svg>\n",
              "      </button>\n",
              "      \n",
              "  <style>\n",
              "    .colab-df-container {\n",
              "      display:flex;\n",
              "      flex-wrap:wrap;\n",
              "      gap: 12px;\n",
              "    }\n",
              "\n",
              "    .colab-df-convert {\n",
              "      background-color: #E8F0FE;\n",
              "      border: none;\n",
              "      border-radius: 50%;\n",
              "      cursor: pointer;\n",
              "      display: none;\n",
              "      fill: #1967D2;\n",
              "      height: 32px;\n",
              "      padding: 0 0 0 0;\n",
              "      width: 32px;\n",
              "    }\n",
              "\n",
              "    .colab-df-convert:hover {\n",
              "      background-color: #E2EBFA;\n",
              "      box-shadow: 0px 1px 2px rgba(60, 64, 67, 0.3), 0px 1px 3px 1px rgba(60, 64, 67, 0.15);\n",
              "      fill: #174EA6;\n",
              "    }\n",
              "\n",
              "    [theme=dark] .colab-df-convert {\n",
              "      background-color: #3B4455;\n",
              "      fill: #D2E3FC;\n",
              "    }\n",
              "\n",
              "    [theme=dark] .colab-df-convert:hover {\n",
              "      background-color: #434B5C;\n",
              "      box-shadow: 0px 1px 3px 1px rgba(0, 0, 0, 0.15);\n",
              "      filter: drop-shadow(0px 1px 2px rgba(0, 0, 0, 0.3));\n",
              "      fill: #FFFFFF;\n",
              "    }\n",
              "  </style>\n",
              "\n",
              "      <script>\n",
              "        const buttonEl =\n",
              "          document.querySelector('#df-37c0d28b-7ce7-4b99-bf03-ac30a2a3e7d4 button.colab-df-convert');\n",
              "        buttonEl.style.display =\n",
              "          google.colab.kernel.accessAllowed ? 'block' : 'none';\n",
              "\n",
              "        async function convertToInteractive(key) {\n",
              "          const element = document.querySelector('#df-37c0d28b-7ce7-4b99-bf03-ac30a2a3e7d4');\n",
              "          const dataTable =\n",
              "            await google.colab.kernel.invokeFunction('convertToInteractive',\n",
              "                                                     [key], {});\n",
              "          if (!dataTable) return;\n",
              "\n",
              "          const docLinkHtml = 'Like what you see? Visit the ' +\n",
              "            '<a target=\"_blank\" href=https://colab.research.google.com/notebooks/data_table.ipynb>data table notebook</a>'\n",
              "            + ' to learn more about interactive tables.';\n",
              "          element.innerHTML = '';\n",
              "          dataTable['output_type'] = 'display_data';\n",
              "          await google.colab.output.renderOutput(dataTable, element);\n",
              "          const docLink = document.createElement('div');\n",
              "          docLink.innerHTML = docLinkHtml;\n",
              "          element.appendChild(docLink);\n",
              "        }\n",
              "      </script>\n",
              "    </div>\n",
              "  </div>\n",
              "  "
            ]
          },
          "metadata": {},
          "execution_count": 406
        }
      ],
      "source": [
        "df['Date'] = pd.to_datetime(df['Date'], yearfirst=True)\n",
        "df_hdfc.set_index('Date')\n",
        "df.set_index('Date')"
      ]
    },
    {
      "cell_type": "code",
      "execution_count": null,
      "metadata": {
        "id": "81HC0zVtDVWN"
      },
      "outputs": [],
      "source": [
        "df_concat = df_hdfc.dropna()"
      ]
    },
    {
      "cell_type": "code",
      "execution_count": null,
      "metadata": {
        "id": "WC8Hx6aaO0nn",
        "colab": {
          "base_uri": "https://localhost:8080/"
        },
        "outputId": "374fd4bd-61fd-4d53-fc54-245c3e918ea4"
      },
      "outputs": [
        {
          "output_type": "execute_result",
          "data": {
            "text/plain": [
              "Date      datetime64[ns]\n",
              "Open             float64\n",
              "High             float64\n",
              "Low              float64\n",
              "Last             float64\n",
              "Close            float64\n",
              "Volume             int64\n",
              "dtype: object"
            ]
          },
          "metadata": {},
          "execution_count": 408
        }
      ],
      "source": [
        "df.dtypes"
      ]
    },
    {
      "cell_type": "code",
      "execution_count": null,
      "metadata": {
        "id": "NzNFDNElO0no"
      },
      "outputs": [],
      "source": [
        "df['Close'] = pd.to_numeric(df['Close'])\n",
        "df['High'] = pd.to_numeric(df['High'])\n",
        "df['Low'] = pd.to_numeric(df['Low'])\n",
        "df['Open'] = pd.to_numeric(df['Open'])\n"
      ]
    },
    {
      "cell_type": "code",
      "execution_count": null,
      "metadata": {
        "colab": {
          "base_uri": "https://localhost:8080/",
          "height": 722
        },
        "id": "kUKLMW5kO0np",
        "outputId": "0390a1ff-63d4-4418-d11c-ea1e7f2090ec"
      },
      "outputs": [
        {
          "output_type": "display_data",
          "data": {
            "text/plain": [
              "<Figure size 1368x864 with 1 Axes>"
            ],
            "image/png": "[encoded data removed]"
          },
          "metadata": {
            "needs_background": "light"
          }
        }
      ],
      "source": [
        "plt.figure(figsize = (19,12))\n",
        "plt.plot(range(df.shape[0]),(df['Close']))\n",
        "#plt.xticks(range(0,df.shape[0],500),df['Date'].loc[::500],rotation=45)\n",
        "plt.xlabel('Date',fontsize=18)\n",
        "plt.ylabel('Close Price',fontsize=18)\n",
        "plt.show()"
      ]
    },
    {
      "cell_type": "code",
      "execution_count": null,
      "metadata": {
        "id": "p-qPtyFjO0nq",
        "outputId": "8da3b394-c5a8-4017-d636-96536ba8dc9a",
        "colab": {
          "base_uri": "https://localhost:8080/"
        }
      },
      "outputs": [
        {
          "output_type": "execute_result",
          "data": {
            "text/plain": [
              "Date      datetime64[ns]\n",
              "Open             float64\n",
              "High             float64\n",
              "Low              float64\n",
              "Last             float64\n",
              "Close            float64\n",
              "Volume             int64\n",
              "dtype: object"
            ]
          },
          "metadata": {},
          "execution_count": 411
        }
      ],
      "source": [
        "df_concat.dtypes"
      ]
    },
    {
      "cell_type": "code",
      "execution_count": null,
      "metadata": {
        "id": "xSGRZTh2g_0F"
      },
      "outputs": [],
      "source": [
        "SEQ_LEN = 100            \n",
        "\n",
        "FUTURE_PERIOD = 1\n",
        "\n",
        "RATIO_TO_PREDICT = \"Close\"\n"
      ]
    },
    {
      "cell_type": "code",
      "execution_count": null,
      "metadata": {
        "id": "EeA2I_FVlcwm"
      },
      "outputs": [],
      "source": [
        "def classify(current, future):\n",
        "    if float(future) > float(current):\n",
        "        return 1\n",
        "    else:\n",
        "        return 0"
      ]
    },
    {
      "cell_type": "code",
      "execution_count": null,
      "metadata": {
        "id": "YXPPgKGaO0nt"
      },
      "outputs": [],
      "source": [
        "df = df.drop(\"Date\", axis= 1)"
      ]
    },
    {
      "cell_type": "markdown",
      "metadata": {
        "id": "C88Bk2TFp3Ak"
      },
      "source": [
        "Splitting the data"
      ]
    },
    {
      "cell_type": "code",
      "execution_count": null,
      "metadata": {
        "id": "fk3cwVeCiapH"
      },
      "outputs": [],
      "source": [
        "times = sorted(df.index.values)  # get the times\n",
        "last_10 = sorted(df.index.values)[-int(0.1*len(times))] \n",
        "last_20 = sorted(df.index.values)[-int(0.2*len(times))]\n",
        "\n",
        "test_df = df[(df.index >= last_10)]\n",
        "validation_df = df[(df.index >= last_20) & (df.index < last_10)]  \n",
        "train_df = df[(df.index < last_20)] "
      ]
    },
    {
      "cell_type": "code",
      "execution_count": null,
      "metadata": {
        "id": "XFncT-6ci6Pk"
      },
      "outputs": [],
      "source": [
        "from collections import deque\n",
        "import numpy as np\n",
        "import random "
      ]
    },
    {
      "cell_type": "code",
      "execution_count": null,
      "metadata": {
        "id": "F647kjbslJAU"
      },
      "outputs": [],
      "source": [
        "\n",
        "train_ = train_df.values\n",
        "valid_ = validation_df.values\n",
        "test_ = test_df.values"
      ]
    },
    {
      "cell_type": "code",
      "execution_count": null,
      "metadata": {
        "colab": {
          "base_uri": "https://localhost:8080/"
        },
        "id": "gcGCdRjM7acd",
        "outputId": "c6c7d45e-031b-4751-b3fc-f901e4883004"
      },
      "outputs": [
        {
          "output_type": "stream",
          "name": "stdout",
          "text": [
            "train shape (4244, 6)\n",
            "valid shape (531, 6)\n",
            "test shape (530, 6)\n"
          ]
        }
      ],
      "source": [
        "print(\"train shape {0}\".format(train_.shape))\n",
        "print(\"valid shape {0}\".format(valid_.shape))\n",
        "print(\"test shape {0}\".format(test_.shape))"
      ]
    },
    {
      "cell_type": "code",
      "execution_count": null,
      "metadata": {
        "id": "uA2kqAUb5bqL"
      },
      "outputs": [],
      "source": [
        "scaler = MinMaxScaler()\n",
        "scale_close = MinMaxScaler()\n",
        "scalernew=MinMaxScaler(feature_range=(0,1))\n"
      ]
    },
    {
      "cell_type": "code",
      "execution_count": null,
      "metadata": {
        "colab": {
          "base_uri": "https://localhost:8080/"
        },
        "id": "1N9PmMcwIW-g",
        "outputId": "8997d497-3131-4446-e2ae-da64fa357b7c"
      },
      "outputs": [
        {
          "output_type": "execute_result",
          "data": {
            "text/plain": [
              "MinMaxScaler()"
            ]
          },
          "metadata": {},
          "execution_count": 420
        }
      ],
      "source": [
        "x = train_[:,3].copy()\n",
        "scale_close.fit(x.reshape(-1, 1))"
      ]
    },
    {
      "cell_type": "code",
      "execution_count": null,
      "metadata": {
        "id": "-DEP34jj3hmW"
      },
      "outputs": [],
      "source": [
        "scaler.fit(train_)\n",
        "\n",
        "train_ = scaler.transform(train_)\n",
        "\n",
        "valid_ = scaler.transform(valid_)\n",
        "test_ = scaler.transform(test_)"
      ]
    },
    {
      "cell_type": "markdown",
      "metadata": {
        "id": "mouqDewlrj74"
      },
      "source": [
        "EMA --- Exponential Moving Average\n"
      ]
    },
    {
      "cell_type": "code",
      "execution_count": null,
      "metadata": {
        "id": "ZJB9Vgra5mmf"
      },
      "outputs": [],
      "source": [
        "EMA = 0.0\n",
        "gamma = 0.1\n",
        "for ti in range(3669):\n",
        "    EMA = gamma*train_[ti] + (1-gamma)*EMA\n",
        "    train_[ti] = EMA\n",
        "\n",
        "all_mid_data = np.concatenate([train_,valid_, test_],axis=0)"
      ]
    },
    {
      "cell_type": "markdown",
      "metadata": {
        "id": "ItMMfh_Erx_-"
      },
      "source": [
        "100 timesteps \n"
      ]
    },
    {
      "cell_type": "code",
      "execution_count": null,
      "metadata": {
        "id": "yvXFVqTa7ARc"
      },
      "outputs": [],
      "source": [
        "def split_data(data):\n",
        "    X = []\n",
        "    Y = []\n",
        "    for i in range(SEQ_LEN, len(data)-FUTURE_PERIOD+1):\n",
        "        X.append(data[i-SEQ_LEN:i])\n",
        "        Y.append(data[i+(FUTURE_PERIOD-1), 3])\n",
        "    return np.array(X), np.array(Y)"
      ]
    },
    {
      "cell_type": "code",
      "execution_count": null,
      "metadata": {
        "id": "gGDiE7zddrJ1"
      },
      "outputs": [],
      "source": []
    },
    {
      "cell_type": "code",
      "execution_count": null,
      "metadata": {
        "id": "OIC-mnEK9OBJ"
      },
      "outputs": [],
      "source": [
        "X_train, y_train = split_data(train_)\n",
        "X_test, y_test = split_data(test_)\n",
        "X_valid, y_valid = split_data(valid_)"
      ]
    },
    {
      "cell_type": "code",
      "execution_count": null,
      "metadata": {
        "id": "IbI4Ux_x-vBk"
      },
      "outputs": [],
      "source": [
        "X_train = np.reshape(X_train, (X_train.shape[0], X_train.shape[1], 6))\n",
        "X_valid = np.reshape(X_valid, (X_valid.shape[0], X_valid.shape[1], 6))\n",
        "X_test = np.reshape(X_test, (X_test.shape[0], X_test.shape[1], 6))"
      ]
    },
    {
      "cell_type": "code",
      "execution_count": null,
      "metadata": {
        "colab": {
          "base_uri": "https://localhost:8080/"
        },
        "id": "LaUb3PJB8Ud-",
        "outputId": "bd883439-083e-4a68-da61-4c920cb065ea"
      },
      "outputs": [
        {
          "output_type": "execute_result",
          "data": {
            "text/plain": [
              "(4144,)"
            ]
          },
          "metadata": {},
          "execution_count": 426
        }
      ],
      "source": [
        "y_train.shape"
      ]
    },
    {
      "cell_type": "code",
      "execution_count": null,
      "metadata": {
        "colab": {
          "base_uri": "https://localhost:8080/"
        },
        "id": "CJ0qmYjsvw1J",
        "outputId": "3a5ff9ad-3674-48bf-a54b-e8fb5b89448c"
      },
      "outputs": [
        {
          "output_type": "stream",
          "name": "stdout",
          "text": [
            "train shape (4144, 100, 6)\n",
            "valid shape (431, 100, 6)\n",
            "test shape (430, 100, 6)\n"
          ]
        }
      ],
      "source": [
        "print(\"train shape {0}\".format(X_train.shape))\n",
        "print(\"valid shape {0}\".format(X_valid.shape))\n",
        "print(\"test shape {0}\".format(X_test.shape))"
      ]
    },
    {
      "cell_type": "code",
      "execution_count": null,
      "metadata": {
        "id": "1vAviyGG_KEw"
      },
      "outputs": [],
      "source": [
        "X_train_2, y_train_2 = split_data(train_)\n",
        "X_train_2 = np.reshape(X_train_2, (X_train_2.shape[0], X_train_2.shape[1], 6))"
      ]
    },
    {
      "cell_type": "code",
      "execution_count": null,
      "metadata": {
        "colab": {
          "base_uri": "https://localhost:8080/",
          "height": 350
        },
        "id": "TS6MTZbH_wWN",
        "outputId": "912a5d2f-973d-44fb-85a1-b501b1c372fb"
      },
      "outputs": [
        {
          "output_type": "display_data",
          "data": {
            "text/plain": [
              "<Figure size 1080x360 with 1 Axes>"
            ],
            "image/png": "[encoded data removed]"
          },
          "metadata": {
            "needs_background": "light"
          }
        }
      ],
      "source": [
        "## show predictions\n",
        "plt.figure(figsize=(15, 5))\n",
        "\n",
        "plt.plot(np.arange(y_train_2.shape[0]), y_train_2, color='blue', label='train target')\n",
        "\n",
        "plt.plot(np.arange(y_train_2.shape[0], y_train_2.shape[0]+y_valid.shape[0]), y_valid,\n",
        "         color='gray', label='valid target')\n",
        "\n",
        "plt.plot(np.arange(y_train_2.shape[0]+y_valid.shape[0],\n",
        "                   y_train_2.shape[0]+y_valid.shape[0]+y_test.shape[0]),\n",
        "         y_test, color='black', label='test target')\n",
        "\n",
        "\n",
        "plt.title('Train set')\n",
        "plt.xlabel('time [minutes]')\n",
        "plt.ylabel('normalized price')\n",
        "plt.legend(loc='best');"
      ]
    },
    {
      "cell_type": "markdown",
      "metadata": {
        "id": "bOYZLeJL2lCM"
      },
      "source": [
        "# TRANSFORMER"
      ]
    },
    {
      "cell_type": "code",
      "execution_count": null,
      "metadata": {
        "id": "nn9060nkHhp3"
      },
      "outputs": [],
      "source": [
        "from sklearn.utils import shuffle\n",
        "X_train, y_train = shuffle(X_train, y_train)"
      ]
    },
    {
      "cell_type": "code",
      "execution_count": null,
      "metadata": {
        "id": "UifQZZMB_ysC"
      },
      "outputs": [],
      "source": [
        "EPOCHS = 65\n",
        "BATCH_SIZE = 64\n",
        "\n",
        "import time"
      ]
    },
    {
      "cell_type": "code",
      "execution_count": null,
      "metadata": {
        "id": "tmCAbA6wHaga"
      },
      "outputs": [],
      "source": [
        "import random, os, sys\n",
        "import numpy as np\n",
        "from tensorflow.keras.models import *\n",
        "from tensorflow.keras.layers import *\n",
        "from tensorflow.keras.callbacks import *\n",
        "from tensorflow.keras.initializers import *\n",
        "import tensorflow as tf\n",
        "import tensorflow.keras.backend as K\n",
        "from tensorflow.python.keras.layers import Layer"
      ]
    },
    {
      "cell_type": "code",
      "execution_count": null,
      "metadata": {
        "id": "2E7GXd_D2Jpk"
      },
      "outputs": [],
      "source": [
        "class LayerNormalization(Layer):\n",
        "    def __init__(self, eps=1e-6, **kwargs):\n",
        "        self.eps = eps\n",
        "        super(LayerNormalization, self).__init__(**kwargs)\n",
        "    def build(self, input_shape):\n",
        "        self.gamma = self.add_weight(name='gamma', shape=input_shape[-1:],initializer=Ones(), trainable=True)\n",
        "        self.beta = self.add_weight(name='beta', shape=input_shape[-1:],initializer=Zeros(), trainable=True)\n",
        "        super(LayerNormalization, self).build(input_shape)\n",
        "    def call(self, x):\n",
        "        mean = K.mean(x, axis=-1, keepdims=True)\n",
        "        std = K.std(x, axis=-1, keepdims=True)\n",
        "        return self.gamma * (x - mean) / (std + self.eps) + self.beta\n",
        "    def compute_output_shape(self, input_shape):\n",
        "        return input_shape\n"
      ]
    },
    {
      "cell_type": "code",
      "execution_count": null,
      "metadata": {
        "id": "MAuxAh7GO0n7"
      },
      "outputs": [],
      "source": [
        "class ScaledDotProductAttention():\n",
        "    def __init__(self, d_model, attn_dropout=0.1):\n",
        "        self.temper = np.sqrt(d_model)\n",
        "        self.dropout = Dropout(attn_dropout)\n",
        "    def __call__(self, q, k, v, mask):\n",
        "        attn = Lambda(lambda x:K.batch_dot(x[0],x[1],axes=[2,2])/self.temper)([q, k])\n",
        "        if mask is not None:\n",
        "            mmask = Lambda(lambda x:(-1e+10)*(1-x))(mask)\n",
        "            attn = Add()([attn, mmask])\n",
        "        attn = Activation('softmax')(attn)\n",
        "        attn = self.dropout(attn)\n",
        "        output = Lambda(lambda x:K.batch_dot(x[0], x[1]))([attn, v])\n",
        "        return output, attn"
      ]
    },
    {
      "cell_type": "code",
      "execution_count": null,
      "metadata": {
        "id": "tFUcNXlhO0n7"
      },
      "outputs": [],
      "source": [
        "class MultiHeadAttention():\n",
        "\n",
        "    def __init__(self, n_head, d_model, d_k, d_v, dropout, mode=0, use_norm=True):\n",
        "        self.mode = mode\n",
        "        self.n_head = n_head\n",
        "        self.d_k = d_k\n",
        "        self.d_v = d_v\n",
        "        self.dropout = dropout\n",
        "        self.qs_layer = Dense(n_head*d_k, use_bias=False)\n",
        "        self.ks_layer = Dense(n_head*d_k, use_bias=False)\n",
        "        self.vs_layer = Dense(n_head*d_v, use_bias=False)\n",
        "        self.attention = ScaledDotProductAttention(d_model)\n",
        "        self.layer_norm = LayerNormalization() if use_norm else None\n",
        "        self.w_o = TimeDistributed(Dense(d_model))\n",
        "\n",
        "    def __call__(self, q, k, v, mask=None):\n",
        "        d_k, d_v = self.d_k, self.d_v\n",
        "        n_head = self.n_head\n",
        "\n",
        "        if self.mode == 0:\n",
        "            qs = self.qs_layer(q)  # [batch_size, len_q, n_head*d_k]\n",
        "            ks = self.ks_layer(k)\n",
        "            vs = self.vs_layer(v)\n",
        "\n",
        "            def reshape1(x):\n",
        "                s = tf.shape(x)   # [batch_size, len_q, n_head * d_k]\n",
        "                x = tf.reshape(x, [s[0], s[1], n_head, d_k])\n",
        "                x = tf.transpose(x, [2, 0, 1, 3])  \n",
        "                x = tf.reshape(x, [-1, s[1], d_k])  # [n_head * batch_size, len_q, d_k]\n",
        "                return x\n",
        "            qs = Lambda(reshape1)(qs)\n",
        "            ks = Lambda(reshape1)(ks)\n",
        "            vs = Lambda(reshape1)(vs)\n",
        "\n",
        "            if mask is not None:\n",
        "                mask = Lambda(lambda x:K.repeat_elements(x, n_head, 0))(mask)\n",
        "            head, attn = self.attention(qs, ks, vs, mask=mask)  \n",
        "                \n",
        "            def reshape2(x):\n",
        "                s = tf.shape(x)   # [n_head * batch_size, len_v, d_v]\n",
        "                x = tf.reshape(x, [n_head, -1, s[1], s[2]]) \n",
        "                x = tf.transpose(x, [1, 2, 0, 3])\n",
        "                x = tf.reshape(x, [-1, s[1], n_head*d_v])  # [batch_size, len_v, n_head * d_v]\n",
        "                return x\n",
        "            head = Lambda(reshape2)(head)\n",
        "\n",
        "        outputs = self.w_o(head)\n",
        "        outputs = Dropout(self.dropout)(outputs)\n",
        "        if not self.layer_norm: return outputs, attn\n",
        "        # outputs = Add()([outputs, q]) # sl: fix\n",
        "        return self.layer_norm(outputs), attn"
      ]
    },
    {
      "cell_type": "code",
      "execution_count": null,
      "metadata": {
        "id": "qKXAhdljO0n8"
      },
      "outputs": [],
      "source": [
        "class PositionwiseFeedForward():\n",
        "    def __init__(self, d_hid, d_inner_hid, dropout=0.1):\n",
        "        self.w_1 = Conv1D(d_inner_hid, 1, activation='relu')\n",
        "        self.w_2 = Conv1D(d_hid, 1)\n",
        "        self.layer_norm = LayerNormalization()\n",
        "        self.dropout = Dropout(dropout)\n",
        "    def __call__(self, x):\n",
        "        output = self.w_1(x) \n",
        "        output = self.w_2(output)\n",
        "        output = self.dropout(output)\n",
        "        output = Add()([output, x])\n",
        "        return self.layer_norm(output)\n",
        "\n",
        "    \n",
        "class EncoderLayer():\n",
        "    def __init__(self, d_model, d_inner_hid, n_head, d_k, d_v, dropout=0.1):\n",
        "        self.self_att_layer = MultiHeadAttention(n_head, d_model, d_k, d_v, dropout=dropout)\n",
        "        self.pos_ffn_layer  = PositionwiseFeedForward(d_model, d_inner_hid, dropout=dropout)\n",
        "    def __call__(self, enc_input, mask=None):\n",
        "        output, slf_attn = self.self_att_layer(enc_input, enc_input, enc_input, mask=mask)\n",
        "        output = self.pos_ffn_layer(output)\n",
        "        return output, slf_attn\n",
        "    \n",
        "    \n",
        "def GetPosEncodingMatrix(max_len, d_emb):\n",
        "    pos_enc = np.array([\n",
        "        [pos / np.power(10000, 2 * (j // 2) / d_emb) for j in range(d_emb)] \n",
        "        if pos != 0 else np.zeros(d_emb) \n",
        "            for pos in range(max_len)\n",
        "            ])\n",
        "    pos_enc[1:, 0::2] = np.sin(pos_enc[1:, 0::2]) # dim 2i\n",
        "    pos_enc[1:, 1::2] = np.cos(pos_enc[1:, 1::2]) # dim 2i+1\n",
        "    return pos_enc\n",
        "\n",
        "def GetPadMask(q, k):\n",
        "    ones = K.expand_dims(K.ones_like(q, 'float32'), -1)\n",
        "    mask = K.cast(K.expand_dims(K.not_equal(k, 0), 1), 'float32')\n",
        "    mask = K.batch_dot(ones, mask, axes=[2,1])\n",
        "    return mask\n",
        "\n",
        "def GetSubMask(s):\n",
        "    len_s = tf.shape(s)[1]\n",
        "    bs = tf.shape(s)[:1]\n",
        "    mask = K.cumsum(tf.eye(len_s, batch_shape=bs), 1)\n",
        "    return mask"
      ]
    },
    {
      "cell_type": "code",
      "source": [
        "class CustomeLearningSchedule(tf.keras.optimizers.schedules.LearningRateSchedule):\n",
        "    def __init__(self, d_model, warmup_steps=4000):\n",
        "        super(CustomeLearningSchedule, self).__init__()\n",
        "        self.d_model = tf.cast(d_model, tf.float32)\n",
        "        self.warmup_steps = warmup_steps\n",
        "    \n",
        "    def __call__(self, step):\n",
        "        param_1 = tf.math.rsqrt(step)\n",
        "        param_2 = step * (self.warmup_steps**(-1.5))\n",
        "        return tf.math.rsqrt(self.d_model) * tf.math.minimum(param_1, param_2)\n"
      ],
      "metadata": {
        "id": "cApXPZpgkGxb"
      },
      "execution_count": null,
      "outputs": []
    },
    {
      "cell_type": "code",
      "source": [
        "sample_learning_rate = CustomeLearningSchedule(d_model=128)\n",
        "\n",
        "plt.plot(sample_learning_rate(tf.range(200000, dtype=tf.float32)))\n",
        "plt.ylabel(\"Learning Rate\")\n",
        "plt.xlabel(\"Train Step\")\n"
      ],
      "metadata": {
        "colab": {
          "base_uri": "https://localhost:8080/",
          "height": 297
        },
        "id": "btkbw6xMkHCU",
        "outputId": "fb381e7b-fb35-4eeb-ab8d-2cb11cb57e62"
      },
      "execution_count": null,
      "outputs": [
        {
          "output_type": "execute_result",
          "data": {
            "text/plain": [
              "Text(0.5, 0, 'Train Step')"
            ]
          },
          "metadata": {},
          "execution_count": 438
        },
        {
          "output_type": "display_data",
          "data": {
            "text/plain": [
              "<Figure size 432x288 with 1 Axes>"
            ],
            "image/png": "[encoded data removed]"
          },
          "metadata": {
            "needs_background": "light"
          }
        }
      ]
    },
    {
      "cell_type": "code",
      "source": [
        "D_MODEL=300\n",
        "\n",
        "lr = CustomeLearningSchedule(D_MODEL)\n",
        "\n",
        "optimizer = tf.keras.optimizers.Adam(learning_rate=lr,\n",
        "                                     beta_1=0.9,\n",
        "                                     beta_2=0.98,\n",
        "                                     epsilon=1e-9)"
      ],
      "metadata": {
        "id": "aGAeUmXRkHSs"
      },
      "execution_count": null,
      "outputs": []
    },
    {
      "cell_type": "code",
      "source": [
        "def build_model():\n",
        "    inp = Input(shape = (SEQ_LEN, 6))\n",
        "\n",
        "    x = Bidirectional(LSTM(128, return_sequences=True))(inp)\n",
        "    x = Bidirectional(LSTM(64, return_sequences=True))(x) \n",
        "        \n",
        "    #for i in range(2):\n",
        "    x, self_attn = EncoderLayer(\n",
        "            d_model=D_MODEL,\n",
        "            d_inner_hid=512, \n",
        "            n_head=4, \n",
        "            d_k=64,\n",
        "            d_v=64, \n",
        "            dropout=0.2)(x)\n",
        "        \n",
        "    avg_pool = GlobalAveragePooling1D()(x)\n",
        "    max_pool = GlobalMaxPooling1D()(x)\n",
        "    conc = concatenate([avg_pool, max_pool])\n",
        "    conc = Dense(128, activation=\"relu\")(conc)\n",
        "    x = Dense(1, activation=\"sigmoid\")(conc)      \n",
        "\n",
        "    model = Model(inputs = inp, outputs = x)\n",
        "    model.compile(\n",
        "        loss = \"mean_squared_error\",  \n",
        "        optimizer = optimizer)\n",
        "    \n",
        "    return model"
      ],
      "metadata": {
        "id": "947rbPpckTNj"
      },
      "execution_count": null,
      "outputs": []
    },
    {
      "cell_type": "code",
      "source": [
        "multi_head = build_model()\n",
        "#multi_head.summary()\n"
      ],
      "metadata": {
        "id": "THp_r70SkTaa",
        "colab": {
          "base_uri": "https://localhost:8080/"
        },
        "outputId": "25aff32d-dc91-4cb8-d04a-1726c5861e10"
      },
      "execution_count": null,
      "outputs": [
        {
          "output_type": "stream",
          "name": "stderr",
          "text": [
            "WARNING:tensorflow:The following Variables were used in a Lambda layer's call (tf.__operators__.add_29), but are not present in its tracked objects:   <tf.Variable 'layer_normalization_14/beta:0' shape=(300,) dtype=float32>. This is a strong indication that the Lambda layer should be rewritten as a subclassed Layer.\n",
            "WARNING:tensorflow:The following Variables were used in a Lambda layer's call (tf.__operators__.add_31), but are not present in its tracked objects:   <tf.Variable 'layer_normalization_15/beta:0' shape=(300,) dtype=float32>. This is a strong indication that the Lambda layer should be rewritten as a subclassed Layer.\n"
          ]
        }
      ]
    },
    {
      "cell_type": "code",
      "source": [
        "#tf.keras.utils.plot_model(multi_head, \n",
        " #                         to_file=\"multi_head_net.png\", \n",
        "#                          show_shapes=True)\n"
      ],
      "metadata": {
        "id": "bWp4ydCdkTtk"
      },
      "execution_count": null,
      "outputs": []
    },
    {
      "cell_type": "code",
      "source": [
        "#callback = EarlyStopping(monitor='val_loss',patience=3,restore_best_weights=True)"
      ],
      "metadata": {
        "id": "qEQqh0u0kT8k"
      },
      "execution_count": null,
      "outputs": []
    },
    {
      "cell_type": "code",
      "source": [
        "history = multi_head.fit(x=X_train,y=y_train,batch_size=BATCH_SIZE,epochs=EPOCHS,validation_data=(X_valid, y_valid), )\n"
      ],
      "metadata": {
        "colab": {
          "base_uri": "https://localhost:8080/"
        },
        "id": "x-3H8RLdkUN3",
        "outputId": "e48ead41-a99f-437b-e698-f036c4f98f52"
      },
      "execution_count": null,
      "outputs": [
        {
          "output_type": "stream",
          "name": "stdout",
          "text": [
            "Epoch 1/65\n",
            "65/65 [==============================] - 18s 65ms/step - loss: 0.1406 - val_loss: 0.0396\n",
            "Epoch 2/65\n",
            "65/65 [==============================] - 3s 41ms/step - loss: 0.0157 - val_loss: 0.0261\n",
            "Epoch 3/65\n",
            "65/65 [==============================] - 3s 41ms/step - loss: 0.0077 - val_loss: 0.0366\n",
            "Epoch 4/65\n",
            "65/65 [==============================] - 3s 41ms/step - loss: 0.0067 - val_loss: 0.0334\n",
            "Epoch 5/65\n",
            "65/65 [==============================] - 3s 41ms/step - loss: 0.0050 - val_loss: 0.0321\n",
            "Epoch 6/65\n",
            "65/65 [==============================] - 3s 41ms/step - loss: 0.0034 - val_loss: 0.0423\n",
            "Epoch 7/65\n",
            "65/65 [==============================] - 3s 41ms/step - loss: 0.0035 - val_loss: 0.0196\n",
            "Epoch 8/65\n",
            "65/65 [==============================] - 3s 41ms/step - loss: 0.0028 - val_loss: 0.0227\n",
            "Epoch 9/65\n",
            "65/65 [==============================] - 3s 41ms/step - loss: 0.0022 - val_loss: 0.0137\n",
            "Epoch 10/65\n",
            "65/65 [==============================] - 3s 41ms/step - loss: 0.0017 - val_loss: 0.0062\n",
            "Epoch 11/65\n",
            "65/65 [==============================] - 3s 41ms/step - loss: 0.0020 - val_loss: 0.0032\n",
            "Epoch 12/65\n",
            "65/65 [==============================] - 3s 42ms/step - loss: 0.0019 - val_loss: 0.0014\n",
            "Epoch 13/65\n",
            "65/65 [==============================] - 3s 41ms/step - loss: 0.0030 - val_loss: 7.2365e-04\n",
            "Epoch 14/65\n",
            "65/65 [==============================] - 3s 42ms/step - loss: 8.7061e-04 - val_loss: 0.0015\n",
            "Epoch 15/65\n",
            "65/65 [==============================] - 3s 42ms/step - loss: 0.0015 - val_loss: 8.6614e-04\n",
            "Epoch 16/65\n",
            "65/65 [==============================] - 3s 41ms/step - loss: 0.0010 - val_loss: 8.3017e-04\n",
            "Epoch 17/65\n",
            "65/65 [==============================] - 3s 41ms/step - loss: 7.1890e-04 - val_loss: 0.0095\n",
            "Epoch 18/65\n",
            "65/65 [==============================] - 3s 41ms/step - loss: 8.0020e-04 - val_loss: 9.9223e-04\n",
            "Epoch 19/65\n",
            "65/65 [==============================] - 3s 48ms/step - loss: 9.6554e-04 - val_loss: 3.2117e-04\n",
            "Epoch 20/65\n",
            "65/65 [==============================] - 3s 45ms/step - loss: 6.2464e-04 - val_loss: 5.2658e-04\n",
            "Epoch 21/65\n",
            "65/65 [==============================] - 3s 41ms/step - loss: 9.7844e-04 - val_loss: 3.1361e-04\n",
            "Epoch 22/65\n",
            "65/65 [==============================] - 3s 41ms/step - loss: 4.4879e-04 - val_loss: 2.3926e-04\n",
            "Epoch 23/65\n",
            "65/65 [==============================] - 3s 41ms/step - loss: 4.7485e-04 - val_loss: 5.5357e-04\n",
            "Epoch 24/65\n",
            "65/65 [==============================] - 3s 41ms/step - loss: 0.0011 - val_loss: 3.0340e-04\n",
            "Epoch 25/65\n",
            "65/65 [==============================] - 3s 41ms/step - loss: 4.7321e-04 - val_loss: 2.7197e-04\n",
            "Epoch 26/65\n",
            "65/65 [==============================] - 3s 42ms/step - loss: 3.7641e-04 - val_loss: 2.0957e-04\n",
            "Epoch 27/65\n",
            "65/65 [==============================] - 3s 41ms/step - loss: 4.6980e-04 - val_loss: 2.3414e-04\n",
            "Epoch 28/65\n",
            "65/65 [==============================] - 3s 41ms/step - loss: 4.1790e-04 - val_loss: 9.6846e-04\n",
            "Epoch 29/65\n",
            "65/65 [==============================] - 3s 41ms/step - loss: 3.8752e-04 - val_loss: 6.8524e-04\n",
            "Epoch 30/65\n",
            "65/65 [==============================] - 3s 41ms/step - loss: 4.5798e-04 - val_loss: 1.6505e-04\n",
            "Epoch 31/65\n",
            "65/65 [==============================] - 3s 41ms/step - loss: 4.0258e-04 - val_loss: 0.0016\n",
            "Epoch 32/65\n",
            "65/65 [==============================] - 3s 41ms/step - loss: 5.6727e-04 - val_loss: 0.0011\n",
            "Epoch 33/65\n",
            "65/65 [==============================] - 3s 41ms/step - loss: 5.2141e-04 - val_loss: 5.1751e-04\n",
            "Epoch 34/65\n",
            "65/65 [==============================] - 3s 42ms/step - loss: 2.1593e-04 - val_loss: 1.5092e-04\n",
            "Epoch 35/65\n",
            "65/65 [==============================] - 3s 41ms/step - loss: 4.2601e-04 - val_loss: 1.7808e-04\n",
            "Epoch 36/65\n",
            "65/65 [==============================] - 3s 42ms/step - loss: 2.9268e-04 - val_loss: 2.7477e-04\n",
            "Epoch 37/65\n",
            "65/65 [==============================] - 3s 42ms/step - loss: 4.4323e-04 - val_loss: 8.3179e-04\n",
            "Epoch 38/65\n",
            "65/65 [==============================] - 3s 41ms/step - loss: 2.0396e-04 - val_loss: 6.0947e-04\n",
            "Epoch 39/65\n",
            "65/65 [==============================] - 3s 41ms/step - loss: 2.0977e-04 - val_loss: 2.9476e-04\n",
            "Epoch 40/65\n",
            "65/65 [==============================] - 3s 41ms/step - loss: 4.3971e-04 - val_loss: 1.8332e-04\n",
            "Epoch 41/65\n",
            "65/65 [==============================] - 3s 41ms/step - loss: 1.4363e-04 - val_loss: 4.2624e-04\n",
            "Epoch 42/65\n",
            "65/65 [==============================] - 3s 41ms/step - loss: 2.2981e-04 - val_loss: 8.3179e-05\n",
            "Epoch 43/65\n",
            "65/65 [==============================] - 3s 42ms/step - loss: 4.5694e-04 - val_loss: 1.6880e-04\n",
            "Epoch 44/65\n",
            "65/65 [==============================] - 3s 41ms/step - loss: 1.3346e-04 - val_loss: 8.3463e-05\n",
            "Epoch 45/65\n",
            "65/65 [==============================] - 3s 42ms/step - loss: 1.9548e-04 - val_loss: 8.6002e-05\n",
            "Epoch 46/65\n",
            "65/65 [==============================] - 3s 41ms/step - loss: 2.4462e-04 - val_loss: 1.0758e-04\n",
            "Epoch 47/65\n",
            "65/65 [==============================] - 3s 41ms/step - loss: 1.7034e-04 - val_loss: 4.1879e-04\n",
            "Epoch 48/65\n",
            "65/65 [==============================] - 3s 41ms/step - loss: 2.7295e-04 - val_loss: 2.1784e-04\n",
            "Epoch 49/65\n",
            "65/65 [==============================] - 3s 41ms/step - loss: 2.8633e-04 - val_loss: 0.0022\n",
            "Epoch 50/65\n",
            "65/65 [==============================] - 3s 41ms/step - loss: 1.1644e-04 - val_loss: 0.0011\n",
            "Epoch 51/65\n",
            "65/65 [==============================] - 3s 41ms/step - loss: 2.2654e-04 - val_loss: 0.0014\n",
            "Epoch 52/65\n",
            "65/65 [==============================] - 3s 41ms/step - loss: 9.4001e-05 - val_loss: 2.6517e-04\n",
            "Epoch 53/65\n",
            "65/65 [==============================] - 3s 41ms/step - loss: 1.5564e-04 - val_loss: 0.0072\n",
            "Epoch 54/65\n",
            "65/65 [==============================] - 3s 41ms/step - loss: 1.4866e-04 - val_loss: 0.0054\n",
            "Epoch 55/65\n",
            "65/65 [==============================] - 3s 41ms/step - loss: 1.2787e-04 - val_loss: 0.0059\n",
            "Epoch 56/65\n",
            "65/65 [==============================] - 3s 41ms/step - loss: 1.5534e-04 - val_loss: 0.0078\n",
            "Epoch 57/65\n",
            "65/65 [==============================] - 3s 42ms/step - loss: 1.2053e-04 - val_loss: 0.0031\n",
            "Epoch 58/65\n",
            "65/65 [==============================] - 3s 41ms/step - loss: 8.1543e-05 - val_loss: 0.0037\n",
            "Epoch 59/65\n",
            "65/65 [==============================] - 3s 42ms/step - loss: 3.7300e-04 - val_loss: 1.4268e-04\n",
            "Epoch 60/65\n",
            "65/65 [==============================] - 3s 41ms/step - loss: 7.7417e-05 - val_loss: 7.5843e-04\n",
            "Epoch 61/65\n",
            "65/65 [==============================] - 3s 41ms/step - loss: 5.9406e-05 - val_loss: 0.0012\n",
            "Epoch 62/65\n",
            "65/65 [==============================] - 3s 41ms/step - loss: 1.3761e-04 - val_loss: 0.0010\n",
            "Epoch 63/65\n",
            "65/65 [==============================] - 3s 41ms/step - loss: 6.8202e-05 - val_loss: 0.0019\n",
            "Epoch 64/65\n",
            "65/65 [==============================] - 3s 41ms/step - loss: 1.8402e-04 - val_loss: 0.0010\n",
            "Epoch 65/65\n",
            "65/65 [==============================] - 3s 41ms/step - loss: 8.6471e-05 - val_loss: 4.7785e-04\n"
          ]
        }
      ]
    },
    {
      "cell_type": "code",
      "source": [
        "multi_head.save_weights('./checkpoints/final_checkpoint_1')\n"
      ],
      "metadata": {
        "id": "sD-Y6SRfkUeC"
      },
      "execution_count": null,
      "outputs": []
    },
    {
      "cell_type": "code",
      "source": [
        "multi_head.load_weights('./checkpoints/final_checkpoint_1')"
      ],
      "metadata": {
        "colab": {
          "base_uri": "https://localhost:8080/"
        },
        "id": "Sw-G_nZoo6s4",
        "outputId": "d5ce194b-1678-4270-fc46-ec17921cec6b"
      },
      "execution_count": null,
      "outputs": [
        {
          "output_type": "execute_result",
          "data": {
            "text/plain": [
              "<tensorflow.python.training.tracking.util.CheckpointLoadStatus at 0x7fcab5b83760>"
            ]
          },
          "metadata": {},
          "execution_count": 446
        }
      ]
    },
    {
      "cell_type": "code",
      "source": [
        "predicted_stock_price_multi_head = multi_head.predict(X_test)\n",
        "predicted_stock_price_multi_head.shape\n"
      ],
      "metadata": {
        "colab": {
          "base_uri": "https://localhost:8080/"
        },
        "id": "_s_-JjdDo66k",
        "outputId": "47a46e35-c6a9-49f6-f4ff-118d3f415736"
      },
      "execution_count": null,
      "outputs": [
        {
          "output_type": "stream",
          "name": "stdout",
          "text": [
            "14/14 [==============================] - 2s 13ms/step\n"
          ]
        },
        {
          "output_type": "execute_result",
          "data": {
            "text/plain": [
              "(430, 1)"
            ]
          },
          "metadata": {},
          "execution_count": 447
        }
      ]
    },
    {
      "cell_type": "code",
      "source": [
        "predicted_stock_price = np.vstack((np.full((60,1), np.nan), predicted_stock_price_multi_head))\n"
      ],
      "metadata": {
        "id": "svoqUSgDo7KE"
      },
      "execution_count": null,
      "outputs": []
    },
    {
      "cell_type": "code",
      "source": [
        "plt.plot(y_test, color = 'black')\n",
        "plt.title('ASIAN PAINTS NORMALIZED CLOSING PRICE', fontsize=10)\n",
        "#plt.xticks(range(0,df.shape[0],50),df['Date'].loc[::50],rotation=45)\n",
        "plt.xlabel('DateTime')\n",
        "plt.ylabel('Close Price')\n",
        "plt.legend(fontsize=18)\n",
        "plt.show()\n"
      ],
      "metadata": {
        "colab": {
          "base_uri": "https://localhost:8080/",
          "height": 311
        },
        "id": "2ppda1nOo7ZH",
        "outputId": "ea948db4-4f8b-458e-e753-9df0bee7cac9"
      },
      "execution_count": null,
      "outputs": [
        {
          "output_type": "stream",
          "name": "stderr",
          "text": [
            "WARNING:matplotlib.legend:No handles with labels found to put in legend.\n"
          ]
        },
        {
          "output_type": "display_data",
          "data": {
            "text/plain": [
              "<Figure size 432x288 with 1 Axes>"
            ],
            "image/png": "[encoded data removed]"
          },
          "metadata": {
            "needs_background": "light"
          }
        }
      ]
    },
    {
      "cell_type": "code",
      "source": [
        "plt.plot(predicted_stock_price, color = 'green')\n",
        "plt.title('ASIAN PAINTS PREDICTED CLOSING PRICE', fontsize=10)\n",
        "#plt.xticks(range(0,df.shape[0],50),df['Date'].loc[::50],rotation=45)\n",
        "plt.xlabel('DateTime')\n",
        "plt.ylabel('Close Price')\n",
        "plt.legend(fontsize=18)\n",
        "plt.show()\n"
      ],
      "metadata": {
        "colab": {
          "base_uri": "https://localhost:8080/",
          "height": 311
        },
        "outputId": "515602a9-c821-470b-a5d7-49d708c751f0",
        "id": "Dv9q478BbBXd"
      },
      "execution_count": null,
      "outputs": [
        {
          "output_type": "stream",
          "name": "stderr",
          "text": [
            "WARNING:matplotlib.legend:No handles with labels found to put in legend.\n"
          ]
        },
        {
          "output_type": "display_data",
          "data": {
            "text/plain": [
              "<Figure size 432x288 with 1 Axes>"
            ],
            "image/png": "[encoded data removed]"
          },
          "metadata": {
            "needs_background": "light"
          }
        }
      ]
    }
  ],
  "metadata": {
    "accelerator": "GPU",
    "colab": {
      "provenance": []
    },
    "kernelspec": {
      "display_name": "Python 3 (ipykernel)",
      "language": "python",
      "name": "python3"
    },
    "language_info": {
      "codemirror_mode": {
        "name": "ipython",
        "version": 3
      },
      "file_extension": ".py",
      "mimetype": "text/x-python",
      "name": "python",
      "nbconvert_exporter": "python",
      "pygments_lexer": "ipython3",
      "version": "3.10.6"
    },
    "gpuClass": "standard"
  },
  "nbformat": 4,
  "nbformat_minor": 0
}