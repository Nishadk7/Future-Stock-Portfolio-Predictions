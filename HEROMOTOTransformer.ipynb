{
  "cells": [
    {
      "cell_type": "code",
      "execution_count": 1,
      "metadata": {
        "id": "ElzIUaQGadps"
      },
      "outputs": [],
      "source": [
        "import numpy as np\n",
        "import matplotlib.pyplot as plt\n",
        "import pandas as pd\n",
        "import os \n",
        "import tensorflow as tf\n",
        "import tensorflow_datasets as tfds\n",
        "from sklearn.preprocessing import MinMaxScaler"
      ]
    },
    {
      "cell_type": "code",
      "execution_count": 2,
      "metadata": {
        "id": "ECJYs_ANO0nO",
        "colab": {
          "base_uri": "https://localhost:8080/"
        },
        "outputId": "d0174f6a-fb31-4d69-d37f-c6cfc0b40710"
      },
      "outputs": [
        {
          "output_type": "stream",
          "name": "stdout",
          "text": [
            "Mounted at /content/drive\n"
          ]
        }
      ],
      "source": [
        "from google.colab import drive\n",
        "drive.mount('/content/drive')\n"
      ]
    },
    {
      "cell_type": "code",
      "execution_count": 3,
      "metadata": {
        "id": "vgwt0lhi9TqR",
        "colab": {
          "base_uri": "https://localhost:8080/"
        },
        "outputId": "8ba6f15a-4ac4-40a1-dd7d-dbcd6121167c"
      },
      "outputs": [
        {
          "output_type": "execute_result",
          "data": {
            "text/plain": [
              "<module 'tensorflow._api.v2.version' from '/usr/local/lib/python3.8/dist-packages/tensorflow/_api/v2/version/__init__.py'>"
            ]
          },
          "metadata": {},
          "execution_count": 3
        }
      ],
      "source": [
        "tf.version"
      ]
    },
    {
      "cell_type": "markdown",
      "metadata": {
        "id": "GCMYV6lun9x9"
      },
      "source": [
        "# PREPROCESSING"
      ]
    },
    {
      "cell_type": "markdown",
      "metadata": {
        "id": "5KZb3n9koEEl"
      },
      "source": [
        "Read IBM stock OHLC ( open, high, low, close) and S&P 500 bid/ask data. data into pandas dataframe."
      ]
    },
    {
      "cell_type": "code",
      "execution_count": 4,
      "metadata": {
        "id": "2-EtUNr9aypc",
        "colab": {
          "base_uri": "https://localhost:8080/",
          "height": 206
        },
        "outputId": "b89fc193-c5eb-43fd-cc8c-f11a49032e69"
      },
      "outputs": [
        {
          "output_type": "execute_result",
          "data": {
            "text/plain": [
              "         Date   Open    High     Low   Last   Close  Volume\n",
              "0  10-04-2002  357.1  365.05  357.10  362.0  360.95  108368\n",
              "1  11-04-2002  369.8  369.80  360.10  365.9  364.10  163537\n",
              "2  12-04-2002  366.0  376.80  355.00  357.5  357.70  252634\n",
              "3  15-04-2002  371.0  385.00  358.00  359.0  363.10  621402\n",
              "4  16-04-2002  363.0  366.00  352.65  358.0  356.35  248763"
            ],
            "text/html": [
              "\n",
              "  <div id=\"df-fa0560f0-ba33-47d3-8e9a-1fb4ce976493\">\n",
              "    <div class=\"colab-df-container\">\n",
              "      <div>\n",
              "<style scoped>\n",
              "    .dataframe tbody tr th:only-of-type {\n",
              "        vertical-align: middle;\n",
              "    }\n",
              "\n",
              "    .dataframe tbody tr th {\n",
              "        vertical-align: top;\n",
              "    }\n",
              "\n",
              "    .dataframe thead th {\n",
              "        text-align: right;\n",
              "    }\n",
              "</style>\n",
              "<table border=\"1\" class=\"dataframe\">\n",
              "  <thead>\n",
              "    <tr style=\"text-align: right;\">\n",
              "      <th></th>\n",
              "      <th>Date</th>\n",
              "      <th>Open</th>\n",
              "      <th>High</th>\n",
              "      <th>Low</th>\n",
              "      <th>Last</th>\n",
              "      <th>Close</th>\n",
              "      <th>Volume</th>\n",
              "    </tr>\n",
              "  </thead>\n",
              "  <tbody>\n",
              "    <tr>\n",
              "      <th>0</th>\n",
              "      <td>10-04-2002</td>\n",
              "      <td>357.1</td>\n",
              "      <td>365.05</td>\n",
              "      <td>357.10</td>\n",
              "      <td>362.0</td>\n",
              "      <td>360.95</td>\n",
              "      <td>108368</td>\n",
              "    </tr>\n",
              "    <tr>\n",
              "      <th>1</th>\n",
              "      <td>11-04-2002</td>\n",
              "      <td>369.8</td>\n",
              "      <td>369.80</td>\n",
              "      <td>360.10</td>\n",
              "      <td>365.9</td>\n",
              "      <td>364.10</td>\n",
              "      <td>163537</td>\n",
              "    </tr>\n",
              "    <tr>\n",
              "      <th>2</th>\n",
              "      <td>12-04-2002</td>\n",
              "      <td>366.0</td>\n",
              "      <td>376.80</td>\n",
              "      <td>355.00</td>\n",
              "      <td>357.5</td>\n",
              "      <td>357.70</td>\n",
              "      <td>252634</td>\n",
              "    </tr>\n",
              "    <tr>\n",
              "      <th>3</th>\n",
              "      <td>15-04-2002</td>\n",
              "      <td>371.0</td>\n",
              "      <td>385.00</td>\n",
              "      <td>358.00</td>\n",
              "      <td>359.0</td>\n",
              "      <td>363.10</td>\n",
              "      <td>621402</td>\n",
              "    </tr>\n",
              "    <tr>\n",
              "      <th>4</th>\n",
              "      <td>16-04-2002</td>\n",
              "      <td>363.0</td>\n",
              "      <td>366.00</td>\n",
              "      <td>352.65</td>\n",
              "      <td>358.0</td>\n",
              "      <td>356.35</td>\n",
              "      <td>248763</td>\n",
              "    </tr>\n",
              "  </tbody>\n",
              "</table>\n",
              "</div>\n",
              "      <button class=\"colab-df-convert\" onclick=\"convertToInteractive('df-fa0560f0-ba33-47d3-8e9a-1fb4ce976493')\"\n",
              "              title=\"Convert this dataframe to an interactive table.\"\n",
              "              style=\"display:none;\">\n",
              "        \n",
              "  <svg xmlns=\"http://www.w3.org/2000/svg\" height=\"24px\"viewBox=\"0 0 24 24\"\n",
              "       width=\"24px\">\n",
              "    <path d=\"M0 0h24v24H0V0z\" fill=\"none\"/>\n",
              "    <path d=\"M18.56 5.44l.94 2.06.94-2.06 2.06-.94-2.06-.94-.94-2.06-.94 2.06-2.06.94zm-11 1L8.5 8.5l.94-2.06 2.06-.94-2.06-.94L8.5 2.5l-.94 2.06-2.06.94zm10 10l.94 2.06.94-2.06 2.06-.94-2.06-.94-.94-2.06-.94 2.06-2.06.94z\"/><path d=\"M17.41 7.96l-1.37-1.37c-.4-.4-.92-.59-1.43-.59-.52 0-1.04.2-1.43.59L10.3 9.45l-7.72 7.72c-.78.78-.78 2.05 0 2.83L4 21.41c.39.39.9.59 1.41.59.51 0 1.02-.2 1.41-.59l7.78-7.78 2.81-2.81c.8-.78.8-2.07 0-2.86zM5.41 20L4 18.59l7.72-7.72 1.47 1.35L5.41 20z\"/>\n",
              "  </svg>\n",
              "      </button>\n",
              "      \n",
              "  <style>\n",
              "    .colab-df-container {\n",
              "      display:flex;\n",
              "      flex-wrap:wrap;\n",
              "      gap: 12px;\n",
              "    }\n",
              "\n",
              "    .colab-df-convert {\n",
              "      background-color: #E8F0FE;\n",
              "      border: none;\n",
              "      border-radius: 50%;\n",
              "      cursor: pointer;\n",
              "      display: none;\n",
              "      fill: #1967D2;\n",
              "      height: 32px;\n",
              "      padding: 0 0 0 0;\n",
              "      width: 32px;\n",
              "    }\n",
              "\n",
              "    .colab-df-convert:hover {\n",
              "      background-color: #E2EBFA;\n",
              "      box-shadow: 0px 1px 2px rgba(60, 64, 67, 0.3), 0px 1px 3px 1px rgba(60, 64, 67, 0.15);\n",
              "      fill: #174EA6;\n",
              "    }\n",
              "\n",
              "    [theme=dark] .colab-df-convert {\n",
              "      background-color: #3B4455;\n",
              "      fill: #D2E3FC;\n",
              "    }\n",
              "\n",
              "    [theme=dark] .colab-df-convert:hover {\n",
              "      background-color: #434B5C;\n",
              "      box-shadow: 0px 1px 3px 1px rgba(0, 0, 0, 0.15);\n",
              "      filter: drop-shadow(0px 1px 2px rgba(0, 0, 0, 0.3));\n",
              "      fill: #FFFFFF;\n",
              "    }\n",
              "  </style>\n",
              "\n",
              "      <script>\n",
              "        const buttonEl =\n",
              "          document.querySelector('#df-fa0560f0-ba33-47d3-8e9a-1fb4ce976493 button.colab-df-convert');\n",
              "        buttonEl.style.display =\n",
              "          google.colab.kernel.accessAllowed ? 'block' : 'none';\n",
              "\n",
              "        async function convertToInteractive(key) {\n",
              "          const element = document.querySelector('#df-fa0560f0-ba33-47d3-8e9a-1fb4ce976493');\n",
              "          const dataTable =\n",
              "            await google.colab.kernel.invokeFunction('convertToInteractive',\n",
              "                                                     [key], {});\n",
              "          if (!dataTable) return;\n",
              "\n",
              "          const docLinkHtml = 'Like what you see? Visit the ' +\n",
              "            '<a target=\"_blank\" href=https://colab.research.google.com/notebooks/data_table.ipynb>data table notebook</a>'\n",
              "            + ' to learn more about interactive tables.';\n",
              "          element.innerHTML = '';\n",
              "          dataTable['output_type'] = 'display_data';\n",
              "          await google.colab.output.renderOutput(dataTable, element);\n",
              "          const docLink = document.createElement('div');\n",
              "          docLink.innerHTML = docLinkHtml;\n",
              "          element.appendChild(docLink);\n",
              "        }\n",
              "      </script>\n",
              "    </div>\n",
              "  </div>\n",
              "  "
            ]
          },
          "metadata": {},
          "execution_count": 4
        }
      ],
      "source": [
        "\n",
        "df_hdfc = pd.read_csv('/content/drive/MyDrive/HEROMOTOCO.csv')\n",
        "\n",
        "#df_hdfc.columns = [\"Date\",\"Open\", \"High\", \"Low\", \"Last\", \"Close\", \"Volume\", \"turnover\"]\n",
        "#df_hdfc = df_hdfc.drop(columns=['Last', 'Volume'])\n",
        "\n",
        "df_hdfc.head()"
      ]
    },
    {
      "cell_type": "markdown",
      "metadata": {
        "id": "YeLQBOMmoZk1"
      },
      "source": [
        "Transform Bid/Ask data to OHLC format by taking average of both low and high counterparts."
      ]
    },
    {
      "cell_type": "code",
      "execution_count": 5,
      "metadata": {
        "id": "370gkYqZDwDb",
        "colab": {
          "base_uri": "https://localhost:8080/"
        },
        "outputId": "ab7b68f1-7b32-4593-8b31-cbb3f9edee42"
      },
      "outputs": [
        {
          "output_type": "execute_result",
          "data": {
            "text/plain": [
              "(4739, 7)"
            ]
          },
          "metadata": {},
          "execution_count": 5
        }
      ],
      "source": [
        "df_hdfc.shape       "
      ]
    },
    {
      "cell_type": "markdown",
      "metadata": {
        "id": "zwcwjFlyo_SA"
      },
      "source": [
        "**Create training data**"
      ]
    },
    {
      "cell_type": "code",
      "execution_count": 6,
      "metadata": {
        "id": "evU0tFrjxg4l"
      },
      "outputs": [],
      "source": [
        "df = df_hdfc\n"
      ]
    },
    {
      "cell_type": "code",
      "execution_count": 7,
      "metadata": {
        "id": "tDkos_NMd-wn",
        "colab": {
          "base_uri": "https://localhost:8080/",
          "height": 206
        },
        "outputId": "fabeaa65-f7d5-4e82-e8b6-00c837a3bea5"
      },
      "outputs": [
        {
          "output_type": "execute_result",
          "data": {
            "text/plain": [
              "         Date   Open    High     Low   Last   Close  Volume\n",
              "0  10-04-2002  357.1  365.05  357.10  362.0  360.95  108368\n",
              "1  11-04-2002  369.8  369.80  360.10  365.9  364.10  163537\n",
              "2  12-04-2002  366.0  376.80  355.00  357.5  357.70  252634\n",
              "3  15-04-2002  371.0  385.00  358.00  359.0  363.10  621402\n",
              "4  16-04-2002  363.0  366.00  352.65  358.0  356.35  248763"
            ],
            "text/html": [
              "\n",
              "  <div id=\"df-fc9159e4-ed56-4a61-aad5-c22fb45f5356\">\n",
              "    <div class=\"colab-df-container\">\n",
              "      <div>\n",
              "<style scoped>\n",
              "    .dataframe tbody tr th:only-of-type {\n",
              "        vertical-align: middle;\n",
              "    }\n",
              "\n",
              "    .dataframe tbody tr th {\n",
              "        vertical-align: top;\n",
              "    }\n",
              "\n",
              "    .dataframe thead th {\n",
              "        text-align: right;\n",
              "    }\n",
              "</style>\n",
              "<table border=\"1\" class=\"dataframe\">\n",
              "  <thead>\n",
              "    <tr style=\"text-align: right;\">\n",
              "      <th></th>\n",
              "      <th>Date</th>\n",
              "      <th>Open</th>\n",
              "      <th>High</th>\n",
              "      <th>Low</th>\n",
              "      <th>Last</th>\n",
              "      <th>Close</th>\n",
              "      <th>Volume</th>\n",
              "    </tr>\n",
              "  </thead>\n",
              "  <tbody>\n",
              "    <tr>\n",
              "      <th>0</th>\n",
              "      <td>10-04-2002</td>\n",
              "      <td>357.1</td>\n",
              "      <td>365.05</td>\n",
              "      <td>357.10</td>\n",
              "      <td>362.0</td>\n",
              "      <td>360.95</td>\n",
              "      <td>108368</td>\n",
              "    </tr>\n",
              "    <tr>\n",
              "      <th>1</th>\n",
              "      <td>11-04-2002</td>\n",
              "      <td>369.8</td>\n",
              "      <td>369.80</td>\n",
              "      <td>360.10</td>\n",
              "      <td>365.9</td>\n",
              "      <td>364.10</td>\n",
              "      <td>163537</td>\n",
              "    </tr>\n",
              "    <tr>\n",
              "      <th>2</th>\n",
              "      <td>12-04-2002</td>\n",
              "      <td>366.0</td>\n",
              "      <td>376.80</td>\n",
              "      <td>355.00</td>\n",
              "      <td>357.5</td>\n",
              "      <td>357.70</td>\n",
              "      <td>252634</td>\n",
              "    </tr>\n",
              "    <tr>\n",
              "      <th>3</th>\n",
              "      <td>15-04-2002</td>\n",
              "      <td>371.0</td>\n",
              "      <td>385.00</td>\n",
              "      <td>358.00</td>\n",
              "      <td>359.0</td>\n",
              "      <td>363.10</td>\n",
              "      <td>621402</td>\n",
              "    </tr>\n",
              "    <tr>\n",
              "      <th>4</th>\n",
              "      <td>16-04-2002</td>\n",
              "      <td>363.0</td>\n",
              "      <td>366.00</td>\n",
              "      <td>352.65</td>\n",
              "      <td>358.0</td>\n",
              "      <td>356.35</td>\n",
              "      <td>248763</td>\n",
              "    </tr>\n",
              "  </tbody>\n",
              "</table>\n",
              "</div>\n",
              "      <button class=\"colab-df-convert\" onclick=\"convertToInteractive('df-fc9159e4-ed56-4a61-aad5-c22fb45f5356')\"\n",
              "              title=\"Convert this dataframe to an interactive table.\"\n",
              "              style=\"display:none;\">\n",
              "        \n",
              "  <svg xmlns=\"http://www.w3.org/2000/svg\" height=\"24px\"viewBox=\"0 0 24 24\"\n",
              "       width=\"24px\">\n",
              "    <path d=\"M0 0h24v24H0V0z\" fill=\"none\"/>\n",
              "    <path d=\"M18.56 5.44l.94 2.06.94-2.06 2.06-.94-2.06-.94-.94-2.06-.94 2.06-2.06.94zm-11 1L8.5 8.5l.94-2.06 2.06-.94-2.06-.94L8.5 2.5l-.94 2.06-2.06.94zm10 10l.94 2.06.94-2.06 2.06-.94-2.06-.94-.94-2.06-.94 2.06-2.06.94z\"/><path d=\"M17.41 7.96l-1.37-1.37c-.4-.4-.92-.59-1.43-.59-.52 0-1.04.2-1.43.59L10.3 9.45l-7.72 7.72c-.78.78-.78 2.05 0 2.83L4 21.41c.39.39.9.59 1.41.59.51 0 1.02-.2 1.41-.59l7.78-7.78 2.81-2.81c.8-.78.8-2.07 0-2.86zM5.41 20L4 18.59l7.72-7.72 1.47 1.35L5.41 20z\"/>\n",
              "  </svg>\n",
              "      </button>\n",
              "      \n",
              "  <style>\n",
              "    .colab-df-container {\n",
              "      display:flex;\n",
              "      flex-wrap:wrap;\n",
              "      gap: 12px;\n",
              "    }\n",
              "\n",
              "    .colab-df-convert {\n",
              "      background-color: #E8F0FE;\n",
              "      border: none;\n",
              "      border-radius: 50%;\n",
              "      cursor: pointer;\n",
              "      display: none;\n",
              "      fill: #1967D2;\n",
              "      height: 32px;\n",
              "      padding: 0 0 0 0;\n",
              "      width: 32px;\n",
              "    }\n",
              "\n",
              "    .colab-df-convert:hover {\n",
              "      background-color: #E2EBFA;\n",
              "      box-shadow: 0px 1px 2px rgba(60, 64, 67, 0.3), 0px 1px 3px 1px rgba(60, 64, 67, 0.15);\n",
              "      fill: #174EA6;\n",
              "    }\n",
              "\n",
              "    [theme=dark] .colab-df-convert {\n",
              "      background-color: #3B4455;\n",
              "      fill: #D2E3FC;\n",
              "    }\n",
              "\n",
              "    [theme=dark] .colab-df-convert:hover {\n",
              "      background-color: #434B5C;\n",
              "      box-shadow: 0px 1px 3px 1px rgba(0, 0, 0, 0.15);\n",
              "      filter: drop-shadow(0px 1px 2px rgba(0, 0, 0, 0.3));\n",
              "      fill: #FFFFFF;\n",
              "    }\n",
              "  </style>\n",
              "\n",
              "      <script>\n",
              "        const buttonEl =\n",
              "          document.querySelector('#df-fc9159e4-ed56-4a61-aad5-c22fb45f5356 button.colab-df-convert');\n",
              "        buttonEl.style.display =\n",
              "          google.colab.kernel.accessAllowed ? 'block' : 'none';\n",
              "\n",
              "        async function convertToInteractive(key) {\n",
              "          const element = document.querySelector('#df-fc9159e4-ed56-4a61-aad5-c22fb45f5356');\n",
              "          const dataTable =\n",
              "            await google.colab.kernel.invokeFunction('convertToInteractive',\n",
              "                                                     [key], {});\n",
              "          if (!dataTable) return;\n",
              "\n",
              "          const docLinkHtml = 'Like what you see? Visit the ' +\n",
              "            '<a target=\"_blank\" href=https://colab.research.google.com/notebooks/data_table.ipynb>data table notebook</a>'\n",
              "            + ' to learn more about interactive tables.';\n",
              "          element.innerHTML = '';\n",
              "          dataTable['output_type'] = 'display_data';\n",
              "          await google.colab.output.renderOutput(dataTable, element);\n",
              "          const docLink = document.createElement('div');\n",
              "          docLink.innerHTML = docLinkHtml;\n",
              "          element.appendChild(docLink);\n",
              "        }\n",
              "      </script>\n",
              "    </div>\n",
              "  </div>\n",
              "  "
            ]
          },
          "metadata": {},
          "execution_count": 7
        }
      ],
      "source": [
        "\n",
        "df.head()"
      ]
    },
    {
      "cell_type": "markdown",
      "metadata": {
        "id": "1Xm-OPMBpJ2c"
      },
      "source": []
    },
    {
      "cell_type": "code",
      "execution_count": 8,
      "metadata": {
        "id": "ett7V56heRCw"
      },
      "outputs": [],
      "source": [
        "df_hdfc.drop([0], axis=0,inplace = True)"
      ]
    },
    {
      "cell_type": "markdown",
      "metadata": {
        "id": "H4BlD4ejpT_P"
      },
      "source": [
        "df_hdfc"
      ]
    },
    {
      "cell_type": "code",
      "execution_count": 9,
      "metadata": {
        "id": "ZKrDMMJE_jxJ",
        "colab": {
          "base_uri": "https://localhost:8080/",
          "height": 455
        },
        "outputId": "b58b6813-b3bb-4c6d-c75f-6acfbf7772b3"
      },
      "outputs": [
        {
          "output_type": "execute_result",
          "data": {
            "text/plain": [
              "               Open    High      Low     Last    Close   Volume\n",
              "Date                                                           \n",
              "2002-11-04   369.80   369.8   360.10   365.90   364.10   163537\n",
              "2002-12-04   366.00   376.8   355.00   357.50   357.70   252634\n",
              "2002-04-15   371.00   385.0   358.00   359.00   363.10   621402\n",
              "2002-04-16   363.00   366.0   352.65   358.00   356.35   248763\n",
              "2002-04-17   361.00   364.0   350.10   353.00   352.35   190451\n",
              "...             ...     ...      ...      ...      ...      ...\n",
              "2021-04-26  2860.05  2878.4  2830.00  2865.05  2864.55   831133\n",
              "2021-04-27  2875.00  2939.0  2870.25  2912.00  2905.50   811184\n",
              "2021-04-28  2928.00  3009.0  2915.05  2932.00  2926.25  1389833\n",
              "2021-04-29  2963.80  2963.8  2850.05  2857.00  2860.10  1009327\n",
              "2021-04-30  2834.80  2860.0  2805.00  2818.00  2819.15   670258\n",
              "\n",
              "[4738 rows x 6 columns]"
            ],
            "text/html": [
              "\n",
              "  <div id=\"df-a7770016-089d-4e34-a482-54435ed91d41\">\n",
              "    <div class=\"colab-df-container\">\n",
              "      <div>\n",
              "<style scoped>\n",
              "    .dataframe tbody tr th:only-of-type {\n",
              "        vertical-align: middle;\n",
              "    }\n",
              "\n",
              "    .dataframe tbody tr th {\n",
              "        vertical-align: top;\n",
              "    }\n",
              "\n",
              "    .dataframe thead th {\n",
              "        text-align: right;\n",
              "    }\n",
              "</style>\n",
              "<table border=\"1\" class=\"dataframe\">\n",
              "  <thead>\n",
              "    <tr style=\"text-align: right;\">\n",
              "      <th></th>\n",
              "      <th>Open</th>\n",
              "      <th>High</th>\n",
              "      <th>Low</th>\n",
              "      <th>Last</th>\n",
              "      <th>Close</th>\n",
              "      <th>Volume</th>\n",
              "    </tr>\n",
              "    <tr>\n",
              "      <th>Date</th>\n",
              "      <th></th>\n",
              "      <th></th>\n",
              "      <th></th>\n",
              "      <th></th>\n",
              "      <th></th>\n",
              "      <th></th>\n",
              "    </tr>\n",
              "  </thead>\n",
              "  <tbody>\n",
              "    <tr>\n",
              "      <th>2002-11-04</th>\n",
              "      <td>369.80</td>\n",
              "      <td>369.8</td>\n",
              "      <td>360.10</td>\n",
              "      <td>365.90</td>\n",
              "      <td>364.10</td>\n",
              "      <td>163537</td>\n",
              "    </tr>\n",
              "    <tr>\n",
              "      <th>2002-12-04</th>\n",
              "      <td>366.00</td>\n",
              "      <td>376.8</td>\n",
              "      <td>355.00</td>\n",
              "      <td>357.50</td>\n",
              "      <td>357.70</td>\n",
              "      <td>252634</td>\n",
              "    </tr>\n",
              "    <tr>\n",
              "      <th>2002-04-15</th>\n",
              "      <td>371.00</td>\n",
              "      <td>385.0</td>\n",
              "      <td>358.00</td>\n",
              "      <td>359.00</td>\n",
              "      <td>363.10</td>\n",
              "      <td>621402</td>\n",
              "    </tr>\n",
              "    <tr>\n",
              "      <th>2002-04-16</th>\n",
              "      <td>363.00</td>\n",
              "      <td>366.0</td>\n",
              "      <td>352.65</td>\n",
              "      <td>358.00</td>\n",
              "      <td>356.35</td>\n",
              "      <td>248763</td>\n",
              "    </tr>\n",
              "    <tr>\n",
              "      <th>2002-04-17</th>\n",
              "      <td>361.00</td>\n",
              "      <td>364.0</td>\n",
              "      <td>350.10</td>\n",
              "      <td>353.00</td>\n",
              "      <td>352.35</td>\n",
              "      <td>190451</td>\n",
              "    </tr>\n",
              "    <tr>\n",
              "      <th>...</th>\n",
              "      <td>...</td>\n",
              "      <td>...</td>\n",
              "      <td>...</td>\n",
              "      <td>...</td>\n",
              "      <td>...</td>\n",
              "      <td>...</td>\n",
              "    </tr>\n",
              "    <tr>\n",
              "      <th>2021-04-26</th>\n",
              "      <td>2860.05</td>\n",
              "      <td>2878.4</td>\n",
              "      <td>2830.00</td>\n",
              "      <td>2865.05</td>\n",
              "      <td>2864.55</td>\n",
              "      <td>831133</td>\n",
              "    </tr>\n",
              "    <tr>\n",
              "      <th>2021-04-27</th>\n",
              "      <td>2875.00</td>\n",
              "      <td>2939.0</td>\n",
              "      <td>2870.25</td>\n",
              "      <td>2912.00</td>\n",
              "      <td>2905.50</td>\n",
              "      <td>811184</td>\n",
              "    </tr>\n",
              "    <tr>\n",
              "      <th>2021-04-28</th>\n",
              "      <td>2928.00</td>\n",
              "      <td>3009.0</td>\n",
              "      <td>2915.05</td>\n",
              "      <td>2932.00</td>\n",
              "      <td>2926.25</td>\n",
              "      <td>1389833</td>\n",
              "    </tr>\n",
              "    <tr>\n",
              "      <th>2021-04-29</th>\n",
              "      <td>2963.80</td>\n",
              "      <td>2963.8</td>\n",
              "      <td>2850.05</td>\n",
              "      <td>2857.00</td>\n",
              "      <td>2860.10</td>\n",
              "      <td>1009327</td>\n",
              "    </tr>\n",
              "    <tr>\n",
              "      <th>2021-04-30</th>\n",
              "      <td>2834.80</td>\n",
              "      <td>2860.0</td>\n",
              "      <td>2805.00</td>\n",
              "      <td>2818.00</td>\n",
              "      <td>2819.15</td>\n",
              "      <td>670258</td>\n",
              "    </tr>\n",
              "  </tbody>\n",
              "</table>\n",
              "<p>4738 rows × 6 columns</p>\n",
              "</div>\n",
              "      <button class=\"colab-df-convert\" onclick=\"convertToInteractive('df-a7770016-089d-4e34-a482-54435ed91d41')\"\n",
              "              title=\"Convert this dataframe to an interactive table.\"\n",
              "              style=\"display:none;\">\n",
              "        \n",
              "  <svg xmlns=\"http://www.w3.org/2000/svg\" height=\"24px\"viewBox=\"0 0 24 24\"\n",
              "       width=\"24px\">\n",
              "    <path d=\"M0 0h24v24H0V0z\" fill=\"none\"/>\n",
              "    <path d=\"M18.56 5.44l.94 2.06.94-2.06 2.06-.94-2.06-.94-.94-2.06-.94 2.06-2.06.94zm-11 1L8.5 8.5l.94-2.06 2.06-.94-2.06-.94L8.5 2.5l-.94 2.06-2.06.94zm10 10l.94 2.06.94-2.06 2.06-.94-2.06-.94-.94-2.06-.94 2.06-2.06.94z\"/><path d=\"M17.41 7.96l-1.37-1.37c-.4-.4-.92-.59-1.43-.59-.52 0-1.04.2-1.43.59L10.3 9.45l-7.72 7.72c-.78.78-.78 2.05 0 2.83L4 21.41c.39.39.9.59 1.41.59.51 0 1.02-.2 1.41-.59l7.78-7.78 2.81-2.81c.8-.78.8-2.07 0-2.86zM5.41 20L4 18.59l7.72-7.72 1.47 1.35L5.41 20z\"/>\n",
              "  </svg>\n",
              "      </button>\n",
              "      \n",
              "  <style>\n",
              "    .colab-df-container {\n",
              "      display:flex;\n",
              "      flex-wrap:wrap;\n",
              "      gap: 12px;\n",
              "    }\n",
              "\n",
              "    .colab-df-convert {\n",
              "      background-color: #E8F0FE;\n",
              "      border: none;\n",
              "      border-radius: 50%;\n",
              "      cursor: pointer;\n",
              "      display: none;\n",
              "      fill: #1967D2;\n",
              "      height: 32px;\n",
              "      padding: 0 0 0 0;\n",
              "      width: 32px;\n",
              "    }\n",
              "\n",
              "    .colab-df-convert:hover {\n",
              "      background-color: #E2EBFA;\n",
              "      box-shadow: 0px 1px 2px rgba(60, 64, 67, 0.3), 0px 1px 3px 1px rgba(60, 64, 67, 0.15);\n",
              "      fill: #174EA6;\n",
              "    }\n",
              "\n",
              "    [theme=dark] .colab-df-convert {\n",
              "      background-color: #3B4455;\n",
              "      fill: #D2E3FC;\n",
              "    }\n",
              "\n",
              "    [theme=dark] .colab-df-convert:hover {\n",
              "      background-color: #434B5C;\n",
              "      box-shadow: 0px 1px 3px 1px rgba(0, 0, 0, 0.15);\n",
              "      filter: drop-shadow(0px 1px 2px rgba(0, 0, 0, 0.3));\n",
              "      fill: #FFFFFF;\n",
              "    }\n",
              "  </style>\n",
              "\n",
              "      <script>\n",
              "        const buttonEl =\n",
              "          document.querySelector('#df-a7770016-089d-4e34-a482-54435ed91d41 button.colab-df-convert');\n",
              "        buttonEl.style.display =\n",
              "          google.colab.kernel.accessAllowed ? 'block' : 'none';\n",
              "\n",
              "        async function convertToInteractive(key) {\n",
              "          const element = document.querySelector('#df-a7770016-089d-4e34-a482-54435ed91d41');\n",
              "          const dataTable =\n",
              "            await google.colab.kernel.invokeFunction('convertToInteractive',\n",
              "                                                     [key], {});\n",
              "          if (!dataTable) return;\n",
              "\n",
              "          const docLinkHtml = 'Like what you see? Visit the ' +\n",
              "            '<a target=\"_blank\" href=https://colab.research.google.com/notebooks/data_table.ipynb>data table notebook</a>'\n",
              "            + ' to learn more about interactive tables.';\n",
              "          element.innerHTML = '';\n",
              "          dataTable['output_type'] = 'display_data';\n",
              "          await google.colab.output.renderOutput(dataTable, element);\n",
              "          const docLink = document.createElement('div');\n",
              "          docLink.innerHTML = docLinkHtml;\n",
              "          element.appendChild(docLink);\n",
              "        }\n",
              "      </script>\n",
              "    </div>\n",
              "  </div>\n",
              "  "
            ]
          },
          "metadata": {},
          "execution_count": 9
        }
      ],
      "source": [
        "df['Date'] = pd.to_datetime(df['Date'], yearfirst=True)\n",
        "df_hdfc.set_index('Date')\n",
        "df.set_index('Date')"
      ]
    },
    {
      "cell_type": "code",
      "execution_count": 10,
      "metadata": {
        "id": "81HC0zVtDVWN"
      },
      "outputs": [],
      "source": [
        "df_concat = df_hdfc.dropna()"
      ]
    },
    {
      "cell_type": "code",
      "execution_count": 11,
      "metadata": {
        "id": "WC8Hx6aaO0nn",
        "colab": {
          "base_uri": "https://localhost:8080/"
        },
        "outputId": "9a2eef9a-6d47-4a13-e4af-f853e4df36c4"
      },
      "outputs": [
        {
          "output_type": "execute_result",
          "data": {
            "text/plain": [
              "Date      datetime64[ns]\n",
              "Open             float64\n",
              "High             float64\n",
              "Low              float64\n",
              "Last             float64\n",
              "Close            float64\n",
              "Volume             int64\n",
              "dtype: object"
            ]
          },
          "metadata": {},
          "execution_count": 11
        }
      ],
      "source": [
        "df.dtypes"
      ]
    },
    {
      "cell_type": "code",
      "execution_count": 12,
      "metadata": {
        "id": "NzNFDNElO0no"
      },
      "outputs": [],
      "source": [
        "df['Close'] = pd.to_numeric(df['Close'])\n",
        "df['High'] = pd.to_numeric(df['High'])\n",
        "df['Low'] = pd.to_numeric(df['Low'])\n",
        "df['Open'] = pd.to_numeric(df['Open'])\n"
      ]
    },
    {
      "cell_type": "code",
      "execution_count": 13,
      "metadata": {
        "colab": {
          "base_uri": "https://localhost:8080/",
          "height": 722
        },
        "id": "kUKLMW5kO0np",
        "outputId": "d30c7dc3-91dc-42e4-e39a-68506d7c627d"
      },
      "outputs": [
        {
          "output_type": "display_data",
          "data": {
            "text/plain": [
              "<Figure size 1368x864 with 1 Axes>"
            ],
            "image/png": "[encoded data removed]"
          },
          "metadata": {
            "needs_background": "light"
          }
        }
      ],
      "source": [
        "plt.figure(figsize = (19,12))\n",
        "plt.plot(range(df.shape[0]),(df['Close']))\n",
        "#plt.xticks(range(0,df.shape[0],500),df['Date'].loc[::500],rotation=45)\n",
        "plt.xlabel('Date',fontsize=18)\n",
        "plt.ylabel('Close Price',fontsize=18)\n",
        "plt.show()"
      ]
    },
    {
      "cell_type": "code",
      "execution_count": 14,
      "metadata": {
        "id": "p-qPtyFjO0nq",
        "outputId": "cde7b808-181b-4086-a2e5-c56626d8ff98",
        "colab": {
          "base_uri": "https://localhost:8080/"
        }
      },
      "outputs": [
        {
          "output_type": "execute_result",
          "data": {
            "text/plain": [
              "Date      datetime64[ns]\n",
              "Open             float64\n",
              "High             float64\n",
              "Low              float64\n",
              "Last             float64\n",
              "Close            float64\n",
              "Volume             int64\n",
              "dtype: object"
            ]
          },
          "metadata": {},
          "execution_count": 14
        }
      ],
      "source": [
        "df_concat.dtypes"
      ]
    },
    {
      "cell_type": "code",
      "execution_count": 15,
      "metadata": {
        "id": "xSGRZTh2g_0F"
      },
      "outputs": [],
      "source": [
        "SEQ_LEN = 100            \n",
        "\n",
        "FUTURE_PERIOD = 1\n",
        "\n",
        "RATIO_TO_PREDICT = \"Close\"\n"
      ]
    },
    {
      "cell_type": "code",
      "execution_count": 16,
      "metadata": {
        "id": "EeA2I_FVlcwm"
      },
      "outputs": [],
      "source": [
        "def classify(current, future):\n",
        "    if float(future) > float(current):\n",
        "        return 1\n",
        "    else:\n",
        "        return 0"
      ]
    },
    {
      "cell_type": "code",
      "execution_count": 17,
      "metadata": {
        "id": "YXPPgKGaO0nt"
      },
      "outputs": [],
      "source": [
        "df = df.drop(\"Date\", axis= 1)"
      ]
    },
    {
      "cell_type": "markdown",
      "metadata": {
        "id": "C88Bk2TFp3Ak"
      },
      "source": [
        "Splitting the data"
      ]
    },
    {
      "cell_type": "code",
      "execution_count": 18,
      "metadata": {
        "id": "fk3cwVeCiapH"
      },
      "outputs": [],
      "source": [
        "times = sorted(df.index.values)  # get the times\n",
        "last_10 = sorted(df.index.values)[-int(0.1*len(times))] \n",
        "last_20 = sorted(df.index.values)[-int(0.2*len(times))]\n",
        "\n",
        "test_df = df[(df.index >= last_10)]\n",
        "validation_df = df[(df.index >= last_20) & (df.index < last_10)]  \n",
        "train_df = df[(df.index < last_20)] "
      ]
    },
    {
      "cell_type": "code",
      "execution_count": 19,
      "metadata": {
        "id": "XFncT-6ci6Pk"
      },
      "outputs": [],
      "source": [
        "from collections import deque\n",
        "import numpy as np\n",
        "import random "
      ]
    },
    {
      "cell_type": "code",
      "execution_count": 20,
      "metadata": {
        "id": "F647kjbslJAU"
      },
      "outputs": [],
      "source": [
        "\n",
        "train_ = train_df.values\n",
        "valid_ = validation_df.values\n",
        "test_ = test_df.values"
      ]
    },
    {
      "cell_type": "code",
      "execution_count": 21,
      "metadata": {
        "colab": {
          "base_uri": "https://localhost:8080/"
        },
        "id": "gcGCdRjM7acd",
        "outputId": "a624fbd6-ae9c-4208-f2e0-dc06fb9b4481"
      },
      "outputs": [
        {
          "output_type": "stream",
          "name": "stdout",
          "text": [
            "train shape (3791, 6)\n",
            "valid shape (474, 6)\n",
            "test shape (473, 6)\n"
          ]
        }
      ],
      "source": [
        "print(\"train shape {0}\".format(train_.shape))\n",
        "print(\"valid shape {0}\".format(valid_.shape))\n",
        "print(\"test shape {0}\".format(test_.shape))"
      ]
    },
    {
      "cell_type": "code",
      "execution_count": 22,
      "metadata": {
        "id": "uA2kqAUb5bqL"
      },
      "outputs": [],
      "source": [
        "scaler = MinMaxScaler()\n",
        "scale_close = MinMaxScaler()"
      ]
    },
    {
      "cell_type": "code",
      "execution_count": 23,
      "metadata": {
        "colab": {
          "base_uri": "https://localhost:8080/"
        },
        "id": "1N9PmMcwIW-g",
        "outputId": "8b6d740e-08cd-4089-d2cf-b15dac410d48"
      },
      "outputs": [
        {
          "output_type": "execute_result",
          "data": {
            "text/plain": [
              "MinMaxScaler()"
            ]
          },
          "metadata": {},
          "execution_count": 23
        }
      ],
      "source": [
        "x = train_[:,3].copy()\n",
        "scale_close.fit(x.reshape(-1, 1))"
      ]
    },
    {
      "cell_type": "code",
      "execution_count": 24,
      "metadata": {
        "id": "-DEP34jj3hmW"
      },
      "outputs": [],
      "source": [
        "scaler.fit(train_)\n",
        "\n",
        "train_ = scaler.transform(train_)\n",
        "\n",
        "valid_ = scaler.transform(valid_)\n",
        "test_ = scaler.transform(test_)"
      ]
    },
    {
      "cell_type": "markdown",
      "metadata": {
        "id": "mouqDewlrj74"
      },
      "source": [
        "EMA --- Exponential Moving Average\n"
      ]
    },
    {
      "cell_type": "code",
      "execution_count": 25,
      "metadata": {
        "id": "ZJB9Vgra5mmf"
      },
      "outputs": [],
      "source": [
        "EMA = 0.0\n",
        "gamma = 0.1\n",
        "for ti in range(3791):\n",
        "    EMA = gamma*train_[ti] + (1-gamma)*EMA\n",
        "    train_[ti] = EMA\n",
        "\n",
        "all_mid_data = np.concatenate([train_,valid_, test_],axis=0)"
      ]
    },
    {
      "cell_type": "markdown",
      "metadata": {
        "id": "ItMMfh_Erx_-"
      },
      "source": [
        "100 timesteps \n"
      ]
    },
    {
      "cell_type": "code",
      "execution_count": 26,
      "metadata": {
        "id": "yvXFVqTa7ARc"
      },
      "outputs": [],
      "source": [
        "def split_data(data):\n",
        "    X = []\n",
        "    Y = []\n",
        "    for i in range(SEQ_LEN, len(data)-FUTURE_PERIOD+1):\n",
        "        X.append(data[i-SEQ_LEN:i])\n",
        "        Y.append(data[i+(FUTURE_PERIOD-1), 3])\n",
        "    return np.array(X), np.array(Y)"
      ]
    },
    {
      "cell_type": "code",
      "execution_count": 26,
      "metadata": {
        "id": "gGDiE7zddrJ1"
      },
      "outputs": [],
      "source": []
    },
    {
      "cell_type": "code",
      "execution_count": 27,
      "metadata": {
        "id": "OIC-mnEK9OBJ"
      },
      "outputs": [],
      "source": [
        "X_train, y_train = split_data(train_)\n",
        "X_test, y_test = split_data(test_)\n",
        "X_valid, y_valid = split_data(valid_)"
      ]
    },
    {
      "cell_type": "code",
      "execution_count": 28,
      "metadata": {
        "id": "IbI4Ux_x-vBk"
      },
      "outputs": [],
      "source": [
        "X_train = np.reshape(X_train, (X_train.shape[0], X_train.shape[1], 6))\n",
        "X_valid = np.reshape(X_valid, (X_valid.shape[0], X_valid.shape[1], 6))\n",
        "X_test = np.reshape(X_test, (X_test.shape[0], X_test.shape[1], 6))"
      ]
    },
    {
      "cell_type": "code",
      "execution_count": 29,
      "metadata": {
        "colab": {
          "base_uri": "https://localhost:8080/"
        },
        "id": "LaUb3PJB8Ud-",
        "outputId": "38fedd80-e179-4d93-d16c-b1d4ce729d86"
      },
      "outputs": [
        {
          "output_type": "execute_result",
          "data": {
            "text/plain": [
              "(3691,)"
            ]
          },
          "metadata": {},
          "execution_count": 29
        }
      ],
      "source": [
        "y_train.shape"
      ]
    },
    {
      "cell_type": "code",
      "execution_count": 30,
      "metadata": {
        "colab": {
          "base_uri": "https://localhost:8080/"
        },
        "id": "CJ0qmYjsvw1J",
        "outputId": "69e320a6-a173-4ba0-96f8-0d8302e14986"
      },
      "outputs": [
        {
          "output_type": "stream",
          "name": "stdout",
          "text": [
            "train shape (3691, 100, 6)\n",
            "valid shape (374, 100, 6)\n",
            "test shape (373, 100, 6)\n"
          ]
        }
      ],
      "source": [
        "print(\"train shape {0}\".format(X_train.shape))\n",
        "print(\"valid shape {0}\".format(X_valid.shape))\n",
        "print(\"test shape {0}\".format(X_test.shape))"
      ]
    },
    {
      "cell_type": "code",
      "execution_count": 31,
      "metadata": {
        "id": "1vAviyGG_KEw"
      },
      "outputs": [],
      "source": [
        "X_train_2, y_train_2 = split_data(train_)\n",
        "X_train_2 = np.reshape(X_train_2, (X_train_2.shape[0], X_train_2.shape[1], 6))"
      ]
    },
    {
      "cell_type": "code",
      "execution_count": 32,
      "metadata": {
        "colab": {
          "base_uri": "https://localhost:8080/",
          "height": 350
        },
        "id": "TS6MTZbH_wWN",
        "outputId": "fbc5e853-8187-4713-93ad-fa63ac049467"
      },
      "outputs": [
        {
          "output_type": "display_data",
          "data": {
            "text/plain": [
              "<Figure size 1080x360 with 1 Axes>"
            ],
            "image/png": "[encoded data removed]"
          },
          "metadata": {
            "needs_background": "light"
          }
        }
      ],
      "source": [
        "## show predictions\n",
        "plt.figure(figsize=(15, 5))\n",
        "\n",
        "plt.plot(np.arange(y_train_2.shape[0]), y_train_2, color='blue', label='train target')\n",
        "\n",
        "plt.plot(np.arange(y_train_2.shape[0], y_train_2.shape[0]+y_valid.shape[0]), y_valid,\n",
        "         color='gray', label='valid target')\n",
        "\n",
        "plt.plot(np.arange(y_train_2.shape[0]+y_valid.shape[0],\n",
        "                   y_train_2.shape[0]+y_valid.shape[0]+y_test.shape[0]),\n",
        "         y_test, color='black', label='test target')\n",
        "\n",
        "\n",
        "plt.title('Train set')\n",
        "plt.xlabel('time [minutes]')\n",
        "plt.ylabel('normalized price')\n",
        "plt.legend(loc='best');"
      ]
    },
    {
      "cell_type": "markdown",
      "metadata": {
        "id": "bOYZLeJL2lCM"
      },
      "source": [
        "# TRANSFORMER"
      ]
    },
    {
      "cell_type": "code",
      "execution_count": 33,
      "metadata": {
        "id": "nn9060nkHhp3"
      },
      "outputs": [],
      "source": [
        "from sklearn.utils import shuffle\n",
        "X_train, y_train = shuffle(X_train, y_train)"
      ]
    },
    {
      "cell_type": "code",
      "execution_count": 34,
      "metadata": {
        "id": "UifQZZMB_ysC"
      },
      "outputs": [],
      "source": [
        "EPOCHS = 45\n",
        "BATCH_SIZE = 64\n",
        "\n",
        "import time"
      ]
    },
    {
      "cell_type": "code",
      "execution_count": 35,
      "metadata": {
        "id": "tmCAbA6wHaga"
      },
      "outputs": [],
      "source": [
        "import random, os, sys\n",
        "import numpy as np\n",
        "from tensorflow.keras.models import *\n",
        "from tensorflow.keras.layers import *\n",
        "from tensorflow.keras.callbacks import *\n",
        "from tensorflow.keras.initializers import *\n",
        "import tensorflow as tf\n",
        "import tensorflow.keras.backend as K\n",
        "from tensorflow.python.keras.layers import Layer"
      ]
    },
    {
      "cell_type": "code",
      "execution_count": 36,
      "metadata": {
        "id": "2E7GXd_D2Jpk"
      },
      "outputs": [],
      "source": [
        "class LayerNormalization(Layer):\n",
        "    def __init__(self, eps=1e-6, **kwargs):\n",
        "        self.eps = eps\n",
        "        super(LayerNormalization, self).__init__(**kwargs)\n",
        "    def build(self, input_shape):\n",
        "        self.gamma = self.add_weight(name='gamma', shape=input_shape[-1:],initializer=Ones(), trainable=True)\n",
        "        self.beta = self.add_weight(name='beta', shape=input_shape[-1:],initializer=Zeros(), trainable=True)\n",
        "        super(LayerNormalization, self).build(input_shape)\n",
        "    def call(self, x):\n",
        "        mean = K.mean(x, axis=-1, keepdims=True)\n",
        "        std = K.std(x, axis=-1, keepdims=True)\n",
        "        return self.gamma * (x - mean) / (std + self.eps) + self.beta\n",
        "    def compute_output_shape(self, input_shape):\n",
        "        return input_shape\n"
      ]
    },
    {
      "cell_type": "code",
      "execution_count": 37,
      "metadata": {
        "id": "MAuxAh7GO0n7"
      },
      "outputs": [],
      "source": [
        "class ScaledDotProductAttention():\n",
        "    def __init__(self, d_model, attn_dropout=0.1):\n",
        "        self.temper = np.sqrt(d_model)\n",
        "        self.dropout = Dropout(attn_dropout)\n",
        "    def __call__(self, q, k, v, mask):\n",
        "        attn = Lambda(lambda x:K.batch_dot(x[0],x[1],axes=[2,2])/self.temper)([q, k])\n",
        "        if mask is not None:\n",
        "            mmask = Lambda(lambda x:(-1e+10)*(1-x))(mask)\n",
        "            attn = Add()([attn, mmask])\n",
        "        attn = Activation('softmax')(attn)\n",
        "        attn = self.dropout(attn)\n",
        "        output = Lambda(lambda x:K.batch_dot(x[0], x[1]))([attn, v])\n",
        "        return output, attn"
      ]
    },
    {
      "cell_type": "code",
      "execution_count": 38,
      "metadata": {
        "id": "tFUcNXlhO0n7"
      },
      "outputs": [],
      "source": [
        "class MultiHeadAttention():\n",
        "\n",
        "    def __init__(self, n_head, d_model, d_k, d_v, dropout, mode=0, use_norm=True):\n",
        "        self.mode = mode\n",
        "        self.n_head = n_head\n",
        "        self.d_k = d_k\n",
        "        self.d_v = d_v\n",
        "        self.dropout = dropout\n",
        "        self.qs_layer = Dense(n_head*d_k, use_bias=False)\n",
        "        self.ks_layer = Dense(n_head*d_k, use_bias=False)\n",
        "        self.vs_layer = Dense(n_head*d_v, use_bias=False)\n",
        "        self.attention = ScaledDotProductAttention(d_model)\n",
        "        self.layer_norm = LayerNormalization() if use_norm else None\n",
        "        self.w_o = TimeDistributed(Dense(d_model))\n",
        "\n",
        "    def __call__(self, q, k, v, mask=None):\n",
        "        d_k, d_v = self.d_k, self.d_v\n",
        "        n_head = self.n_head\n",
        "\n",
        "        if self.mode == 0:\n",
        "            qs = self.qs_layer(q)  # [batch_size, len_q, n_head*d_k]\n",
        "            ks = self.ks_layer(k)\n",
        "            vs = self.vs_layer(v)\n",
        "\n",
        "            def reshape1(x):\n",
        "                s = tf.shape(x)   # [batch_size, len_q, n_head * d_k]\n",
        "                x = tf.reshape(x, [s[0], s[1], n_head, d_k])\n",
        "                x = tf.transpose(x, [2, 0, 1, 3])  \n",
        "                x = tf.reshape(x, [-1, s[1], d_k])  # [n_head * batch_size, len_q, d_k]\n",
        "                return x\n",
        "            qs = Lambda(reshape1)(qs)\n",
        "            ks = Lambda(reshape1)(ks)\n",
        "            vs = Lambda(reshape1)(vs)\n",
        "\n",
        "            if mask is not None:\n",
        "                mask = Lambda(lambda x:K.repeat_elements(x, n_head, 0))(mask)\n",
        "            head, attn = self.attention(qs, ks, vs, mask=mask)  \n",
        "                \n",
        "            def reshape2(x):\n",
        "                s = tf.shape(x)   # [n_head * batch_size, len_v, d_v]\n",
        "                x = tf.reshape(x, [n_head, -1, s[1], s[2]]) \n",
        "                x = tf.transpose(x, [1, 2, 0, 3])\n",
        "                x = tf.reshape(x, [-1, s[1], n_head*d_v])  # [batch_size, len_v, n_head * d_v]\n",
        "                return x\n",
        "            head = Lambda(reshape2)(head)\n",
        "\n",
        "        outputs = self.w_o(head)\n",
        "        outputs = Dropout(self.dropout)(outputs)\n",
        "        if not self.layer_norm: return outputs, attn\n",
        "        # outputs = Add()([outputs, q]) # sl: fix\n",
        "        return self.layer_norm(outputs), attn"
      ]
    },
    {
      "cell_type": "code",
      "execution_count": 39,
      "metadata": {
        "id": "qKXAhdljO0n8"
      },
      "outputs": [],
      "source": [
        "class PositionwiseFeedForward():\n",
        "    def __init__(self, d_hid, d_inner_hid, dropout=0.1):\n",
        "        self.w_1 = Conv1D(d_inner_hid, 1, activation='relu')\n",
        "        self.w_2 = Conv1D(d_hid, 1)\n",
        "        self.layer_norm = LayerNormalization()\n",
        "        self.dropout = Dropout(dropout)\n",
        "    def __call__(self, x):\n",
        "        output = self.w_1(x) \n",
        "        output = self.w_2(output)\n",
        "        output = self.dropout(output)\n",
        "        output = Add()([output, x])\n",
        "        return self.layer_norm(output)\n",
        "\n",
        "    \n",
        "class EncoderLayer():\n",
        "    def __init__(self, d_model, d_inner_hid, n_head, d_k, d_v, dropout=0.1):\n",
        "        self.self_att_layer = MultiHeadAttention(n_head, d_model, d_k, d_v, dropout=dropout)\n",
        "        self.pos_ffn_layer  = PositionwiseFeedForward(d_model, d_inner_hid, dropout=dropout)\n",
        "    def __call__(self, enc_input, mask=None):\n",
        "        output, slf_attn = self.self_att_layer(enc_input, enc_input, enc_input, mask=mask)\n",
        "        output = self.pos_ffn_layer(output)\n",
        "        return output, slf_attn\n",
        "    \n",
        "    \n",
        "def GetPosEncodingMatrix(max_len, d_emb):\n",
        "    pos_enc = np.array([\n",
        "        [pos / np.power(10000, 2 * (j // 2) / d_emb) for j in range(d_emb)] \n",
        "        if pos != 0 else np.zeros(d_emb) \n",
        "            for pos in range(max_len)\n",
        "            ])\n",
        "    pos_enc[1:, 0::2] = np.sin(pos_enc[1:, 0::2]) # dim 2i\n",
        "    pos_enc[1:, 1::2] = np.cos(pos_enc[1:, 1::2]) # dim 2i+1\n",
        "    return pos_enc\n",
        "\n",
        "def GetPadMask(q, k):\n",
        "    ones = K.expand_dims(K.ones_like(q, 'float32'), -1)\n",
        "    mask = K.cast(K.expand_dims(K.not_equal(k, 0), 1), 'float32')\n",
        "    mask = K.batch_dot(ones, mask, axes=[2,1])\n",
        "    return mask\n",
        "\n",
        "def GetSubMask(s):\n",
        "    len_s = tf.shape(s)[1]\n",
        "    bs = tf.shape(s)[:1]\n",
        "    mask = K.cumsum(tf.eye(len_s, batch_shape=bs), 1)\n",
        "    return mask"
      ]
    },
    {
      "cell_type": "code",
      "source": [
        "class CustomeLearningSchedule(tf.keras.optimizers.schedules.LearningRateSchedule):\n",
        "    def __init__(self, d_model, warmup_steps=4000):\n",
        "        super(CustomeLearningSchedule, self).__init__()\n",
        "        self.d_model = tf.cast(d_model, tf.float32)\n",
        "        self.warmup_steps = warmup_steps\n",
        "    \n",
        "    def __call__(self, step):\n",
        "        param_1 = tf.math.rsqrt(step)\n",
        "        param_2 = step * (self.warmup_steps**(-1.5))\n",
        "        return tf.math.rsqrt(self.d_model) * tf.math.minimum(param_1, param_2)\n"
      ],
      "metadata": {
        "id": "cApXPZpgkGxb"
      },
      "execution_count": 40,
      "outputs": []
    },
    {
      "cell_type": "code",
      "source": [
        "sample_learning_rate = CustomeLearningSchedule(d_model=128)\n",
        "\n",
        "plt.plot(sample_learning_rate(tf.range(200000, dtype=tf.float32)))\n",
        "plt.ylabel(\"Learning Rate\")\n",
        "plt.xlabel(\"Train Step\")\n"
      ],
      "metadata": {
        "colab": {
          "base_uri": "https://localhost:8080/",
          "height": 297
        },
        "id": "btkbw6xMkHCU",
        "outputId": "c10e0ffc-3db0-4ba6-e3fa-a8390a643eb9"
      },
      "execution_count": 41,
      "outputs": [
        {
          "output_type": "execute_result",
          "data": {
            "text/plain": [
              "Text(0.5, 0, 'Train Step')"
            ]
          },
          "metadata": {},
          "execution_count": 41
        },
        {
          "output_type": "display_data",
          "data": {
            "text/plain": [
              "<Figure size 432x288 with 1 Axes>"
            ],
            "image/png": "[encoded data removed]"
          },
          "metadata": {
            "needs_background": "light"
          }
        }
      ]
    },
    {
      "cell_type": "code",
      "source": [
        "D_MODEL=300\n",
        "\n",
        "lr = CustomeLearningSchedule(D_MODEL)\n",
        "\n",
        "optimizer = tf.keras.optimizers.Adam(learning_rate=lr,\n",
        "                                     beta_1=0.9,\n",
        "                                     beta_2=0.98,\n",
        "                                     epsilon=1e-9)"
      ],
      "metadata": {
        "id": "aGAeUmXRkHSs"
      },
      "execution_count": 42,
      "outputs": []
    },
    {
      "cell_type": "code",
      "source": [
        "def build_model():\n",
        "    inp = Input(shape = (SEQ_LEN, 6))\n",
        "\n",
        "    x = Bidirectional(LSTM(128, return_sequences=True))(inp)\n",
        "    x = Bidirectional(LSTM(64, return_sequences=True))(x) \n",
        "        \n",
        "    #for i in range(2):\n",
        "    x, self_attn = EncoderLayer(\n",
        "            d_model=D_MODEL,\n",
        "            d_inner_hid=512, \n",
        "            n_head=4, \n",
        "            d_k=64,\n",
        "            d_v=64, \n",
        "            dropout=0.2)(x)\n",
        "        \n",
        "    avg_pool = GlobalAveragePooling1D()(x)\n",
        "    max_pool = GlobalMaxPooling1D()(x)\n",
        "    conc = concatenate([avg_pool, max_pool])\n",
        "    conc = Dense(128, activation=\"relu\")(conc)\n",
        "    x = Dense(1, activation=\"sigmoid\")(conc)      \n",
        "\n",
        "    model = Model(inputs = inp, outputs = x)\n",
        "    model.compile(\n",
        "        loss = \"mean_squared_error\",  \n",
        "        optimizer = optimizer)\n",
        "    \n",
        "    return model"
      ],
      "metadata": {
        "id": "947rbPpckTNj"
      },
      "execution_count": 43,
      "outputs": []
    },
    {
      "cell_type": "code",
      "source": [
        "multi_head = build_model()\n",
        "#multi_head.summary()\n"
      ],
      "metadata": {
        "id": "THp_r70SkTaa",
        "colab": {
          "base_uri": "https://localhost:8080/"
        },
        "outputId": "c9877c57-9819-4ce9-9620-e7c5d1689196"
      },
      "execution_count": 44,
      "outputs": [
        {
          "output_type": "stream",
          "name": "stderr",
          "text": [
            "WARNING:tensorflow:The following Variables were used in a Lambda layer's call (tf.__operators__.add_1), but are not present in its tracked objects:   <tf.Variable 'layer_normalization/beta:0' shape=(300,) dtype=float32>. This is a strong indication that the Lambda layer should be rewritten as a subclassed Layer.\n",
            "WARNING:tensorflow:The following Variables were used in a Lambda layer's call (tf.__operators__.add_3), but are not present in its tracked objects:   <tf.Variable 'layer_normalization_1/beta:0' shape=(300,) dtype=float32>. This is a strong indication that the Lambda layer should be rewritten as a subclassed Layer.\n"
          ]
        }
      ]
    },
    {
      "cell_type": "code",
      "source": [
        "#tf.keras.utils.plot_model(multi_head, \n",
        " #                         to_file=\"multi_head_net.png\", \n",
        "#                          show_shapes=True)\n"
      ],
      "metadata": {
        "id": "bWp4ydCdkTtk"
      },
      "execution_count": 45,
      "outputs": []
    },
    {
      "cell_type": "code",
      "source": [
        "#callback = EarlyStopping(monitor='val_loss',patience=3,restore_best_weights=True)"
      ],
      "metadata": {
        "id": "qEQqh0u0kT8k"
      },
      "execution_count": 46,
      "outputs": []
    },
    {
      "cell_type": "code",
      "source": [
        "history = multi_head.fit(x=X_train,y=y_train,batch_size=BATCH_SIZE,epochs=EPOCHS,validation_data=(X_valid, y_valid), )\n"
      ],
      "metadata": {
        "colab": {
          "base_uri": "https://localhost:8080/"
        },
        "id": "x-3H8RLdkUN3",
        "outputId": "d4af0637-8cb1-4ffc-cb0b-00775e9178bd"
      },
      "execution_count": null,
      "outputs": [
        {
          "output_type": "stream",
          "name": "stdout",
          "text": [
            "Epoch 1/45\n",
            "58/58 [==============================] - 92s 1s/step - loss: 0.0519 - val_loss: 0.0184\n",
            "Epoch 2/45\n",
            "58/58 [==============================] - 79s 1s/step - loss: 0.0060 - val_loss: 0.0084\n",
            "Epoch 3/45\n",
            "58/58 [==============================] - 77s 1s/step - loss: 0.0021 - val_loss: 0.0078\n",
            "Epoch 4/45\n",
            " 8/58 [===>..........................] - ETA: 1:05 - loss: 0.0016"
          ]
        }
      ]
    },
    {
      "cell_type": "code",
      "source": [
        "multi_head.save_weights('./checkpoints/final_checkpoint_1')\n"
      ],
      "metadata": {
        "id": "sD-Y6SRfkUeC"
      },
      "execution_count": null,
      "outputs": []
    },
    {
      "cell_type": "code",
      "source": [
        "multi_head.load_weights('./checkpoints/final_checkpoint_1')"
      ],
      "metadata": {
        "id": "Sw-G_nZoo6s4"
      },
      "execution_count": null,
      "outputs": []
    },
    {
      "cell_type": "code",
      "source": [
        "predicted_stock_price_multi_head = multi_head.predict(X_test)\n",
        "predicted_stock_price_multi_head.shape\n"
      ],
      "metadata": {
        "id": "_s_-JjdDo66k"
      },
      "execution_count": null,
      "outputs": []
    },
    {
      "cell_type": "code",
      "source": [
        "predicted_stock_price = np.vstack((np.full((60,1), np.nan), predicted_stock_price_multi_head))\n"
      ],
      "metadata": {
        "id": "svoqUSgDo7KE"
      },
      "execution_count": null,
      "outputs": []
    },
    {
      "cell_type": "code",
      "source": [
        "plt.plot(y_test, color = 'black', label = 'RELIANCE Stock Price')\n",
        "plt.title('Actual Price', fontsize=3)\n",
        "#plt.xticks(range(0,df.shape[0],50),df['Date'].loc[::50],rotation=45)\n",
        "plt.xlabel('DateTime')\n",
        "plt.ylabel('Close Price')\n",
        "plt.legend(fontsize=18)\n",
        "plt.show()\n"
      ],
      "metadata": {
        "id": "2ppda1nOo7ZH"
      },
      "execution_count": null,
      "outputs": []
    },
    {
      "cell_type": "code",
      "source": [
        "plt.plot(predicted_stock_price, color = 'green', label = 'Predicted Price')\n",
        "plt.title('Close Price Prediction', fontsize=3)\n",
        "#plt.xticks(range(0,df.shape[0],50),df['Date'].loc[::50],rotation=45)\n",
        "plt.xlabel('DateTime')\n",
        "plt.ylabel('Close Price')\n",
        "plt.legend(fontsize=18)\n",
        "plt.show()\n"
      ],
      "metadata": {
        "id": "Dv9q478BbBXd"
      },
      "execution_count": null,
      "outputs": []
    }
  ],
  "metadata": {
    "accelerator": "GPU",
    "colab": {
      "provenance": []
    },
    "kernelspec": {
      "display_name": "Python 3 (ipykernel)",
      "language": "python",
      "name": "python3"
    },
    "language_info": {
      "codemirror_mode": {
        "name": "ipython",
        "version": 3
      },
      "file_extension": ".py",
      "mimetype": "text/x-python",
      "name": "python",
      "nbconvert_exporter": "python",
      "pygments_lexer": "ipython3",
      "version": "3.10.6"
    },
    "gpuClass": "standard"
  },
  "nbformat": 4,
  "nbformat_minor": 0
}